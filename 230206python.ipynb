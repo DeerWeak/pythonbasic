{
 "cells": [
  {
   "cell_type": "markdown",
   "id": "c6dfafd2-20e4-438d-8b93-e49070166d24",
   "metadata": {},
   "source": [
    "## 머신러닝의 의의\n",
    "\n",
    "데이터 분석의 의의: 인간의 의사결정에 도움이 되는 것\n",
    "기존의 통계학: 숫자에 강함\n",
    "\n",
    "### 머신러닝 학습 방법\n",
    "학습의 의미: 깔끔하게 분류할 수 있는 선을 긋는 것.\n",
    "\n",
    "### 지도 학습\n",
    "정답에 근거한 학습 데이터에서 모델을 학습하여 데이터 예측\n",
    "연속적인 값 출력: 회귀 분석(regression)\n",
    "이산적입 값 출력: 분류(classification)\n",
    "\n",
    "\n",
    "### 비지도 학습\n",
    "정답이 없는 데이터를 기반으로\n",
    "\n",
    "특성행렬은 관례적으로 X에 저장\n",
    "2차원 배열 구조를 사용. 주로 numpy이용\n",
    "대상 벡터는 관례적으로 y에 저장\n"
   ]
  },
  {
   "cell_type": "code",
   "execution_count": null,
   "id": "cc004508-bf56-408a-b89c-2a02bf49b047",
   "metadata": {},
   "outputs": [],
   "source": [
    "# "
   ]
  }
 ],
 "metadata": {
  "kernelspec": {
   "display_name": "Python 3 (ipykernel)",
   "language": "python",
   "name": "python3"
  },
  "language_info": {
   "codemirror_mode": {
    "name": "ipython",
    "version": 3
   },
   "file_extension": ".py",
   "mimetype": "text/x-python",
   "name": "python",
   "nbconvert_exporter": "python",
   "pygments_lexer": "ipython3",
   "version": "3.9.13"
  }
 },
 "nbformat": 4,
 "nbformat_minor": 5
}
