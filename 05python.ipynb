{
 "cells": [
  {
   "cell_type": "markdown",
   "id": "a68e5aa9-486f-4018-bfc8-e4b5f9002347",
   "metadata": {},
   "source": [
    "### 퀴즈 2"
   ]
  },
  {
   "cell_type": "code",
   "execution_count": 4,
   "id": "73a7ec63-a7a1-43d8-bb2f-3410b62710c3",
   "metadata": {},
   "outputs": [
    {
     "name": "stdout",
     "output_type": "stream",
     "text": [
      "[5, 6, 7, 8, 9]\n"
     ]
    }
   ],
   "source": [
    "a = list(range(5, 10, 1))\n",
    "print(a)"
   ]
  },
  {
   "cell_type": "code",
   "execution_count": 3,
   "id": "66ac921f-1d38-480a-8296-244fa27773fd",
   "metadata": {},
   "outputs": [
    {
     "name": "stdout",
     "output_type": "stream",
     "text": [
      "<list_reverseiterator object at 0x000001F57DEC8F10>\n"
     ]
    }
   ],
   "source": [
    "print(reversed(a))"
   ]
  },
  {
   "cell_type": "code",
   "execution_count": 6,
   "id": "69656c35-9ca4-42a3-b538-d423b61424d8",
   "metadata": {},
   "outputs": [
    {
     "name": "stdout",
     "output_type": "stream",
     "text": [
      "None\n"
     ]
    }
   ],
   "source": [
    "print(a.reverse())"
   ]
  },
  {
   "cell_type": "code",
   "execution_count": 32,
   "id": "eb79b251-6b54-441f-a544-215c9dd94a8c",
   "metadata": {},
   "outputs": [
    {
     "name": "stdin",
     "output_type": "stream",
     "text": [
      "현재 시간을 입력하세요:  02:33\n"
     ]
    },
    {
     "name": "stdout",
     "output_type": "stream",
     "text": [
      "정각이 아닙니다.\n"
     ]
    }
   ],
   "source": [
    "a = input(\"현재 시간을 입력하세요: \").split(':')\n",
    "if a[1] == '00':\n",
    "    print(\"정각입니다.\")\n",
    "else:\n",
    "    print(\"정각이 아닙니다.\")"
   ]
  },
  {
   "cell_type": "code",
   "execution_count": null,
   "id": "560de7ab-faff-4076-82db-9c580a6ff41f",
   "metadata": {},
   "outputs": [
    {
     "name": "stdout",
     "output_type": "stream",
     "text": [
      "[1, 2, '짝', 4, 5, '짝', 7, 8, '짝', 10]\n"
     ]
    }
   ],
   "source": [
    "list_a = [1, 2, 3, 4, 5, 6, 7, 8, 9, 10]\n",
    "for i in range(2, 10, 3):\n",
    "    list_a[i] = '짝'\n",
    "print(list_a)"
   ]
  },
  {
   "cell_type": "code",
   "execution_count": 35,
   "id": "777cad7c-8a52-45d8-9d38-2be02286a6b4",
   "metadata": {},
   "outputs": [
    {
     "name": "stdout",
     "output_type": "stream",
     "text": [
      "[1, 2, '짝', 4, 5, '짝', 7, 8, '짝', 10]\n"
     ]
    }
   ],
   "source": [
    "list_a = list(range(1, 11))\n",
    "list_a[2::3] = [\"짝\"] * len(list_a[2::3]) #슬라이싱으로 값 넣으려면 개수가 맞아야 함\n",
    "print(list_a)"
   ]
  },
  {
   "cell_type": "code",
   "execution_count": 36,
   "id": "b4ccd748-963b-4afa-92f2-223e7bed3144",
   "metadata": {},
   "outputs": [
    {
     "data": {
      "text/plain": [
       "[-1, '가', 100.2]"
      ]
     },
     "execution_count": 36,
     "metadata": {},
     "output_type": "execute_result"
    }
   ],
   "source": [
    "#'10 9 8 7'.split()\n",
    "#[0] * 10\n",
    "#list(range(10))\n",
    "#10, 20, 30\n",
    "[-1, '가', 100.2]"
   ]
  },
  {
   "cell_type": "code",
   "execution_count": 37,
   "id": "74ddf7e5-910d-406f-9431-a3ab4013e3dc",
   "metadata": {},
   "outputs": [
    {
     "name": "stdout",
     "output_type": "stream",
     "text": [
      "1부터 10까지 홀수의 합은 25입니다.\n"
     ]
    }
   ],
   "source": [
    "sum=0\n",
    "for i in range(1, 11, 2):\n",
    "    sum = sum + i\n",
    "print(\"1부터 10까지 홀수의 합은 \", sum, \"입니다.\", sep=\"\")"
   ]
  },
  {
   "cell_type": "code",
   "execution_count": 38,
   "id": "d8aa6a8a-d600-4e53-a7d9-06d48f2d3aac",
   "metadata": {},
   "outputs": [
    {
     "data": {
      "text/plain": [
       "(-10, -7, -4, -1, 2, 5, 8)"
      ]
     },
     "execution_count": 38,
     "metadata": {},
     "output_type": "execute_result"
    }
   ],
   "source": [
    "tuple(range(-10, 10, 3))"
   ]
  },
  {
   "cell_type": "markdown",
   "id": "db9a36f5-7547-41ce-9110-1c59168ec824",
   "metadata": {},
   "source": [
    "### 23.01.09 월 수업"
   ]
  },
  {
   "cell_type": "code",
   "execution_count": 41,
   "id": "7fb778b8-604d-4ed1-b4a0-8716da4c17be",
   "metadata": {},
   "outputs": [
    {
     "name": "stdout",
     "output_type": "stream",
     "text": [
      "*****\n",
      "\n",
      "*****\n",
      "\n",
      "*****\n",
      "\n",
      "*****\n",
      "\n",
      "*****\n",
      "\n"
     ]
    }
   ],
   "source": [
    "for i in range(5):\n",
    "    for j in range(5):\n",
    "        print(\"*\", end=\"\")\n",
    "    print(\"\\n\")"
   ]
  },
  {
   "cell_type": "code",
   "execution_count": 57,
   "id": "0b1764a6-ffcb-4894-a4d4-07e18eedb32a",
   "metadata": {},
   "outputs": [
    {
     "name": "stdout",
     "output_type": "stream",
     "text": [
      "\n",
      "\n",
      "*\n",
      "\n",
      "**\n",
      "\n",
      "***\n",
      "\n",
      "****\n",
      "\n",
      "*****\n",
      "\n",
      "******\n",
      "\n",
      "*******\n",
      "\n",
      "********\n",
      "\n",
      "*********\n",
      "\n"
     ]
    }
   ],
   "source": [
    "for i in range(0, 10, 1):\n",
    "    for j in range(i):\n",
    "        print(\"*\", end=\"\")\n",
    "    print(\"\\n\")"
   ]
  },
  {
   "cell_type": "code",
   "execution_count": 59,
   "id": "82f315c5-398f-41bd-a162-9cc2831a1e30",
   "metadata": {},
   "outputs": [
    {
     "name": "stdout",
     "output_type": "stream",
     "text": [
      "Hello World!\n",
      "Hello World!\n",
      "Hello World!\n",
      "Hello World!\n",
      "Hello World!\n",
      "Hello World!\n",
      "Hello World!\n",
      "Hello World!\n",
      "Hello World!\n",
      "Hello World!\n"
     ]
    }
   ],
   "source": [
    "i =0\n",
    "while i<10:\n",
    "    print(\"Hello World!\")\n",
    "    i +=1"
   ]
  },
  {
   "cell_type": "code",
   "execution_count": 62,
   "id": "9c3ee401-6359-41ee-90a7-1432c817c02f",
   "metadata": {},
   "outputs": [
    {
     "name": "stdin",
     "output_type": "stream",
     "text": [
      "반복할 횟수를 입력하세요:  5\n"
     ]
    },
    {
     "name": "stdout",
     "output_type": "stream",
     "text": [
      "Hello world 5\n",
      "Hello world 4\n",
      "Hello world 3\n",
      "Hello world 2\n",
      "Hello world 1\n"
     ]
    }
   ],
   "source": [
    "count = int(input(\"반복할 횟수를 입력하세요: \"))\n",
    "while( count > 0):\n",
    "    print(\"Hello world\", count)\n",
    "    count -= 1"
   ]
  },
  {
   "cell_type": "code",
   "execution_count": 66,
   "id": "9f902a66-390f-4e28-9370-2dbe7bbf5672",
   "metadata": {},
   "outputs": [
    {
     "name": "stdout",
     "output_type": "stream",
     "text": [
      "2\t4\t6\t8\t10\t12\t14\t16\t18\t20\t22\t24\t26\t28\t30\t32\t34\t36\t38\t40\t42\t44\t46\t48\t50\t52\t54\t56\t58\t60\t62\t64\t66\t68\t70\t72\t74\t76\t78\t80\t82\t84\t86\t88\t90\t92\t94\t96\t98\t100\t"
     ]
    }
   ],
   "source": [
    "i=2\n",
    "while i <= 100:\n",
    "    print(i, end=\"\\t\")\n",
    "    i += 2"
   ]
  },
  {
   "cell_type": "code",
   "execution_count": 73,
   "id": "efd98060-d9bf-438d-a414-07208d250a63",
   "metadata": {},
   "outputs": [
    {
     "name": "stdin",
     "output_type": "stream",
     "text": [
      "구구단을 알려드립니다. 숫자를 입력하세요:  9\n"
     ]
    },
    {
     "name": "stdout",
     "output_type": "stream",
     "text": [
      "9 * 1 = 9\n",
      "9 * 2 = 18\n",
      "9 * 3 = 27\n",
      "9 * 4 = 36\n",
      "9 * 5 = 45\n",
      "9 * 6 = 54\n",
      "9 * 7 = 63\n",
      "9 * 8 = 72\n",
      "9 * 9 = 81\n"
     ]
    }
   ],
   "source": [
    "i=1\n",
    "num = int(input(\"구구단을 알려드립니다. 숫자를 입력하세요: \"))\n",
    "while i <= 9:\n",
    "    print(num, \"*\", i, \"=\", num*i)\n",
    "    i = i + 1"
   ]
  },
  {
   "cell_type": "code",
   "execution_count": 90,
   "id": "a0fb127e-da02-4635-bb19-e79a06ce4277",
   "metadata": {},
   "outputs": [
    {
     "name": "stdin",
     "output_type": "stream",
     "text": [
      "학생의 수: 3\n",
      "1번 학생의 점수: 77\n",
      "2번 학생의 점수: 88\n",
      "3번 학생의 점수: 99\n"
     ]
    },
    {
     "name": "stdout",
     "output_type": "stream",
     "text": [
      "평균: 88.0점\n"
     ]
    }
   ],
   "source": [
    "num = int(input(\"학생의 수:\"))\n",
    "i=1\n",
    "sum=0\n",
    "while i <= num:\n",
    "    score = int(input(str(i) + \"번 학생의 점수:\"))\n",
    "    sum += score\n",
    "    i += 1\n",
    "print(\"평균: \", sum/num, \"점\", sep=\"\") "
   ]
  },
  {
   "cell_type": "markdown",
   "id": "aa05cc5c-237c-401f-8546-f580cca6f384",
   "metadata": {},
   "source": []
  }
 ],
 "metadata": {
  "kernelspec": {
   "display_name": "Python 3 (ipykernel)",
   "language": "python",
   "name": "python3"
  },
  "language_info": {
   "codemirror_mode": {
    "name": "ipython",
    "version": 3
   },
   "file_extension": ".py",
   "mimetype": "text/x-python",
   "name": "python",
   "nbconvert_exporter": "python",
   "pygments_lexer": "ipython3",
   "version": "3.9.13"
  }
 },
 "nbformat": 4,
 "nbformat_minor": 5
}
