{
 "cells": [
  {
   "cell_type": "markdown",
   "id": "a68e5aa9-486f-4018-bfc8-e4b5f9002347",
   "metadata": {},
   "source": [
    "### 퀴즈 2"
   ]
  },
  {
   "cell_type": "code",
   "execution_count": 4,
   "id": "73a7ec63-a7a1-43d8-bb2f-3410b62710c3",
   "metadata": {},
   "outputs": [
    {
     "name": "stdout",
     "output_type": "stream",
     "text": [
      "[5, 6, 7, 8, 9]\n"
     ]
    }
   ],
   "source": [
    "a = list(range(5, 10, 1))\n",
    "print(a)"
   ]
  },
  {
   "cell_type": "code",
   "execution_count": 3,
   "id": "66ac921f-1d38-480a-8296-244fa27773fd",
   "metadata": {},
   "outputs": [
    {
     "name": "stdout",
     "output_type": "stream",
     "text": [
      "<list_reverseiterator object at 0x000001F57DEC8F10>\n"
     ]
    }
   ],
   "source": [
    "print(reversed(a))"
   ]
  },
  {
   "cell_type": "code",
   "execution_count": 6,
   "id": "69656c35-9ca4-42a3-b538-d423b61424d8",
   "metadata": {},
   "outputs": [
    {
     "name": "stdout",
     "output_type": "stream",
     "text": [
      "None\n"
     ]
    }
   ],
   "source": [
    "print(a.reverse())"
   ]
  },
  {
   "cell_type": "code",
   "execution_count": 32,
   "id": "eb79b251-6b54-441f-a544-215c9dd94a8c",
   "metadata": {},
   "outputs": [
    {
     "name": "stdin",
     "output_type": "stream",
     "text": [
      "현재 시간을 입력하세요:  02:33\n"
     ]
    },
    {
     "name": "stdout",
     "output_type": "stream",
     "text": [
      "정각이 아닙니다.\n"
     ]
    }
   ],
   "source": [
    "a = input(\"현재 시간을 입력하세요: \").split(':')\n",
    "if a[1] == '00':\n",
    "    print(\"정각입니다.\")\n",
    "else:\n",
    "    print(\"정각이 아닙니다.\")"
   ]
  },
  {
   "cell_type": "code",
   "execution_count": null,
   "id": "560de7ab-faff-4076-82db-9c580a6ff41f",
   "metadata": {},
   "outputs": [
    {
     "name": "stdout",
     "output_type": "stream",
     "text": [
      "[1, 2, '짝', 4, 5, '짝', 7, 8, '짝', 10]\n"
     ]
    }
   ],
   "source": [
    "list_a = [1, 2, 3, 4, 5, 6, 7, 8, 9, 10]\n",
    "for i in range(2, 10, 3):\n",
    "    list_a[i] = '짝'\n",
    "print(list_a)"
   ]
  },
  {
   "cell_type": "code",
   "execution_count": 35,
   "id": "777cad7c-8a52-45d8-9d38-2be02286a6b4",
   "metadata": {},
   "outputs": [
    {
     "name": "stdout",
     "output_type": "stream",
     "text": [
      "[1, 2, '짝', 4, 5, '짝', 7, 8, '짝', 10]\n"
     ]
    }
   ],
   "source": [
    "list_a = list(range(1, 11))\n",
    "list_a[2::3] = [\"짝\"] * len(list_a[2::3]) #슬라이싱으로 값 넣으려면 개수가 맞아야 함\n",
    "print(list_a)"
   ]
  },
  {
   "cell_type": "code",
   "execution_count": 36,
   "id": "b4ccd748-963b-4afa-92f2-223e7bed3144",
   "metadata": {},
   "outputs": [
    {
     "data": {
      "text/plain": [
       "[-1, '가', 100.2]"
      ]
     },
     "execution_count": 36,
     "metadata": {},
     "output_type": "execute_result"
    }
   ],
   "source": [
    "#'10 9 8 7'.split()\n",
    "#[0] * 10\n",
    "#list(range(10))\n",
    "#10, 20, 30\n",
    "[-1, '가', 100.2]"
   ]
  },
  {
   "cell_type": "code",
   "execution_count": 37,
   "id": "74ddf7e5-910d-406f-9431-a3ab4013e3dc",
   "metadata": {},
   "outputs": [
    {
     "name": "stdout",
     "output_type": "stream",
     "text": [
      "1부터 10까지 홀수의 합은 25입니다.\n"
     ]
    }
   ],
   "source": [
    "sum=0\n",
    "for i in range(1, 11, 2):\n",
    "    sum = sum + i\n",
    "print(\"1부터 10까지 홀수의 합은 \", sum, \"입니다.\", sep=\"\")"
   ]
  },
  {
   "cell_type": "code",
   "execution_count": 38,
   "id": "d8aa6a8a-d600-4e53-a7d9-06d48f2d3aac",
   "metadata": {},
   "outputs": [
    {
     "data": {
      "text/plain": [
       "(-10, -7, -4, -1, 2, 5, 8)"
      ]
     },
     "execution_count": 38,
     "metadata": {},
     "output_type": "execute_result"
    }
   ],
   "source": [
    "tuple(range(-10, 10, 3))"
   ]
  },
  {
   "cell_type": "markdown",
   "id": "db9a36f5-7547-41ce-9110-1c59168ec824",
   "metadata": {},
   "source": [
    "### 23.01.09 월 수업"
   ]
  },
  {
   "cell_type": "code",
   "execution_count": 41,
   "id": "7fb778b8-604d-4ed1-b4a0-8716da4c17be",
   "metadata": {},
   "outputs": [
    {
     "name": "stdout",
     "output_type": "stream",
     "text": [
      "*****\n",
      "\n",
      "*****\n",
      "\n",
      "*****\n",
      "\n",
      "*****\n",
      "\n",
      "*****\n",
      "\n"
     ]
    }
   ],
   "source": [
    "for i in range(5):\n",
    "    for j in range(5):\n",
    "        print(\"*\", end=\"\")\n",
    "    print(\"\\n\")"
   ]
  },
  {
   "cell_type": "code",
   "execution_count": 57,
   "id": "0b1764a6-ffcb-4894-a4d4-07e18eedb32a",
   "metadata": {},
   "outputs": [
    {
     "name": "stdout",
     "output_type": "stream",
     "text": [
      "\n",
      "\n",
      "*\n",
      "\n",
      "**\n",
      "\n",
      "***\n",
      "\n",
      "****\n",
      "\n",
      "*****\n",
      "\n",
      "******\n",
      "\n",
      "*******\n",
      "\n",
      "********\n",
      "\n",
      "*********\n",
      "\n"
     ]
    }
   ],
   "source": [
    "for i in range(0, 10, 1):\n",
    "    for j in range(i):\n",
    "        print(\"*\", end=\"\")\n",
    "    print(\"\\n\")"
   ]
  },
  {
   "cell_type": "code",
   "execution_count": 59,
   "id": "82f315c5-398f-41bd-a162-9cc2831a1e30",
   "metadata": {},
   "outputs": [
    {
     "name": "stdout",
     "output_type": "stream",
     "text": [
      "Hello World!\n",
      "Hello World!\n",
      "Hello World!\n",
      "Hello World!\n",
      "Hello World!\n",
      "Hello World!\n",
      "Hello World!\n",
      "Hello World!\n",
      "Hello World!\n",
      "Hello World!\n"
     ]
    }
   ],
   "source": [
    "i =0\n",
    "while i<10:\n",
    "    print(\"Hello World!\")\n",
    "    i +=1"
   ]
  },
  {
   "cell_type": "code",
   "execution_count": 62,
   "id": "9c3ee401-6359-41ee-90a7-1432c817c02f",
   "metadata": {},
   "outputs": [
    {
     "name": "stdin",
     "output_type": "stream",
     "text": [
      "반복할 횟수를 입력하세요:  5\n"
     ]
    },
    {
     "name": "stdout",
     "output_type": "stream",
     "text": [
      "Hello world 5\n",
      "Hello world 4\n",
      "Hello world 3\n",
      "Hello world 2\n",
      "Hello world 1\n"
     ]
    }
   ],
   "source": [
    "count = int(input(\"반복할 횟수를 입력하세요: \"))\n",
    "while( count > 0):\n",
    "    print(\"Hello world\", count)\n",
    "    count -= 1"
   ]
  },
  {
   "cell_type": "code",
   "execution_count": 66,
   "id": "9f902a66-390f-4e28-9370-2dbe7bbf5672",
   "metadata": {},
   "outputs": [
    {
     "name": "stdout",
     "output_type": "stream",
     "text": [
      "2\t4\t6\t8\t10\t12\t14\t16\t18\t20\t22\t24\t26\t28\t30\t32\t34\t36\t38\t40\t42\t44\t46\t48\t50\t52\t54\t56\t58\t60\t62\t64\t66\t68\t70\t72\t74\t76\t78\t80\t82\t84\t86\t88\t90\t92\t94\t96\t98\t100\t"
     ]
    }
   ],
   "source": [
    "i=2\n",
    "while i <= 100:\n",
    "    print(i, end=\"\\t\")\n",
    "    i += 2"
   ]
  },
  {
   "cell_type": "code",
   "execution_count": 73,
   "id": "efd98060-d9bf-438d-a414-07208d250a63",
   "metadata": {},
   "outputs": [
    {
     "name": "stdin",
     "output_type": "stream",
     "text": [
      "구구단을 알려드립니다. 숫자를 입력하세요:  9\n"
     ]
    },
    {
     "name": "stdout",
     "output_type": "stream",
     "text": [
      "9 * 1 = 9\n",
      "9 * 2 = 18\n",
      "9 * 3 = 27\n",
      "9 * 4 = 36\n",
      "9 * 5 = 45\n",
      "9 * 6 = 54\n",
      "9 * 7 = 63\n",
      "9 * 8 = 72\n",
      "9 * 9 = 81\n"
     ]
    }
   ],
   "source": [
    "i=1\n",
    "num = int(input(\"구구단을 알려드립니다. 숫자를 입력하세요: \"))\n",
    "while i <= 9:\n",
    "    print(num, \"*\", i, \"=\", num*i)\n",
    "    i = i + 1"
   ]
  },
  {
   "cell_type": "code",
   "execution_count": 100,
   "id": "a0fb127e-da02-4635-bb19-e79a06ce4277",
   "metadata": {},
   "outputs": [
    {
     "name": "stdin",
     "output_type": "stream",
     "text": [
      "학생의 수: 3\n",
      "1번 학생의 점수: 77\n",
      "2번 학생의 점수: 88\n",
      "3번 학생의 점수: 99\n"
     ]
    },
    {
     "name": "stdout",
     "output_type": "stream",
     "text": [
      "평균: 33.0점\n"
     ]
    }
   ],
   "source": [
    "num = int(input(\"학생의 수:\"))\n",
    "i=1\n",
    "sum=0\n",
    "while i <= num:\n",
    "    sum = int(input(str(i) + \"번 학생의 점수:\"))\n",
    "    i += 1\n",
    "print(\"평균: \", sum/num, \"점\", sep=\"\") "
   ]
  },
  {
   "cell_type": "code",
   "execution_count": 101,
   "id": "2ce1af19-fc40-462d-9666-bcfee155e52b",
   "metadata": {},
   "outputs": [
    {
     "name": "stdout",
     "output_type": "stream",
     "text": [
      "97\n",
      "100\n",
      "77\n"
     ]
    }
   ],
   "source": [
    "scores=(97, 100 , 77)\n",
    "\n",
    "for _ in range(len(scores)):\n",
    "    print(scores[_])"
   ]
  },
  {
   "cell_type": "code",
   "execution_count": 5,
   "id": "b4b22745-a985-46cf-ba7f-41729bec5ddf",
   "metadata": {},
   "outputs": [
    {
     "name": "stdout",
     "output_type": "stream",
     "text": [
      "79.0\n"
     ]
    }
   ],
   "source": [
    "# A학급의 수학 점수가 다음과 같을 때 while문 조건식에 len() 함수를 사용하여\n",
    "# 이 학급의 평균 점수를 구하는 프로그램을 구현해보세요.\n",
    "class_a = (70, 60, 55, 75, 95, 90, 80, 80, 85, 100)\n",
    "sum=0; i=0\n",
    "while i < len(class_a):\n",
    "    sum += class_a[i]\n",
    "    i+=1\n",
    "print(sum/len(class_a))"
   ]
  },
  {
   "cell_type": "code",
   "execution_count": 9,
   "id": "45934eeb-790a-4342-bf44-84509548f461",
   "metadata": {},
   "outputs": [
    {
     "name": "stdout",
     "output_type": "stream",
     "text": [
      "0 1 2 3 4 5 6 7 8 9 10 "
     ]
    }
   ],
   "source": [
    "#break문\n",
    "\n",
    "for _ in range(10000):\n",
    "    print(_, end=\" \")\n",
    "    if _ == 10:\n",
    "        break"
   ]
  },
  {
   "cell_type": "code",
   "execution_count": 13,
   "id": "071d911f-bfa7-4c04-bc17-288c9df07676",
   "metadata": {},
   "outputs": [
    {
     "name": "stdout",
     "output_type": "stream",
     "text": [
      "5050\n"
     ]
    }
   ],
   "source": [
    "i=0\n",
    "total =0\n",
    "while True:\n",
    "    total += i\n",
    "    i += 1\n",
    "    if i > 100:\n",
    "        break\n",
    "print(total)"
   ]
  },
  {
   "cell_type": "code",
   "execution_count": 1,
   "id": "eb47244b-d6e0-4128-8b08-276cf3968da0",
   "metadata": {},
   "outputs": [
    {
     "name": "stdin",
     "output_type": "stream",
     "text": [
      "q를 입력하면 종료됩니다. i\n",
      "q를 입력하면 종료됩니다. e\n",
      "q를 입력하면 종료됩니다. q\n"
     ]
    },
    {
     "name": "stdout",
     "output_type": "stream",
     "text": [
      "프로그램을 종료합니다.\n"
     ]
    }
   ],
   "source": [
    "while True:\n",
    "    input_value = input(\"q를 입력하면 종료됩니다.\")\n",
    "    if input_value == \"q\": break\n",
    "print(\"프로그램을 종료합니다.\")"
   ]
  },
  {
   "cell_type": "code",
   "execution_count": 7,
   "id": "0a97adc8-d7e3-4f7d-9252-a1989ca662e8",
   "metadata": {},
   "outputs": [
    {
     "name": "stdout",
     "output_type": "stream",
     "text": [
      "3 13 23 33 43 53 63 73 83 93 "
     ]
    }
   ],
   "source": [
    "i=0\n",
    "while True:\n",
    "    if i % 10 != 3:\n",
    "        i+=1\n",
    "        continue\n",
    "    if i > 100:\n",
    "        break\n",
    "    print(i, end=\" \")\n",
    "    i += 1"
   ]
  },
  {
   "cell_type": "code",
   "execution_count": 22,
   "id": "fd94ef4a-2b73-41bc-9ef8-054bddd37882",
   "metadata": {},
   "outputs": [
    {
     "name": "stdout",
     "output_type": "stream",
     "text": [
      "1 2 3 4 5 6 7 8 9 10 "
     ]
    }
   ],
   "source": [
    "for i in range(1, 11):\n",
    "    print(i, end=\" \")"
   ]
  },
  {
   "cell_type": "code",
   "execution_count": 29,
   "id": "ae2b90df-0bc3-406b-9e93-6461a803baae",
   "metadata": {},
   "outputs": [
    {
     "name": "stdin",
     "output_type": "stream",
     "text": [
      "시작하는 정수 입력:  2\n",
      "끝나는 정수 입력:  10\n"
     ]
    },
    {
     "name": "stdout",
     "output_type": "stream",
     "text": [
      "54\n"
     ]
    }
   ],
   "source": [
    "start = int(input(\"시작하는 정수 입력: \"))\n",
    "end = int(input(\"끝나는 정수 입력: \"))\n",
    "total = 0\n",
    "for i in range(start, end+1):\n",
    "    total += i\n",
    "print(total)"
   ]
  },
  {
   "cell_type": "code",
   "execution_count": 33,
   "id": "cc4fdc48-650e-4e8f-aed8-3910c563ad22",
   "metadata": {},
   "outputs": [],
   "source": [
    "# fstring print(f\"{n}부터 {m}까지.\")"
   ]
  },
  {
   "cell_type": "code",
   "execution_count": 39,
   "id": "9befc89a-1854-4ddf-905e-de69a9c61c6c",
   "metadata": {},
   "outputs": [
    {
     "name": "stdin",
     "output_type": "stream",
     "text": [
      "시작하는 정수 입력:  2\n",
      "끝나는 정수 입력:  10\n"
     ]
    },
    {
     "name": "stdout",
     "output_type": "stream",
     "text": [
      "2부터 10까지의 합은 54입니다.\n"
     ]
    }
   ],
   "source": [
    "start = int(input(\"시작하는 정수 입력: \"))\n",
    "end = int(input(\"끝나는 정수 입력: \"))\n",
    "i=start\n",
    "total=0\n",
    "while i <= end:\n",
    "    total = total + i\n",
    "    i+=1\n",
    "    \n",
    "print(f\"{start}부터 {end}까지의 합은 {total}입니다.\")"
   ]
  },
  {
   "cell_type": "code",
   "execution_count": 49,
   "id": "478bfcec-e6e1-4635-ae66-29441ad75304",
   "metadata": {},
   "outputs": [
    {
     "name": "stdin",
     "output_type": "stream",
     "text": [
      "시작하는 정수 입력:  4\n",
      "끝나는 정수 입력:  7\n"
     ]
    },
    {
     "name": "stdout",
     "output_type": "stream",
     "text": [
      "4부터 7 사이의 짝수 제곱의 합은 52입니다.\n"
     ]
    }
   ],
   "source": [
    "start = int(input(\"시작하는 정수 입력: \"))\n",
    "end = int(input(\"끝나는 정수 입력: \"))\n",
    "total = 0\n",
    "for i in range(start, end+1):\n",
    "    if i%2==0:\n",
    "        total = total + i**2\n",
    "print(f\"{start}부터 {end} 사이의 짝수 제곱의 합은 {total}입니다.\")"
   ]
  },
  {
   "cell_type": "code",
   "execution_count": 50,
   "id": "6f95d04d-2e8c-4e21-9390-2374297f0995",
   "metadata": {},
   "outputs": [
    {
     "name": "stdin",
     "output_type": "stream",
     "text": [
      "시작하는 정수 입력:  4\n",
      "끝나는 정수 입력:  7\n"
     ]
    },
    {
     "name": "stdout",
     "output_type": "stream",
     "text": [
      "4부터 7 사이의 짝수 제곱의 합은 52입니다.\n"
     ]
    }
   ],
   "source": [
    "start = int(input(\"시작하는 정수 입력: \"))\n",
    "end = int(input(\"끝나는 정수 입력: \"))\n",
    "total = 0\n",
    "i=start\n",
    "while i <= end:\n",
    "    if i%2==0:\n",
    "        total += i**2\n",
    "    i += 2\n",
    "    \n",
    "print(f\"{start}부터 {end} 사이의 짝수 제곱의 합은 {total}입니다.\")     "
   ]
  },
  {
   "cell_type": "code",
   "execution_count": 51,
   "id": "2f1e54ad-f2b5-42a9-ac04-5ce7cd439da3",
   "metadata": {},
   "outputs": [
    {
     "name": "stdout",
     "output_type": "stream",
     "text": [
      "79.0\n"
     ]
    }
   ],
   "source": [
    "Kor = [70, 60, 55, 75, 95, 90, 80, 80, 85, 100]\n",
    "total = 0\n",
    "for i in range(len(Kor)): # for score in Kor:\n",
    "    total += Kor[i] #  total += score\n",
    "print(total/len(Kor))"
   ]
  },
  {
   "cell_type": "code",
   "execution_count": 53,
   "id": "5a708d23-3de2-4802-aa28-fce2b10ea883",
   "metadata": {},
   "outputs": [
    {
     "name": "stdout",
     "output_type": "stream",
     "text": [
      "79.0\n"
     ]
    }
   ],
   "source": [
    "Kor = [70, 60, 55, 75, 95, 90, 80, 80, 85, 100]\n",
    "total=0\n",
    "i=0\n",
    "while i<len(Kor):\n",
    "    total += Kor[i]\n",
    "    i+=1\n",
    "print(total/len(Kor))"
   ]
  },
  {
   "cell_type": "code",
   "execution_count": 62,
   "id": "5c245360-c56c-407d-aab2-7337f4a0ea08",
   "metadata": {},
   "outputs": [
    {
     "name": "stdout",
     "output_type": "stream",
     "text": [
      "결과는 233168입니다.\n"
     ]
    }
   ],
   "source": [
    "total=0\n",
    "for i in range(1, 1000):\n",
    "    if i%3==0 or i%5==0:\n",
    "        total += i\n",
    "        \n",
    "print(f\"결과는 {total}입니다.\")"
   ]
  },
  {
   "cell_type": "code",
   "execution_count": 63,
   "id": "e8878d06-dec0-43eb-b2c5-da566363d366",
   "metadata": {},
   "outputs": [
    {
     "name": "stdout",
     "output_type": "stream",
     "text": [
      "결과는 233168입니다.\n"
     ]
    }
   ],
   "source": [
    "total=0\n",
    "i=0\n",
    "while i < 1000:\n",
    "    if i%3==0 or i%5==0:\n",
    "        total += i\n",
    "    i+=1\n",
    "print(f\"결과는 {total}입니다.\")"
   ]
  },
  {
   "cell_type": "code",
   "execution_count": null,
   "id": "4bef2cb0-f717-4c28-9c56-cc027ee000b7",
   "metadata": {},
   "outputs": [],
   "source": []
  }
 ],
 "metadata": {
  "kernelspec": {
   "display_name": "Python 3 (ipykernel)",
   "language": "python",
   "name": "python3"
  },
  "language_info": {
   "codemirror_mode": {
    "name": "ipython",
    "version": 3
   },
   "file_extension": ".py",
   "mimetype": "text/x-python",
   "name": "python",
   "nbconvert_exporter": "python",
   "pygments_lexer": "ipython3",
   "version": "3.9.13"
  }
 },
 "nbformat": 4,
 "nbformat_minor": 5
}
