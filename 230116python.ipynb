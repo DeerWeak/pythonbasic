{
 "cells": [
  {
   "cell_type": "markdown",
   "id": "1f828916-7321-44b7-82bc-6abd9cdc5329",
   "metadata": {},
   "source": [
    "### copy() 메서드는 서로 다른 객체로 복사"
   ]
  },
  {
   "cell_type": "code",
   "execution_count": 1,
   "id": "57d7d417-a8c2-4d13-beb6-ae2142433c73",
   "metadata": {},
   "outputs": [],
   "source": [
    "### 얕은 복사: 같은 주소값을 가지는 채로 복사\n",
    "### 깊은 복사: import copy, .deepcopy() 사용\n",
    "### 전혀 다른 메모리 공간을 할당하여 복사. 값은 같으나(==) 객체는 다름"
   ]
  },
  {
   "cell_type": "code",
   "execution_count": 2,
   "id": "8b580e1c-789e-45e5-991d-9827e53c0670",
   "metadata": {},
   "outputs": [
    {
     "name": "stdout",
     "output_type": "stream",
     "text": [
      "1\n",
      "2\n",
      "3\n",
      "4\n",
      "5\n",
      "3\n",
      "4\n"
     ]
    }
   ],
   "source": [
    "easy_list = [[1, 2, 3, 4, 5], [3, 4]]\n",
    "for item in easy_list:\n",
    "    for i in item:\n",
    "        print(i)"
   ]
  },
  {
   "cell_type": "markdown",
   "id": "c514792c-f8c4-4272-8280-1229046aa12f",
   "metadata": {},
   "source": [
    "### add(), remove(), discard(), pop()\n",
    "### set.clear(), .len(), .union, .intersection, .difference"
   ]
  },
  {
   "cell_type": "code",
   "execution_count": 3,
   "id": "ae7469d2-84a4-4621-9576-b02db071f68b",
   "metadata": {},
   "outputs": [
    {
     "data": {
      "text/plain": [
       "'B'"
      ]
     },
     "execution_count": 3,
     "metadata": {},
     "output_type": "execute_result"
    }
   ],
   "source": [
    "score = 90\n",
    "'A' if 90<score<=100 else 'B' if 80<score else 'C'"
   ]
  },
  {
   "cell_type": "code",
   "execution_count": 14,
   "id": "688b3190-8c48-4751-b9a9-8df641a99c63",
   "metadata": {},
   "outputs": [],
   "source": [
    "# class\n",
    "class Student:\n",
    "    def __init__(self):\n",
    "        self.hello = \"안녕하세요.\"\n",
    "        \n",
    "    def greeting(self):\n",
    "        print(self.hello)"
   ]
  },
  {
   "cell_type": "code",
   "execution_count": 15,
   "id": "70fdbbcb-bfec-48ea-8f6b-3c650b45cfe3",
   "metadata": {},
   "outputs": [
    {
     "name": "stdout",
     "output_type": "stream",
     "text": [
      "안녕하세요.\n",
      "안녕하세요.\n",
      "학생A\n",
      "안녕하세요.\n"
     ]
    }
   ],
   "source": [
    "#stu_a, stu_b는 독립적으로 존재\n",
    "stu_a = Student()\n",
    "stu_b = Student()\n",
    "\n",
    "stu_a.name = \"학생A\"\n",
    "stu_a.hello = \"안녕하세요.\"\n",
    "\n",
    "stu_a.greeting()\n",
    "print(stu_a.hello)\n",
    "print(stu_a.name)\n",
    "print(stu_b.hello)"
   ]
  },
  {
   "cell_type": "code",
   "execution_count": 19,
   "id": "b8235f55-75b2-4f01-a3ad-428c2d5daa58",
   "metadata": {},
   "outputs": [],
   "source": [
    "class Person:\n",
    "    def __init__(self, name, age):\n",
    "        self.name = name\n",
    "        self.age = age"
   ]
  },
  {
   "cell_type": "code",
   "execution_count": 20,
   "id": "3cadf16b-c9e7-4aae-b34a-1ba424cbe58a",
   "metadata": {},
   "outputs": [],
   "source": [
    "p1 = Person(\"name1\", 40)\n",
    "p2 = Person(\"name2\", 32)"
   ]
  },
  {
   "cell_type": "code",
   "execution_count": 21,
   "id": "143a7d61-7174-4f72-9d29-9054756c7fbf",
   "metadata": {},
   "outputs": [
    {
     "data": {
      "text/plain": [
       "{'name': 'name1', 'age': 40}"
      ]
     },
     "execution_count": 21,
     "metadata": {},
     "output_type": "execute_result"
    }
   ],
   "source": [
    "p1.__dict__"
   ]
  },
  {
   "cell_type": "code",
   "execution_count": 23,
   "id": "1b8a108d-2827-4d63-aa89-45912da2fd96",
   "metadata": {},
   "outputs": [
    {
     "data": {
      "text/plain": [
       "{'name': 'name2', 'age': 32}"
      ]
     },
     "execution_count": 23,
     "metadata": {},
     "output_type": "execute_result"
    }
   ],
   "source": [
    "p2.__dict__"
   ]
  },
  {
   "cell_type": "code",
   "execution_count": 26,
   "id": "2cb154b5-4e00-4fec-b9ad-732a6e36696d",
   "metadata": {},
   "outputs": [],
   "source": [
    "class Person1:\n",
    "    def __init__(self, name, age, address):\n",
    "        self.hello = \"안녕하세요.\"\n",
    "        self.name = name\n",
    "        self.age = age\n",
    "        self.address = address\n",
    "        \n",
    "    def greeting(self):\n",
    "        print(f\"{self.hello} 제 이름은 {self.name}입니다.\")"
   ]
  },
  {
   "cell_type": "code",
   "execution_count": 53,
   "id": "c9cf935d-fe3a-4fd7-a95f-6f93053aea46",
   "metadata": {},
   "outputs": [
    {
     "ename": "NameError",
     "evalue": "name 'Person1' is not defined",
     "output_type": "error",
     "traceback": [
      "\u001b[1;31m---------------------------------------------------------------------------\u001b[0m",
      "\u001b[1;31mNameError\u001b[0m                                 Traceback (most recent call last)",
      "\u001b[1;32m~\\AppData\\Local\\Temp\\ipykernel_15976\\1182794157.py\u001b[0m in \u001b[0;36m<module>\u001b[1;34m\u001b[0m\n\u001b[1;32m----> 1\u001b[1;33m \u001b[0mmaria\u001b[0m \u001b[1;33m=\u001b[0m \u001b[0mPerson1\u001b[0m\u001b[1;33m(\u001b[0m\u001b[1;34m\"마리아\"\u001b[0m\u001b[1;33m,\u001b[0m \u001b[1;36m23\u001b[0m\u001b[1;33m,\u001b[0m \u001b[1;34m\"서울시 마포구\"\u001b[0m\u001b[1;33m)\u001b[0m\u001b[1;33m\u001b[0m\u001b[1;33m\u001b[0m\u001b[0m\n\u001b[0m\u001b[0;32m      2\u001b[0m \u001b[0mmaria\u001b[0m\u001b[1;33m.\u001b[0m\u001b[0mgreeting\u001b[0m\u001b[1;33m(\u001b[0m\u001b[1;33m)\u001b[0m\u001b[1;33m\u001b[0m\u001b[1;33m\u001b[0m\u001b[0m\n\u001b[0;32m      3\u001b[0m \u001b[0mmaria\u001b[0m\u001b[1;33m.\u001b[0m\u001b[0m__dict__\u001b[0m\u001b[1;33m\u001b[0m\u001b[1;33m\u001b[0m\u001b[0m\n",
      "\u001b[1;31mNameError\u001b[0m: name 'Person1' is not defined"
     ]
    }
   ],
   "source": [
    "maria = Person1(\"마리아\", 23, \"서울시 마포구\")\n",
    "maria.greeting()\n",
    "maria.__dict__"
   ]
  },
  {
   "cell_type": "code",
   "execution_count": 54,
   "id": "c31e4d85-c50a-4d55-9e2e-4cd5e57b223b",
   "metadata": {},
   "outputs": [
    {
     "name": "stdin",
     "output_type": "stream",
     "text": [
      "이름은 무엇인가요? 마리아\n",
      "나이는 무엇인가요? 20\n",
      "주소는 무엇인가요? 강남\n"
     ]
    },
    {
     "name": "stdout",
     "output_type": "stream",
     "text": [
      "이름: 마리아\n",
      "나이: 20\n",
      "주소: 강남\n"
     ]
    }
   ],
   "source": [
    "class Person2:\n",
    "    def __init__(self, name, age, address):\n",
    "        self.name = name\n",
    "        self.age = age\n",
    "        self.address = address\n",
    "        \n",
    "    def info(self):\n",
    "        print(f\"이름: {self.name}\\n나이: {self.age}\\n주소: {self.address}\")\n",
    "\n",
    "maria = Person2(input(\"이름은 무엇인가요?\"), input(\"나이는 무엇인가요?\"), input(\"주소는 무엇인가요?\"))\n",
    "maria.info()"
   ]
  },
  {
   "cell_type": "markdown",
   "id": "de5747f3-d27b-4736-9e9f-0e3413831966",
   "metadata": {},
   "source": [
    "### 비공개 속성: '인스터스.속성 = 값'을 통해 인스턴스의 속성 값을 변경 못하도록 막는다. 속성 앞에 던더(__)를 붙이면 비공개 속성 된다.\n",
    "### 메서드도 던더 붙이면 비공개 메서드"
   ]
  },
  {
   "cell_type": "code",
   "execution_count": 52,
   "id": "c606d59e-b616-4821-964f-23173c3b547e",
   "metadata": {},
   "outputs": [],
   "source": [
    "class ClassName:\n",
    "    def __init__(self, param1, param2):\n",
    "        self.attr1 = param1\n",
    "        self.__attr2 = param2 # 비공개 속성"
   ]
  },
  {
   "cell_type": "code",
   "execution_count": 63,
   "id": "eb00e93b-20ec-4061-926d-e55fa9121a8d",
   "metadata": {},
   "outputs": [],
   "source": [
    "class Person3:\n",
    "    def __init__(self, name, age, address, wallet):\n",
    "        self.hello = \"안녕하세요.\"\n",
    "        self.name = name\n",
    "        self.age = age\n",
    "        self.address = address\n",
    "        self.__wallet = wallet # 비공개 속성\n",
    "        \n",
    "    def greeting(self):\n",
    "        print(f\"{self.hello} 제 이름은 {self.name}입니다.\")\n",
    "        \n",
    "    def amount(self):\n",
    "        print(self.__wallet)\n",
    "        \n",
    "    def pay(self, amount):\n",
    "        if self.__wallet < amount:\n",
    "            print(\"돈이 모자랍니다.\")\n",
    "            return\n",
    "        self.__wallet -= amount\n",
    "        print(\"이제 {0}원 남았네요.\".format(self.__wallet))"
   ]
  },
  {
   "cell_type": "code",
   "execution_count": 65,
   "id": "95ac04ae-1e0e-4f73-a9ac-ff5da7976de1",
   "metadata": {},
   "outputs": [
    {
     "name": "stdout",
     "output_type": "stream",
     "text": [
      "이선주\n",
      "98\n",
      "경기도 성남\n"
     ]
    },
    {
     "ename": "AttributeError",
     "evalue": "'Person3' object has no attribute 'wallet'",
     "output_type": "error",
     "traceback": [
      "\u001b[1;31m---------------------------------------------------------------------------\u001b[0m",
      "\u001b[1;31mAttributeError\u001b[0m                            Traceback (most recent call last)",
      "\u001b[1;32m~\\AppData\\Local\\Temp\\ipykernel_15976\\3007128630.py\u001b[0m in \u001b[0;36m<module>\u001b[1;34m\u001b[0m\n\u001b[0;32m      3\u001b[0m \u001b[0mprint\u001b[0m\u001b[1;33m(\u001b[0m\u001b[0mlsj\u001b[0m\u001b[1;33m.\u001b[0m\u001b[0mage\u001b[0m\u001b[1;33m)\u001b[0m\u001b[1;33m\u001b[0m\u001b[1;33m\u001b[0m\u001b[0m\n\u001b[0;32m      4\u001b[0m \u001b[0mprint\u001b[0m\u001b[1;33m(\u001b[0m\u001b[0mlsj\u001b[0m\u001b[1;33m.\u001b[0m\u001b[0maddress\u001b[0m\u001b[1;33m)\u001b[0m\u001b[1;33m\u001b[0m\u001b[1;33m\u001b[0m\u001b[0m\n\u001b[1;32m----> 5\u001b[1;33m \u001b[0mprint\u001b[0m\u001b[1;33m(\u001b[0m\u001b[0mlsj\u001b[0m\u001b[1;33m.\u001b[0m\u001b[0mwallet\u001b[0m\u001b[1;33m)\u001b[0m\u001b[1;33m\u001b[0m\u001b[1;33m\u001b[0m\u001b[0m\n\u001b[0m",
      "\u001b[1;31mAttributeError\u001b[0m: 'Person3' object has no attribute 'wallet'"
     ]
    }
   ],
   "source": [
    "lsj = Person3(\"이선주\", 98, \"경기도 성남\", 20000)\n",
    "print(lsj.name)\n",
    "print(lsj.age)\n",
    "print(lsj.address)\n",
    "print(lsj.wallet)"
   ]
  },
  {
   "cell_type": "code",
   "execution_count": 66,
   "id": "ee97335d-ca42-4971-8518-9822d76df87e",
   "metadata": {},
   "outputs": [
    {
     "name": "stdout",
     "output_type": "stream",
     "text": [
      "20000\n"
     ]
    }
   ],
   "source": [
    "lsj.amount()"
   ]
  },
  {
   "cell_type": "code",
   "execution_count": 67,
   "id": "42002617-54fe-48ba-8af6-db47f911a309",
   "metadata": {},
   "outputs": [
    {
     "ename": "AttributeError",
     "evalue": "'Person3' object has no attribute '__wallet'",
     "output_type": "error",
     "traceback": [
      "\u001b[1;31m---------------------------------------------------------------------------\u001b[0m",
      "\u001b[1;31mAttributeError\u001b[0m                            Traceback (most recent call last)",
      "\u001b[1;32m~\\AppData\\Local\\Temp\\ipykernel_15976\\1009652466.py\u001b[0m in \u001b[0;36m<module>\u001b[1;34m\u001b[0m\n\u001b[0;32m      1\u001b[0m \u001b[0mmaria\u001b[0m \u001b[1;33m=\u001b[0m \u001b[0mPerson3\u001b[0m\u001b[1;33m(\u001b[0m\u001b[1;34m\"마리아\"\u001b[0m\u001b[1;33m,\u001b[0m \u001b[1;36m20\u001b[0m\u001b[1;33m,\u001b[0m \u001b[1;34m\"서초구\"\u001b[0m\u001b[1;33m,\u001b[0m \u001b[1;36m10000\u001b[0m\u001b[1;33m)\u001b[0m\u001b[1;33m\u001b[0m\u001b[1;33m\u001b[0m\u001b[0m\n\u001b[1;32m----> 2\u001b[1;33m \u001b[0mmaria\u001b[0m\u001b[1;33m.\u001b[0m\u001b[0m__wallet\u001b[0m \u001b[1;33m-=\u001b[0m \u001b[1;36m10000\u001b[0m \u001b[1;31m# 클래스 바깥에서 비공개 속성에 접근하면 에러 발생\u001b[0m\u001b[1;33m\u001b[0m\u001b[1;33m\u001b[0m\u001b[0m\n\u001b[0m",
      "\u001b[1;31mAttributeError\u001b[0m: 'Person3' object has no attribute '__wallet'"
     ]
    }
   ],
   "source": [
    "maria = Person3(\"마리아\", 20, \"서초구\", 10000)\n",
    "maria.__wallet -= 10000 # 클래스 바깥에서 비공개 속성에 접근하면 에러 발생"
   ]
  },
  {
   "cell_type": "code",
   "execution_count": 68,
   "id": "6dd4287a-b647-4d26-8fdc-e579b0f07bfb",
   "metadata": {},
   "outputs": [
    {
     "name": "stdout",
     "output_type": "stream",
     "text": [
      "이제 10000원 남았네요.\n",
      "10000\n"
     ]
    }
   ],
   "source": [
    "lsj.pay(10000)\n",
    "lsj.amount()"
   ]
  },
  {
   "cell_type": "code",
   "execution_count": 78,
   "id": "f03faafc-2a27-49d2-8348-0ba2c6f23ed8",
   "metadata": {},
   "outputs": [
    {
     "name": "stdin",
     "output_type": "stream",
     "text": [
      "체력, 마나, AP를 입력하세요:  511.68 334.0 298\n"
     ]
    },
    {
     "name": "stdout",
     "output_type": "stream",
     "text": [
      "티버: 피해량 593.7\n"
     ]
    }
   ],
   "source": [
    "class Annie:\n",
    "    def __init__(self, health, mana, AP):\n",
    "        self.health = health\n",
    "        self.mana = mana\n",
    "        self.AP = AP\n",
    "    \n",
    "    def tibbers(self):\n",
    "        self.dammage = self.AP * 0.65 + 400\n",
    "        print(f\"티버: 피해량 {self.dammage}\")\n",
    "        \n",
    "health, mana, AP = map(float, input(\"체력, 마나, AP를 입력하세요: \").split(\" \"))\n",
    "annie1 = Annie(health, mana, AP)\n",
    "annie1.tibbers()"
   ]
  },
  {
   "cell_type": "code",
   "execution_count": null,
   "id": "50d62f96-5b40-4930-ac27-b521120b3ea2",
   "metadata": {},
   "outputs": [],
   "source": []
  }
 ],
 "metadata": {
  "kernelspec": {
   "display_name": "Python 3 (ipykernel)",
   "language": "python",
   "name": "python3"
  },
  "language_info": {
   "codemirror_mode": {
    "name": "ipython",
    "version": 3
   },
   "file_extension": ".py",
   "mimetype": "text/x-python",
   "name": "python",
   "nbconvert_exporter": "python",
   "pygments_lexer": "ipython3",
   "version": "3.9.13"
  }
 },
 "nbformat": 4,
 "nbformat_minor": 5
}
