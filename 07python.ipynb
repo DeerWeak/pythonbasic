{
 "cells": [
  {
   "cell_type": "markdown",
   "id": "ebfc0e20-b443-4ddb-9611-c3daaa6df23d",
   "metadata": {},
   "source": [
    "### 복습"
   ]
  },
  {
   "cell_type": "code",
   "execution_count": 23,
   "id": "68cf1cea-f7ac-46cb-b006-bf5d1967c314",
   "metadata": {},
   "outputs": [
    {
     "name": "stdout",
     "output_type": "stream",
     "text": [
      "{'': 0, '전정국': 2, '김남준': 1, '박지민': 2, '정호석': 1, '김태형': 4}\n",
      "김태형후보가 총 4표를 얻어 당선되었습니다.\n"
     ]
    }
   ],
   "source": [
    "votes = [2, 5, 3, 4, 1, 5, 1, 5, 5, 3]\n",
    "candidates=[\"\", \"전정국\", \"김남준\", \"박지민\", \"정호석\", \"김태형\"]\n",
    "votes_count = [0, 0, 0, 0, 0, 0]\n",
    "for i in range(len(votes)):\n",
    "    a = votes[i]\n",
    "    votes_count[a] += 1\n",
    "votes_info = dict(zip(candidates, votes_count))\n",
    "print(votes_info)\n",
    "\n",
    "maxi = 0\n",
    "for i in votes_count:\n",
    "    if maxi < i: maxi = i\n",
    "index = votes_count.index(maxi)\n",
    "print(f\"{candidates[index]}후보가 총 {maxi}표를 얻어 당선되었습니다.\")"
   ]
  },
  {
   "cell_type": "code",
   "execution_count": 28,
   "id": "1b3dc3f6-032d-410c-b905-0ef13399b3fc",
   "metadata": {},
   "outputs": [
    {
     "name": "stdout",
     "output_type": "stream",
     "text": [
      "[0, 0, 0, 0, 0, 0]\n",
      "[0, 2, 1, 2, 1, 4]\n",
      "김태형후보가 총 4표를 받아 당선되었습니다.\n"
     ]
    }
   ],
   "source": [
    "votes = [2, 5, 3, 4, 1, 5, 1, 5, 5, 3]\n",
    "candidates=[\"\", \"전정국\", \"김남준\", \"박지민\", \"정호석\", \"김태형\"]\n",
    "counts = [0] * len(candidates)\n",
    "print(counts)\n",
    "for vote in votes:\n",
    "    counts[vote] += 1\n",
    "print(counts)\n",
    "i = 1\n",
    "max_count = 0\n",
    "elected_person = 0 # index용\n",
    "while i <len(counts):\n",
    "    if max_count < counts[i]:\n",
    "        max_count = counts[i]\n",
    "        elected_person = i\n",
    "    i+=1\n",
    "print(f\"{candidates[elected_person]}후보가 총 {max_count}표를 받아 당선되었습니다.\")"
   ]
  },
  {
   "cell_type": "code",
   "execution_count": 29,
   "id": "f694da43-29bb-4bfa-b89a-2c13d33f956c",
   "metadata": {},
   "outputs": [
    {
     "data": {
      "text/plain": [
       "{'key': 'value', 'key2': 'value2'}"
      ]
     },
     "execution_count": 29,
     "metadata": {},
     "output_type": "execute_result"
    }
   ],
   "source": [
    "dict([(\"key\", \"value\"), (\"key2\", \"value2\")])"
   ]
  },
  {
   "cell_type": "code",
   "execution_count": 31,
   "id": "5a6950e0-3b7b-403d-8584-ac6d7725c754",
   "metadata": {},
   "outputs": [
    {
     "name": "stdout",
     "output_type": "stream",
     "text": [
      "[0, 1, 4, 9, 16, 25, 36, 49, 64, 81]\n"
     ]
    }
   ],
   "source": [
    "list_sample = []\n",
    "for _ in range(10):\n",
    "    list_sample.append(_**2)\n",
    "print(list_sample)"
   ]
  },
  {
   "cell_type": "code",
   "execution_count": 35,
   "id": "e5cfd328-7a58-48c2-9fa1-92561ec81bce",
   "metadata": {},
   "outputs": [
    {
     "name": "stdout",
     "output_type": "stream",
     "text": [
      "[1, 3, 5, 7, 9]\n"
     ]
    }
   ],
   "source": [
    "prac_result2 = [_ for _ in range(1, 10, 2)]\n",
    "print(prac_result2)"
   ]
  },
  {
   "cell_type": "code",
   "execution_count": 42,
   "id": "83b7fc79-81a5-4901-8d3a-c8e511cbaa02",
   "metadata": {},
   "outputs": [
    {
     "name": "stdout",
     "output_type": "stream",
     "text": [
      "['a', 'b', 'c', 'd', 'e', 'f', 'g', 'h', 'i', 'j', 'k', 'l', 'm', 'n', 'o', 'p', 'q', 'r', 's', 't', 'u', 'v', 'w', 'x', 'y', 'z']\n"
     ]
    }
   ],
   "source": [
    "alphabet = \"abcdefghijklmnopqrstuvwxyz\"\n",
    "prac_result3 = [_ for _ in alphabet]\n",
    "print(prac_result3)"
   ]
  },
  {
   "cell_type": "code",
   "execution_count": 43,
   "id": "31dd8a99-6504-4a98-96a9-070123d9a6db",
   "metadata": {},
   "outputs": [
    {
     "name": "stdout",
     "output_type": "stream",
     "text": [
      "['a', 'b', 'c', 'd', 'e', 'f', 'g', 'h', 'i', 'j', 'k', 'l', 'm', 'n', 'o', 'p', 'q', 'r', 's', 't', 'u', 'v', 'w', 'x', 'y', 'z']\n"
     ]
    }
   ],
   "source": [
    "prac_result3 = [_ for _ in \"abcdefghijklmnopqrstuvwxyz\"]\n",
    "print(prac_result3)"
   ]
  },
  {
   "cell_type": "code",
   "execution_count": 44,
   "id": "594f2c22-5c42-4de8-a6de-b5cd1bac9648",
   "metadata": {},
   "outputs": [
    {
     "name": "stdout",
     "output_type": "stream",
     "text": [
      "['2', '3', '4', '5', '6', '7', '8', '9', 'J', 'Q', 'K', 'A']\n"
     ]
    }
   ],
   "source": [
    "prac_result4 = [_ for _ in \"23456789\"+\"JQKA\"]\n",
    "print(prac_result4)"
   ]
  },
  {
   "cell_type": "code",
   "execution_count": 52,
   "id": "053363c5-6eb5-4a0d-8049-80a878f075a6",
   "metadata": {},
   "outputs": [
    {
     "name": "stdout",
     "output_type": "stream",
     "text": [
      "['2', '3', '4', '5', '6', '7', '8', '9', '10', 'J', 'Q', 'K', 'A']\n"
     ]
    }
   ],
   "source": [
    "prac_result4_1 = [str(i) for i in range(2, 11)] + [i for i in \"JQKA\"]\n",
    "print(prac_result4_1)"
   ]
  },
  {
   "cell_type": "code",
   "execution_count": 59,
   "id": "fc42c9cc-9c2f-4584-867c-7267b7cd419b",
   "metadata": {},
   "outputs": [
    {
     "name": "stdout",
     "output_type": "stream",
     "text": [
      "[['two', '3', '4', '5', '6', '7', '8', '9', 'J', 'Q', 'K', 'A'], ['two', '3', '4', '5', '6', '7', '8', '9', 'J', 'Q', 'K', 'A'], ['two', '3', '4', '5', '6', '7', '8', '9', 'J', 'Q', 'K', 'A'], ['two', '3', '4', '5', '6', '7', '8', '9', 'J', 'Q', 'K', 'A']]\n"
     ]
    }
   ],
   "source": [
    "prac_result5 = [prac_result4 for _ in range(4)]\n",
    "print(prac_result5)"
   ]
  },
  {
   "cell_type": "code",
   "execution_count": 60,
   "id": "91243944-d7fc-4d5e-8352-5ccb1b2a31ff",
   "metadata": {},
   "outputs": [
    {
     "name": "stdout",
     "output_type": "stream",
     "text": [
      "['two', '3', '4', '5', '6', '7', '8', '9', 'J', 'Q', 'K', 'A']\n"
     ]
    }
   ],
   "source": [
    "prac_result4[0] = 'two'\n",
    "print(prac_result4)"
   ]
  },
  {
   "cell_type": "code",
   "execution_count": 61,
   "id": "aabe843e-6648-40ec-ac8b-7d670578d7af",
   "metadata": {},
   "outputs": [
    {
     "name": "stdout",
     "output_type": "stream",
     "text": [
      "[['two', '3', '4', '5', '6', '7', '8', '9', 'J', 'Q', 'K', 'A'], ['two', '3', '4', '5', '6', '7', '8', '9', 'J', 'Q', 'K', 'A'], ['two', '3', '4', '5', '6', '7', '8', '9', 'J', 'Q', 'K', 'A'], ['two', '3', '4', '5', '6', '7', '8', '9', 'J', 'Q', 'K', 'A']]\n"
     ]
    }
   ],
   "source": [
    "print(prac_result5)"
   ]
  },
  {
   "cell_type": "code",
   "execution_count": 63,
   "id": "6378915f-6626-40ee-9e4f-c20cd6cd0223",
   "metadata": {},
   "outputs": [
    {
     "name": "stdout",
     "output_type": "stream",
     "text": [
      "prac_result4의 id: 2862727949056\n",
      "prac_result5[0]: 2862727949056\n",
      "prac_result5[1]: 2862727949056\n",
      "prac_result5[2]: 2862727949056\n",
      "prac_result5[3]: 2862727949056\n"
     ]
    }
   ],
   "source": [
    "print(\"prac_result4의 id:\", id(prac_result4))\n",
    "\n",
    "for i, v in enumerate(prac_result5):\n",
    "    print(\"prac_result5[\", i, \"]: \", id(v), sep=\"\")"
   ]
  },
  {
   "cell_type": "code",
   "execution_count": 65,
   "id": "6b4671ca-69d7-48b5-b807-d2b0a1056700",
   "metadata": {},
   "outputs": [
    {
     "name": "stdout",
     "output_type": "stream",
     "text": [
      "prac_result4의 id: 2862727949056\n",
      "prac_result6[0]: 2862729128960\n",
      "prac_result6[1]: 2862729129792\n",
      "prac_result6[2]: 2862728258752\n",
      "prac_result6[3]: 2862729127552\n"
     ]
    }
   ],
   "source": [
    "prac_result6 = [prac_result4[:] for _ in range(4)]\n",
    "print(\"prac_result4의 id:\", id(prac_result4))\n",
    "for i, v in enumerate(prac_result6):\n",
    "    print(\"prac_result6[\", i, \"]: \", id(v), sep=\"\")"
   ]
  },
  {
   "cell_type": "code",
   "execution_count": 66,
   "id": "0d0f9f9d-43fd-4abf-be29-895a6df213a8",
   "metadata": {},
   "outputs": [
    {
     "name": "stdout",
     "output_type": "stream",
     "text": [
      "2862729169088\n",
      "2862728260672\n",
      "False\n",
      "True\n"
     ]
    }
   ],
   "source": [
    "old_list = list(range(10))\n",
    "new_list = old_list[:]\n",
    "\n",
    "print(id(old_list))\n",
    "print(id(new_list))\n",
    "print(old_list is new_list)\n",
    "print(old_list == new_list)"
   ]
  },
  {
   "cell_type": "code",
   "execution_count": 69,
   "id": "45201eef-9b5b-482e-8f89-a7b3db2d2804",
   "metadata": {},
   "outputs": [
    {
     "name": "stdout",
     "output_type": "stream",
     "text": [
      "2862729163376\n",
      "2862729163376\n"
     ]
    }
   ],
   "source": [
    "str_sample = \"This is str.\"\n",
    "str2 = str_sample[:]\n",
    "print(id(str_sample))\n",
    "print(id(str2))\n",
    "# 리스트는 슬라이싱하면 복사가 됨(문자열이나 튜플은 변하지 않음)"
   ]
  },
  {
   "cell_type": "code",
   "execution_count": 70,
   "id": "3b128b58-8bd4-4d35-abd1-79bf183c0bd1",
   "metadata": {},
   "outputs": [
    {
     "name": "stdout",
     "output_type": "stream",
     "text": [
      "2862728168640\n",
      "2862728168640\n",
      "True\n",
      "True\n"
     ]
    }
   ],
   "source": [
    "old_tuple = tuple(range(10))\n",
    "new_tuple = old_tuple[:]\n",
    "\n",
    "print(id(old_tuple))\n",
    "print(id(new_tuple))\n",
    "print(old_tuple is new_tuple)\n",
    "print(old_tuple == new_tuple)"
   ]
  },
  {
   "cell_type": "markdown",
   "id": "7dbe2c7d-fc0f-4f04-9c16-e9e2f878af65",
   "metadata": {},
   "source": [
    "Java에서의 ==는 객체 자체를 비교\n",
    "Python은 값을 비교"
   ]
  },
  {
   "cell_type": "code",
   "execution_count": 71,
   "id": "32a049d1-3cf5-40d8-9d0d-ec927de83d9d",
   "metadata": {},
   "outputs": [
    {
     "name": "stdout",
     "output_type": "stream",
     "text": [
      "[0, 1, 8, 27, 64, 125, 216, 343, 512, 729]\n"
     ]
    }
   ],
   "source": [
    "list_d = list(i**3 for i in range(10))\n",
    "print(list_d)"
   ]
  },
  {
   "cell_type": "code",
   "execution_count": 74,
   "id": "33bacb04-dbb3-48f4-bbf4-0a8e48b7c536",
   "metadata": {},
   "outputs": [
    {
     "name": "stdout",
     "output_type": "stream",
     "text": [
      "[0, 1, 2, 3, 4, 5, 6, 7, 8, 9]\n",
      "[0, 1, 2, 3, 4, 5, 6, 7, 8, 9]\n",
      "2862729129472\n",
      "2862729129472\n"
     ]
    }
   ],
   "source": [
    "list_e = [i for i in range(10)]\n",
    "print(list_e)\n",
    "list_f = list_e # 주소를 줬다.\n",
    "print(list_f)\n",
    "print(id(list_e))\n",
    "print(id(list_f))"
   ]
  },
  {
   "cell_type": "code",
   "execution_count": 75,
   "id": "35772115-2872-4605-9f70-bc1c109d891c",
   "metadata": {},
   "outputs": [
    {
     "name": "stdout",
     "output_type": "stream",
     "text": [
      "True\n",
      "True\n",
      "[999, 1, 2, 3, 4, 5, 6, 7, 8, 9]\n",
      "[999, 1, 2, 3, 4, 5, 6, 7, 8, 9]\n"
     ]
    }
   ],
   "source": [
    "print(list_e is list_f)\n",
    "print(list_e == list_f)\n",
    "list_e[0] = 999\n",
    "print(list_e)\n",
    "print(list_f)"
   ]
  },
  {
   "cell_type": "code",
   "execution_count": 77,
   "id": "f34c384b-7acc-492e-b567-03dab6570a32",
   "metadata": {},
   "outputs": [
    {
     "name": "stdout",
     "output_type": "stream",
     "text": [
      "2862729224320\n",
      "2862728212352\n",
      "False\n"
     ]
    }
   ],
   "source": [
    "list_g = list(range(10))\n",
    "list_h = list_g.copy()\n",
    "print(id(list_g))\n",
    "print(id(list_h))\n",
    "print(list_g is list_h)"
   ]
  },
  {
   "cell_type": "code",
   "execution_count": 3,
   "id": "6bf4468a-d33a-4b95-bab4-17f834bdb890",
   "metadata": {
    "tags": []
   },
   "outputs": [
    {
     "name": "stdin",
     "output_type": "stream",
     "text": [
      "순환할 숫자를 입력하세요:  7\n"
     ]
    },
    {
     "name": "stdout",
     "output_type": "stream",
     "text": [
      "1 2 3 4 5 6 7 \n",
      "\n",
      "2 3 4 5 6 7 1 \n",
      "\n",
      "3 4 5 6 7 1 2 \n",
      "\n",
      "4 5 6 7 1 2 3 \n",
      "\n",
      "5 6 7 1 2 3 4 \n",
      "\n",
      "6 7 1 2 3 4 5 \n",
      "\n",
      "7 1 2 3 4 5 6 \n",
      "\n"
     ]
    }
   ],
   "source": [
    "num = int(input(\"순환할 숫자를 입력하세요: \"))\n",
    "for i in range(1, num+1):\n",
    "    for j in range(i, num+1):\n",
    "        print(j, end=\" \")\n",
    "    for k in range(1, i):\n",
    "        print(k, end=\" \")\n",
    "    print(\"\\n\")"
   ]
  },
  {
   "cell_type": "code",
   "execution_count": 5,
   "id": "6181d3d0-3e71-4977-a7f3-fc6e145b8eb5",
   "metadata": {},
   "outputs": [
    {
     "name": "stdin",
     "output_type": "stream",
     "text": [
      "순환할 숫자를 입력하세요: 5\n"
     ]
    },
    {
     "name": "stdout",
     "output_type": "stream",
     "text": [
      "1 2 3 4 5 \n",
      "2 3 4 5 1 \n",
      "3 4 5 1 2 \n",
      "4 5 1 2 3 \n",
      "5 1 2 3 4 \n"
     ]
    }
   ],
   "source": [
    "num = int(input(\"순환할 숫자를 입력하세요:\"))\n",
    "e = [i for i in range(1, num+1)]\n",
    "for j in range(len(e)):\n",
    "    j = 0\n",
    "    for i in e:\n",
    "        print(i,end=\" \")\n",
    "    print()\n",
    "    e.append(e[j])\n",
    "    e.remove(e[j])"
   ]
  },
  {
   "cell_type": "code",
   "execution_count": 6,
   "id": "3d84d64e-98a5-4d69-9888-01f90ec32b16",
   "metadata": {},
   "outputs": [
    {
     "name": "stdin",
     "output_type": "stream",
     "text": [
      "순환할 숫자를 입력하세요: 5\n"
     ]
    },
    {
     "name": "stdout",
     "output_type": "stream",
     "text": [
      "1 2 3 4 5 \n",
      "2 3 4 5 1 \n",
      "3 4 5 1 2 \n",
      "4 5 1 2 3 \n",
      "5 1 2 3 4 \n"
     ]
    }
   ],
   "source": [
    "num = int(input(\"순환할 숫자를 입력하세요:\"))\n",
    "# i => 1 ~ 입력한 숫자까지\n",
    "for i in range(1, num + 1):\n",
    "    for j in range(i, num + i):\n",
    "        if j % num == 0:\n",
    "            print(num, end=\" \")\n",
    "        else:\n",
    "            print(j % num, end=\" \")\n",
    "    print()"
   ]
  },
  {
   "cell_type": "code",
   "execution_count": 1,
   "id": "77507dd2-d0e7-4d75-b99c-054db45eb270",
   "metadata": {},
   "outputs": [
    {
     "name": "stdout",
     "output_type": "stream",
     "text": [
      "['alpha', 'bravo', 'delta', 'hotel', 'india']\n"
     ]
    }
   ],
   "source": [
    "a = ['alpha', 'bravo', 'charlie', 'delta', 'echo', 'foxtrot', 'golf', 'hotel', 'india']\n",
    "b = [s for s in a if len(s) == 5]\n",
    "print(b)"
   ]
  },
  {
   "cell_type": "code",
   "execution_count": 45,
   "id": "cd19e62c-63a1-4501-98e4-212d38ad487b",
   "metadata": {},
   "outputs": [
    {
     "name": "stdin",
     "output_type": "stream",
     "text": [
      "정수 두 개를 입력하세요:  10 20\n"
     ]
    },
    {
     "name": "stdout",
     "output_type": "stream",
     "text": [
      "[1024, 4096, 8192, 16384, 32768, 65536, 131072, 262144, 1048576]\n"
     ]
    }
   ],
   "source": [
    "num1, num2 = map(int, input(\"정수 두 개를 입력하세요: \").split(\" \"))\n",
    "if num1 > 20 or num1<0:\n",
    "    print(\"첫 번째 값의 범위는 1 ~ 20입니다.\")\n",
    "elif num2<10 or num2>30:\n",
    "    print(\"두 번째 값의 범위는 10 ~ 30입니다.\")\n",
    "elif num1 >= num2:\n",
    "    print(\"첫 번째 입력 값은 두 번째 입력 값보다 작게 입력하세요.\")\n",
    "else:    \n",
    "    list_a = [2**i for i in range(num1, num2+1)]\n",
    "    list_a.remove(list_a[1]) # del list_a[1]\n",
    "    list_a.remove(list_a[-2]) # del list_a[len(list_a)-2]\n",
    "    print(list_a)"
   ]
  },
  {
   "cell_type": "code",
   "execution_count": 66,
   "id": "af7af12c-03c8-4c3b-950b-b1b9b29f0ab6",
   "metadata": {},
   "outputs": [
    {
     "name": "stdout",
     "output_type": "stream",
     "text": [
      "- 1 + 4 - 9 + 16 - 25 + 36 - 49 + 64 - 81 + 100 \n",
      "- 121 + 144 - 169 + 196 - 225 + 256 - 289 + 324 - 361 + 400 \n",
      "- 441 + 484 - 529 + 576 - 625 + 676 - 729 + 784 - 841 + 900 \n",
      "- 961 + 1024 - 1089 + 1156 - 1225 + 1296 - 1369 + 1444 - 1521 + 1600 \n",
      "- 1681 + 1764 - 1849 + 1936 - 2025 + 2116 - 2209 + 2304 - 2401 + 2500 \n",
      "- 2601 + 2704 - 2809 + 2916 - 3025 + 3136 - 3249 + 3364 - 3481 + 3600 \n",
      "- 3721 + 3844 - 3969 + 4096 - 4225 + 4356 - 4489 + 4624 - 4761 + 4900 \n",
      "- 5041 + 5184 - 5329 + 5476 - 5625 + 5776 - 5929 + 6084 - 6241 + 6400 \n",
      "- 6561 + 6724 - 6889 + 7056 - 7225 + 7396 - 7569 + 7744 - 7921 + 8100 \n",
      "- 8281 + 8464 - 8649 + 8836 - 9025 + 9216 - 9409 + 9604 - 9801 + 10000 \n",
      "= 5050\n"
     ]
    }
   ],
   "source": [
    "total=0\n",
    "i=1\n",
    "\n",
    "while i <= 100:\n",
    "    if i>=10 and i%10==1:\n",
    "        print()\n",
    "        \n",
    "    if i%2==1:\n",
    "        total -= i**2\n",
    "        print(\"-\", i**2, end=\" \")\n",
    "    else:\n",
    "        total += i**2\n",
    "        print(\"+\", i**2, end=\" \")\n",
    "    i += 1\n",
    "print(\"\\n=\", total)"
   ]
  },
  {
   "cell_type": "code",
   "execution_count": null,
   "id": "8602132a-9058-4cf8-9212-40873432ec12",
   "metadata": {},
   "outputs": [],
   "source": []
  }
 ],
 "metadata": {
  "kernelspec": {
   "display_name": "Python 3 (ipykernel)",
   "language": "python",
   "name": "python3"
  },
  "language_info": {
   "codemirror_mode": {
    "name": "ipython",
    "version": 3
   },
   "file_extension": ".py",
   "mimetype": "text/x-python",
   "name": "python",
   "nbconvert_exporter": "python",
   "pygments_lexer": "ipython3",
   "version": "3.9.13"
  }
 },
 "nbformat": 4,
 "nbformat_minor": 5
}
