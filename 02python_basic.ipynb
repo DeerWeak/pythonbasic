{
 "cells": [
  {
   "cell_type": "code",
   "execution_count": 1,
   "id": "64a6c3c2-bf2f-4721-a505-668c5cee8d51",
   "metadata": {},
   "outputs": [],
   "source": [
    "#주석 사용하기\n",
    "x = 1 #여기서 = (등호) 기호는 수학의 같다는 의미와는 다르다.\n",
    "      # ... 우측 변의 리터럴을 좌측 변의 변수에 대입한다는 의미다.\n",
    "    \n",
    "text = \"# 이것은 주석이 아닙니다. 따옴표 안은 문자열 리터럴입니다.\""
   ]
  },
  {
   "cell_type": "code",
   "execution_count": 2,
   "id": "5fc6fe86-537f-4df1-8963-3f11fbb26e39",
   "metadata": {},
   "outputs": [
    {
     "name": "stdout",
     "output_type": "stream",
     "text": [
      "1\n",
      "# 이것은 주석이 아닙니다. 따옴표 안은 문자열 리터럴입니다.\n"
     ]
    }
   ],
   "source": [
    "print(x)\n",
    "print(text)"
   ]
  },
  {
   "cell_type": "code",
   "execution_count": 3,
   "id": "d691958e-b901-4b6b-ad2f-43a9204f267b",
   "metadata": {},
   "outputs": [
    {
     "name": "stdout",
     "output_type": "stream",
     "text": [
      "Hello, world!\n",
      "Hello, world!\n",
      "Python Programming\n"
     ]
    }
   ],
   "source": [
    "print(\"Hello, world!\")\n",
    "print(\"Hello, world!\")\n",
    "print(\"Python Programming\")"
   ]
  },
  {
   "cell_type": "markdown",
   "id": "d349aff3-92a7-4533-af01-55cb45198265",
   "metadata": {},
   "source": [
    "덧셈, 뺄셈, 곱셈: 정수\n",
    "나눗셈은 무조건 실수\n",
    "실수와 정수의 계산: 실수"
   ]
  },
  {
   "cell_type": "code",
   "execution_count": 7,
   "id": "72c230b4-edab-41d3-88e7-588419de676b",
   "metadata": {},
   "outputs": [
    {
     "data": {
      "text/plain": [
       "89"
      ]
     },
     "execution_count": 7,
     "metadata": {},
     "output_type": "execute_result"
    }
   ],
   "source": [
    "13+(22-3)*4"
   ]
  },
  {
   "cell_type": "code",
   "execution_count": 8,
   "id": "b006e1ab-3b3c-4fc9-bfdb-08d1b7ce4305",
   "metadata": {},
   "outputs": [
    {
     "data": {
      "text/plain": [
       "28.2"
      ]
     },
     "execution_count": 8,
     "metadata": {},
     "output_type": "execute_result"
    }
   ],
   "source": [
    "13+((22-3)*4)/5"
   ]
  },
  {
   "cell_type": "markdown",
   "id": "dbd561cd-1300-461b-9776-eb435ad316e2",
   "metadata": {},
   "source": [
    "몫: //\n",
    "제곱: **\n",
    "제곱근: **(1/2)"
   ]
  },
  {
   "cell_type": "markdown",
   "id": "5d050db4-7cf8-4321-a51e-e8b74bdb849d",
   "metadata": {},
   "source": [
    "복소수: comlex(2, 3)"
   ]
  },
  {
   "cell_type": "code",
   "execution_count": 10,
   "id": "937f14d1-40be-45dc-ba7c-9b8f57529e69",
   "metadata": {},
   "outputs": [
    {
     "data": {
      "text/plain": [
       "3"
      ]
     },
     "execution_count": 10,
     "metadata": {},
     "output_type": "execute_result"
    }
   ],
   "source": [
    "int(3.3)"
   ]
  },
  {
   "cell_type": "code",
   "execution_count": 11,
   "id": "be25f0c9-3162-4135-82b5-ef0842ac85ce",
   "metadata": {},
   "outputs": [
    {
     "data": {
      "text/plain": [
       "2"
      ]
     },
     "execution_count": 11,
     "metadata": {},
     "output_type": "execute_result"
    }
   ],
   "source": [
    "int(5/2)"
   ]
  },
  {
   "cell_type": "code",
   "execution_count": 12,
   "id": "0b5c996f-c688-42a4-8a7b-78a0060b8c36",
   "metadata": {},
   "outputs": [
    {
     "data": {
      "text/plain": [
       "104"
      ]
     },
     "execution_count": 12,
     "metadata": {},
     "output_type": "execute_result"
    }
   ],
   "source": [
    "int('104')"
   ]
  },
  {
   "cell_type": "code",
   "execution_count": 13,
   "id": "d242560e-0ef7-4293-9a63-a6fb11df68f8",
   "metadata": {},
   "outputs": [
    {
     "data": {
      "text/plain": [
       "16.0"
      ]
     },
     "execution_count": 13,
     "metadata": {},
     "output_type": "execute_result"
    }
   ],
   "source": [
    "float(3)\n",
    "float(4*4)"
   ]
  },
  {
   "cell_type": "code",
   "execution_count": 15,
   "id": "007e8648-0c3a-40fb-aa38-b1573fee1d1b",
   "metadata": {},
   "outputs": [
    {
     "data": {
      "text/plain": [
       "3.14"
      ]
     },
     "execution_count": 15,
     "metadata": {},
     "output_type": "execute_result"
    }
   ],
   "source": [
    "#문자열 실수로\n",
    "float('3.14')"
   ]
  },
  {
   "cell_type": "code",
   "execution_count": 20,
   "id": "a5bc1bb9-65fa-442c-a798-fca455c4b5c3",
   "metadata": {},
   "outputs": [
    {
     "name": "stdout",
     "output_type": "stream",
     "text": [
      "7\n"
     ]
    }
   ],
   "source": [
    "x = int(0.2467 * 12 + 4.159)\n",
    "print(x)"
   ]
  },
  {
   "cell_type": "code",
   "execution_count": 24,
   "id": "11692d68-7836-4de3-abf6-e7a772088e4a",
   "metadata": {},
   "outputs": [
    {
     "name": "stdout",
     "output_type": "stream",
     "text": [
      "가장 시끄러운 층은 = 7 층\n",
      "가장 시끄러운 층은 = 7 층\n"
     ]
    }
   ],
   "source": [
    "print(\"가장 시끄러운 층은 =\", x, \"층\")\n",
    "print(\"가장 시끄러운 층은 =\", int(0.2467 * 12 + 4.159), \"층\")"
   ]
  },
  {
   "cell_type": "code",
   "execution_count": 26,
   "id": "acdf69e8-5a00-468d-8b20-9150db500d7b",
   "metadata": {},
   "outputs": [
    {
     "name": "stdout",
     "output_type": "stream",
     "text": [
      "냉장고 가격은  1272000 원 입니다.\n"
     ]
    }
   ],
   "source": [
    "pay = 53000*24\n",
    "print(\"냉장고 가격은 \", pay, \"원 입니다.\")"
   ]
  },
  {
   "cell_type": "code",
   "execution_count": 32,
   "id": "bc295d56-cd6c-4de1-8167-45f01016bce1",
   "metadata": {},
   "outputs": [
    {
     "name": "stdout",
     "output_type": "stream",
     "text": [
      "총 지불해야 할 금액은 16500000 원 입니다.\n"
     ]
    }
   ],
   "source": [
    "people = 250\n",
    "tax = 1.1\n",
    "price = people * tax * 20000 * 3\n",
    "print(\"총 지불해야 할 금액은\", int(price), \"원 입니다.\")"
   ]
  },
  {
   "cell_type": "code",
   "execution_count": 36,
   "id": "b6e58472-05a8-47dc-899c-957c602923ac",
   "metadata": {},
   "outputs": [
    {
     "name": "stdout",
     "output_type": "stream",
     "text": [
      "12345000000.0\n",
      "0.0012345\n"
     ]
    }
   ],
   "source": [
    "#지수 표기\n",
    "print(1.2345e10)\n",
    "print(1.2345e-3)"
   ]
  },
  {
   "cell_type": "code",
   "execution_count": 37,
   "id": "a027d955-a62b-4488-ae31-d725eedc128d",
   "metadata": {},
   "outputs": [
    {
     "name": "stdout",
     "output_type": "stream",
     "text": [
      "17\n",
      "22\n"
     ]
    }
   ],
   "source": [
    "#2진법 표기 0bxxx\n",
    "print(0b10001)\n",
    "print(0b10110)"
   ]
  },
  {
   "cell_type": "code",
   "execution_count": 40,
   "id": "b4a77fd8-916c-4708-9805-e6967330d52e",
   "metadata": {},
   "outputs": [
    {
     "name": "stdout",
     "output_type": "stream",
     "text": [
      "0b10001\n",
      "0b10110\n"
     ]
    }
   ],
   "source": [
    "print(bin(17))\n",
    "print(bin(22))"
   ]
  },
  {
   "cell_type": "code",
   "execution_count": 41,
   "id": "6ba3c25e-bbab-47f7-9765-c368cd5e3a86",
   "metadata": {},
   "outputs": [
    {
     "name": "stdout",
     "output_type": "stream",
     "text": [
      "17\n",
      "22\n",
      "0o21\n",
      "0o26\n"
     ]
    }
   ],
   "source": [
    "#8진수 표기 0oxxx\n",
    "print(0o21)\n",
    "print(0o26)\n",
    "print(oct(17))\n",
    "print(oct(22))"
   ]
  },
  {
   "cell_type": "code",
   "execution_count": 42,
   "id": "080ac15f-4487-4d5e-8438-7bff62aa6200",
   "metadata": {},
   "outputs": [
    {
     "name": "stdout",
     "output_type": "stream",
     "text": [
      "31\n",
      "22\n",
      "0x1f\n",
      "0x16\n"
     ]
    }
   ],
   "source": [
    "#16진수 표기 0xxxx\n",
    "print(0x1f)\n",
    "print(0x16)\n",
    "print(hex(31))\n",
    "print(hex(22))"
   ]
  },
  {
   "cell_type": "code",
   "execution_count": 43,
   "id": "c0ee231d-6fa4-45fb-95a2-dd2335a42d46",
   "metadata": {},
   "outputs": [
    {
     "name": "stdout",
     "output_type": "stream",
     "text": [
      "453.0\n"
     ]
    }
   ],
   "source": [
    "AP = 380\n",
    "dammage = AP * 0.6 + 225\n",
    "print(dammage)"
   ]
  },
  {
   "cell_type": "code",
   "execution_count": 44,
   "id": "64d7a2e3-5ea1-4a27-a8a7-70bb98cb3fa0",
   "metadata": {},
   "outputs": [
    {
     "name": "stdout",
     "output_type": "stream",
     "text": [
      "30\n"
     ]
    }
   ],
   "source": [
    "a = 10\n",
    "a = a+20\n",
    "print(a)"
   ]
  },
  {
   "cell_type": "code",
   "execution_count": 45,
   "id": "fb7ae45b-b9b1-4bf7-b065-0fcfb4935d20",
   "metadata": {},
   "outputs": [
    {
     "ename": "NameError",
     "evalue": "name 'a' is not defined",
     "output_type": "error",
     "traceback": [
      "\u001b[1;31m---------------------------------------------------------------------------\u001b[0m",
      "\u001b[1;31mNameError\u001b[0m                                 Traceback (most recent call last)",
      "\u001b[1;32m~\\AppData\\Local\\Temp\\ipykernel_14200\\1497285116.py\u001b[0m in \u001b[0;36m<module>\u001b[1;34m\u001b[0m\n\u001b[0;32m      1\u001b[0m \u001b[1;32mdel\u001b[0m \u001b[0ma\u001b[0m\u001b[1;33m\u001b[0m\u001b[1;33m\u001b[0m\u001b[0m\n\u001b[1;32m----> 2\u001b[1;33m \u001b[0mprint\u001b[0m\u001b[1;33m(\u001b[0m\u001b[0ma\u001b[0m\u001b[1;33m)\u001b[0m\u001b[1;33m\u001b[0m\u001b[1;33m\u001b[0m\u001b[0m\n\u001b[0m",
      "\u001b[1;31mNameError\u001b[0m: name 'a' is not defined"
     ]
    }
   ],
   "source": [
    "del a\n",
    "print(a)"
   ]
  },
  {
   "cell_type": "code",
   "execution_count": 46,
   "id": "1f500039-e333-4ec9-9cc6-ec674716d4ba",
   "metadata": {},
   "outputs": [
    {
     "name": "stdout",
     "output_type": "stream",
     "text": [
      "10\n",
      "20\n"
     ]
    }
   ],
   "source": [
    "a = 10\n",
    "\n",
    "# 변수 a에 20 값을 더하고 할당하지 않았을 때\n",
    "a+20\n",
    "print(a) # 10\n",
    "\n",
    "a += 10 # a = a + 10과 같다\n",
    "print(a)"
   ]
  },
  {
   "cell_type": "code",
   "execution_count": 50,
   "id": "be24fa6a-1c34-4e89-ad1e-5806eefa3ea4",
   "metadata": {},
   "outputs": [
    {
     "name": "stdout",
     "output_type": "stream",
     "text": [
      "None\n"
     ]
    }
   ],
   "source": [
    "# 변수에 빈 값 할당하기\n",
    "# 변수의 값 없앨 때(다른 언어의 null과 같다)\n",
    "a = None\n",
    "print(a)"
   ]
  },
  {
   "cell_type": "code",
   "execution_count": 51,
   "id": "ee4e710e-4a4b-43e2-830d-886a6331bb89",
   "metadata": {},
   "outputs": [],
   "source": [
    "# 상수 constant: 변수와 상반되며, 변하지 않는 값"
   ]
  },
  {
   "cell_type": "code",
   "execution_count": 53,
   "id": "c43cc0de-cd88-4b7e-976a-a0d3973c847e",
   "metadata": {},
   "outputs": [
    {
     "data": {
      "text/plain": [
       "bool"
      ]
     },
     "execution_count": 53,
     "metadata": {},
     "output_type": "execute_result"
    }
   ],
   "source": [
    "# bool 리터럴 True, False\n",
    "type(True)"
   ]
  },
  {
   "cell_type": "code",
   "execution_count": 54,
   "id": "3f6ae3a0-e65b-4e4c-92eb-41360dbf1719",
   "metadata": {},
   "outputs": [],
   "source": [
    "# 논리곱 and\n",
    "# 논리합 or\n",
    "# 논리 부정 not"
   ]
  },
  {
   "cell_type": "code",
   "execution_count": 55,
   "id": "11dd62a5-2d65-484f-a681-063d24fab537",
   "metadata": {},
   "outputs": [
    {
     "name": "stdout",
     "output_type": "stream",
     "text": [
      "이것은 문자열입니다.\n",
      "<class 'str'>\n"
     ]
    }
   ],
   "source": [
    "#문자열 리터럴\n",
    "text = \"이것은 문자열입니다.\"\n",
    "print(text)\n",
    "print(type(text))"
   ]
  },
  {
   "cell_type": "code",
   "execution_count": 57,
   "id": "a2bf5c78-4b43-487c-8309-e35481ee01d3",
   "metadata": {},
   "outputs": [
    {
     "name": "stdout",
     "output_type": "stream",
     "text": [
      "don't do that\n",
      "don't do that\n"
     ]
    }
   ],
   "source": [
    "#don't do that 쓰기\n",
    "text3 = 'don\\'t do that'\n",
    "text4 = \"don't do that\"\n",
    "print(text3)\n",
    "print(text4)"
   ]
  },
  {
   "cell_type": "code",
   "execution_count": 58,
   "id": "d57264e1-da95-4ef9-9f6e-f88cc82f0944",
   "metadata": {},
   "outputs": [
    {
     "name": "stdout",
     "output_type": "stream",
     "text": [
      "\"안녕?\"이라는 그 인사를 듣고 나는 '누구지?'라고 생각했다.\n"
     ]
    }
   ],
   "source": [
    "print(\"\\\"안녕?\\\"이라는 그 인사를 듣고 나는 '누구지?'라고 생각했다.\")"
   ]
  },
  {
   "cell_type": "code",
   "execution_count": 60,
   "id": "360ebf97-3120-4d02-9ccf-59c0302d42b4",
   "metadata": {},
   "outputs": [
    {
     "name": "stdout",
     "output_type": "stream",
     "text": [
      "First line.\n",
      "Second Line.\n"
     ]
    }
   ],
   "source": [
    "# 문자열 리터럴\n",
    "s = \"First line.\\nSecond Line.\"\n",
    "print(s)"
   ]
  },
  {
   "cell_type": "code",
   "execution_count": 62,
   "id": "8095b9b5-db5c-4d6e-8068-9bd8dcd5aa75",
   "metadata": {},
   "outputs": [
    {
     "name": "stdout",
     "output_type": "stream",
     "text": [
      "c:\\name\n",
      "c:\\name\n"
     ]
    }
   ],
   "source": [
    "# \\n을 그래도 출력하고 싶으면 raw string으로 표현 가능. r을 맨앞에 붙인다.\n",
    "s1 = r\"c:\\name\"\n",
    "s2 = \"c:\\\\name\"\n",
    "\n",
    "print(s1)\n",
    "print(s2)"
   ]
  },
  {
   "cell_type": "code",
   "execution_count": 74,
   "id": "755fe69b-dac5-4acb-939c-96e610eba5de",
   "metadata": {},
   "outputs": [
    {
     "name": "stdout",
     "output_type": "stream",
     "text": [
      "\n",
      "안녕하세요.\n",
      "나는 파이썬을 공부하고 있습니다.\n",
      "반갑습니다.\n",
      "\n"
     ]
    }
   ],
   "source": [
    "# 삼중 따옴표 \"\"\" 여러 줄로 확장해 문자열 리터러 만들 수 있다. 함수나 메서드 정의할 때 많이 사용\n",
    "s3 = \"\"\"\n",
    "안녕하세요.\n",
    "나는 파이썬을 공부하고 있습니다.\n",
    "반갑습니다.\n",
    "\"\"\"\n",
    "print(s3)"
   ]
  },
  {
   "cell_type": "code",
   "execution_count": 76,
   "id": "49622247-f674-4758-8012-e708d240fdc5",
   "metadata": {},
   "outputs": [
    {
     "name": "stdout",
     "output_type": "stream",
     "text": [
      "안녕하세요.\n",
      "나는 파이썬을 공부하고 있습니다.\n",
      "반갑습니다.\n"
     ]
    }
   ],
   "source": [
    "#\\ 사용해서 줄 바꿈 방지\n",
    "s4 = \"\"\"\\\n",
    "안녕하세요.\n",
    "나는 파이썬을 공부하고 있습니다.\n",
    "반갑습니다.\\\n",
    "\"\"\"\n",
    "\n",
    "# \\\"\"\"는 오류 남. \\\"를 인식하기 떄문\n",
    "print(s4)"
   ]
  },
  {
   "cell_type": "code",
   "execution_count": 79,
   "id": "e1d3ab57-90a0-4dd2-a9f3-ca74cd7fa712",
   "metadata": {},
   "outputs": [
    {
     "name": "stdout",
     "output_type": "stream",
     "text": [
      "\"안녕하세요.\"\n",
      "나는 파이썬을 공부하고 있습니다.\n",
      "반갑습니다.\n"
     ]
    }
   ],
   "source": [
    "s5 = \"\"\"\\\n",
    "\"안녕하세요.\"\n",
    "나는 파이썬을 공부하고 있습니다.\n",
    "반갑습니다.\\\n",
    "\"\"\"\n",
    "#3줌 따옴표 안에서는 그냥 \" 사용 가능\n",
    "print(s5)"
   ]
  },
  {
   "cell_type": "code",
   "execution_count": 81,
   "id": "23c611a8-fd3c-4c86-b7ed-bcc292905252",
   "metadata": {},
   "outputs": [
    {
     "name": "stdout",
     "output_type": "stream",
     "text": [
      "너무 너무 너무 너무 너무 너무 너무 파이썬 공부가 즐겁습니다.\n"
     ]
    }
   ],
   "source": [
    "print(\"너무 \"*7 + \"파이썬 공부가 즐겁습니다.\")\n",
    "# + 사용해서 문자열 이을 수 있다(concatenation)"
   ]
  },
  {
   "cell_type": "code",
   "execution_count": 83,
   "id": "848c99c1-6f68-4cc9-8b7b-1b086a0475c2",
   "metadata": {},
   "outputs": [
    {
     "name": "stdout",
     "output_type": "stream",
     "text": [
      "P\n",
      "n\n"
     ]
    }
   ],
   "source": [
    "# 시퀀스 자료형. 순서에 따라 연속적으로 값들을 갖는 자료형. 인데싱과 슬라이싱 가능\n",
    "# str, type, range, bytes: 불변\n",
    "# list, bytearry: 가변\n",
    "\n",
    "#index가 0부터 시작하는 이유: 컴퓨터 자원이 적던 시절 하나의 비트와 바이트도 버리지 않기 위해 1byte: 00000000\n",
    "word = \"Python\"\n",
    "print(word[0])\n",
    "print(word[-1])"
   ]
  },
  {
   "cell_type": "code",
   "execution_count": 87,
   "id": "c4d726fb-7e79-4fd7-9ab6-de0d2f60181e",
   "metadata": {},
   "outputs": [],
   "source": [
    "#str, list, tuple, range"
   ]
  },
  {
   "cell_type": "code",
   "execution_count": 88,
   "id": "2ae76020-1f06-4915-8b37-af90dd73aadb",
   "metadata": {},
   "outputs": [
    {
     "name": "stdout",
     "output_type": "stream",
     "text": [
      "꺾\n"
     ]
    }
   ],
   "source": [
    "sentence = \"중요한 것은 꺾이지 않는 마음\"\n",
    "print(sentence[7])"
   ]
  },
  {
   "cell_type": "code",
   "execution_count": 90,
   "id": "8ecc5d83-4156-4e8c-985a-358e87866cd9",
   "metadata": {},
   "outputs": [
    {
     "name": "stdout",
     "output_type": "stream",
     "text": [
      "Py\n"
     ]
    }
   ],
   "source": [
    "word = \"Python\"\n",
    "print(word[0:2]) #이상, 미만"
   ]
  },
  {
   "cell_type": "code",
   "execution_count": 92,
   "id": "111ee5db-edcc-41d7-b269-9654fd5a214f",
   "metadata": {},
   "outputs": [
    {
     "name": "stdout",
     "output_type": "stream",
     "text": [
      "Py\n",
      "Py\n",
      "Py\n",
      "on\n",
      "on\n",
      "on\n",
      "yt\n"
     ]
    }
   ],
   "source": [
    "print(word[0:2])\n",
    "print(word[:2])\n",
    "print(word[0:-4])\n",
    "print(word[4:6])\n",
    "print(word[4:])\n",
    "print(word[-2:])\n",
    "print(word[-5:-3])"
   ]
  },
  {
   "cell_type": "code",
   "execution_count": 95,
   "id": "685cd1d5-16c2-41b0-b63d-42c9db25f40f",
   "metadata": {},
   "outputs": [
    {
     "name": "stdout",
     "output_type": "stream",
     "text": [
      "Pto\n"
     ]
    }
   ],
   "source": [
    "print(word[::2]) # [시작 숫자(이상): 끝 숫자(미만): 증감 크기]\n",
    "#마지막 요소까지 포함하는 범위일 때 끝 숫자 생략 가능. 증감 크기 1일 때 생략 가능"
   ]
  },
  {
   "cell_type": "code",
   "execution_count": 98,
   "id": "c71ea2f5-227e-456c-aec8-ca98f83debd4",
   "metadata": {},
   "outputs": [
    {
     "name": "stdout",
     "output_type": "stream",
     "text": [
      "\n",
      "한 것은 꺾이지 않는 마음\n"
     ]
    }
   ],
   "source": [
    "sentence = \"중요한 것은 꺾이지 않는 마음\"\n",
    "print(sentence[42:])\n",
    "print(sentence[2:42]) # 끝 숫자 초과해도 괜찮다(미만이기 때문)"
   ]
  },
  {
   "cell_type": "code",
   "execution_count": 109,
   "id": "0b7acfb0-e644-4f2a-91b6-2c4e3dd3bb0c",
   "metadata": {},
   "outputs": [
    {
     "name": "stdout",
     "output_type": "stream",
     "text": [
      "꺾이지 않는 마음\n",
      "한요중\n",
      "한요중\n"
     ]
    }
   ],
   "source": [
    "print(sentence[7:])\n",
    "print(sentence[-14: -17: -1])\n",
    "print(sentence[2::-1]) # 이거 더 선호"
   ]
  },
  {
   "cell_type": "code",
   "execution_count": 111,
   "id": "fb5f0d15-4833-4047-b0c9-6c193285398a",
   "metadata": {},
   "outputs": [
    {
     "ename": "TypeError",
     "evalue": "'str' object does not support item assignment",
     "output_type": "error",
     "traceback": [
      "\u001b[1;31m---------------------------------------------------------------------------\u001b[0m",
      "\u001b[1;31mTypeError\u001b[0m                                 Traceback (most recent call last)",
      "\u001b[1;32m~\\AppData\\Local\\Temp\\ipykernel_14200\\3804219390.py\u001b[0m in \u001b[0;36m<module>\u001b[1;34m\u001b[0m\n\u001b[1;32m----> 1\u001b[1;33m \u001b[0msentence\u001b[0m\u001b[1;33m[\u001b[0m\u001b[1;36m0\u001b[0m\u001b[1;33m]\u001b[0m \u001b[1;33m=\u001b[0m \u001b[1;34m\"한\"\u001b[0m\u001b[1;33m\u001b[0m\u001b[1;33m\u001b[0m\u001b[0m\n\u001b[0m\u001b[0;32m      2\u001b[0m \u001b[1;31m# 문자열은 불변의 특징 갖는다.\u001b[0m\u001b[1;33m\u001b[0m\u001b[1;33m\u001b[0m\u001b[0m\n",
      "\u001b[1;31mTypeError\u001b[0m: 'str' object does not support item assignment"
     ]
    }
   ],
   "source": [
    "sentence[0] = \"한\"\n",
    "# 문자열은 불변의 특징 갖는다."
   ]
  },
  {
   "cell_type": "code",
   "execution_count": 112,
   "id": "b8cd2b8f-ff2a-4335-b206-dc12a55700a2",
   "metadata": {},
   "outputs": [
    {
     "name": "stdout",
     "output_type": "stream",
     "text": [
      "대단한 것은 꺾이지 않는 마음\n"
     ]
    }
   ],
   "source": [
    "# 문자열 변경 법: 새로운 문자열 리터럴 만들어서 변수의 값에 다시 할당하여 변경\n",
    "sentence = \"대단한\" + sentence[3:]\n",
    "print(sentence)"
   ]
  },
  {
   "cell_type": "code",
   "execution_count": 113,
   "id": "8f0f50aa-e81c-4a07-8677-4f7506eaab38",
   "metadata": {},
   "outputs": [
    {
     "name": "stdout",
     "output_type": "stream",
     "text": [
      "재밌어요재밌어요재밌어요재밌어요재밌어요재밌어요재밌어요재밌어요재밌어요재밌어요\n",
      "40\n"
     ]
    }
   ],
   "source": [
    "s7 = \"재밌어요\" * 10\n",
    "print(s7)\n",
    "print(len(s7))"
   ]
  },
  {
   "cell_type": "code",
   "execution_count": 114,
   "id": "3e07fdfb-672b-4017-b8dd-156858119692",
   "metadata": {},
   "outputs": [
    {
     "name": "stdout",
     "output_type": "stream",
     "text": [
      "[1, 4, 9, 16, 25]\n"
     ]
    }
   ],
   "source": [
    "#리스트: 서로 다른 형의 항목들 포함 가능. 가변 특성. 다른 언어의 배열(array)와 차이 있다.\n",
    "squares = [1**2, 2**2, 3**2, 4**2, 5**2]\n",
    "print(squares)"
   ]
  },
  {
   "cell_type": "code",
   "execution_count": 116,
   "id": "95449b54-55fb-4fb7-a57c-3f7248ce4f5e",
   "metadata": {},
   "outputs": [
    {
     "name": "stdout",
     "output_type": "stream",
     "text": [
      "[1, 4, 9, 16, 25, 36, 49, 64, 81, 100]\n"
     ]
    }
   ],
   "source": [
    "print(squares + [36, 49, 64, 81, 100])"
   ]
  },
  {
   "cell_type": "code",
   "execution_count": 117,
   "id": "5435c8e6-1f90-4765-aa52-96cf64230135",
   "metadata": {},
   "outputs": [
    {
     "name": "stdout",
     "output_type": "stream",
     "text": [
      "['a', 'b', 'c', 'd', 'e', 'a', 'b', 'c', 'd', 'e', 'a', 'b', 'c', 'd', 'e']\n"
     ]
    }
   ],
   "source": [
    "letters = ['a', 'b', 'c', 'd', 'e']\n",
    "print(letters * 3)"
   ]
  },
  {
   "cell_type": "code",
   "execution_count": 121,
   "id": "ffc7dd47-2ccf-47e7-af42-d97bb80e1608",
   "metadata": {},
   "outputs": [
    {
     "name": "stdout",
     "output_type": "stream",
     "text": [
      "[1, 8, 27, 64, 125]\n"
     ]
    }
   ],
   "source": [
    "cubes = [1, 8, 27, 65, 125] # 65가 아니라 64를 넣고 싶다\n",
    "cubes[3] = 4**3 # 인덱싱 활용해서 값 변경\n",
    "print(cubes)"
   ]
  },
  {
   "cell_type": "code",
   "execution_count": 122,
   "id": "b17efec8-f44a-4230-afaa-a0274c54cca8",
   "metadata": {},
   "outputs": [
    {
     "name": "stdout",
     "output_type": "stream",
     "text": [
      "['a', 'b', 'C', 'D', 'E']\n"
     ]
    }
   ],
   "source": [
    "letters[2:5] = [\"C\", \"D\", \"E\"] # 슬라이싱 활용해서 값 변경\n",
    "print(letters)"
   ]
  },
  {
   "cell_type": "code",
   "execution_count": 124,
   "id": "d1f3573c-1614-421f-9211-884285cb61e0",
   "metadata": {},
   "outputs": [
    {
     "name": "stdout",
     "output_type": "stream",
     "text": [
      "5\n"
     ]
    }
   ],
   "source": [
    "letters = ['a', 'b', 'c', 'd', 'e']\n",
    "print(len(letters))"
   ]
  },
  {
   "cell_type": "code",
   "execution_count": 125,
   "id": "df35c6ee-d639-4acd-ba56-83e1b4641851",
   "metadata": {},
   "outputs": [
    {
     "name": "stdout",
     "output_type": "stream",
     "text": [
      "[['a', 'b', 'c'], [1, 2, 3]]\n",
      "['a', 'b', 'c']\n",
      "b\n"
     ]
    }
   ],
   "source": [
    "a = ['a', 'b', 'c']\n",
    "n = [1, 2, 3]\n",
    "x = [a, n]\n",
    "print(x)\n",
    "print(x[0])\n",
    "print(x[0][1])"
   ]
  },
  {
   "cell_type": "code",
   "execution_count": null,
   "id": "0a8fe417-497a-428b-bf1b-e442382402bd",
   "metadata": {},
   "outputs": [],
   "source": [
    "numbers = [1, 2, 3, 4, 5, 6, 7]\n",
    "print(5 in numbers)\n",
    "print(10 in numbers["
   ]
  }
 ],
 "metadata": {
  "kernelspec": {
   "display_name": "Python 3 (ipykernel)",
   "language": "python",
   "name": "python3"
  },
  "language_info": {
   "codemirror_mode": {
    "name": "ipython",
    "version": 3
   },
   "file_extension": ".py",
   "mimetype": "text/x-python",
   "name": "python",
   "nbconvert_exporter": "python",
   "pygments_lexer": "ipython3",
   "version": "3.9.13"
  }
 },
 "nbformat": 4,
 "nbformat_minor": 5
}
