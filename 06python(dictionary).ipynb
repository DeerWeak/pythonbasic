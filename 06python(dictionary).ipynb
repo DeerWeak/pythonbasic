{
 "cells": [
  {
   "cell_type": "code",
   "execution_count": 17,
   "id": "7565f5ff-2f95-4206-84d9-5b3b60e88f43",
   "metadata": {},
   "outputs": [
    {
     "name": "stdin",
     "output_type": "stream",
     "text": [
      "실기점수를 입력하세요:  70 50 85 98 82\n"
     ]
    },
    {
     "name": "stdout",
     "output_type": "stream",
     "text": [
      "이 학생의 평균 점수는 79.0입니다.\n"
     ]
    }
   ],
   "source": [
    "# scores = input(\"실기점수를 입력하세요: \").split(\" \")\n",
    "# scores = list(map(int, scores))\n",
    "scores = list(map(int, input(\"실기점수를 입력하세요: \").split(\" \")))\n",
    "mini = scores[0]\n",
    "maxi = scores[0]\n",
    "total = 0\n",
    "\n",
    "for i in (scores):\n",
    "    total += i\n",
    "    if i < mini: mini = i\n",
    "    if i > maxi: maxi = i\n",
    "total = total - maxi - mini\n",
    "\n",
    "print(f\"이 학생의 평균 점수는 {total/(len(scores)-2)}입니다.\")\n",
    "# 70 50 85 98 82: 79.0"
   ]
  },
  {
   "cell_type": "code",
   "execution_count": 23,
   "id": "00d95d85-1ebe-41b9-ba00-b72dafd0fda9",
   "metadata": {},
   "outputs": [
    {
     "name": "stdout",
     "output_type": "stream",
     "text": [
      "[2, 1, 1, 1, 0]\n"
     ]
    }
   ],
   "source": [
    "scores = [86, 72, 98, 60, 45]\n",
    "grade_counter = [0, 0, 0, 0, 0]\n",
    "for i in scores:\n",
    "    if 85 <= i <= 100:\n",
    "        grade_counter[0] += 1\n",
    "    elif 70 <= i:\n",
    "        grade_counter[1] += 1\n",
    "    elif 55 <= i:\n",
    "        grade_counter[2] += 1\n",
    "    elif 40 <= i:\n",
    "        grade_counter[3] += 1\n",
    "    else:\n",
    "        grade_counter[4] += 1\n",
    "print(grade_counter)"
   ]
  },
  {
   "cell_type": "code",
   "execution_count": 30,
   "id": "e86ae5f8-91b3-4bd5-a04a-1a032d255d61",
   "metadata": {},
   "outputs": [
    {
     "name": "stdout",
     "output_type": "stream",
     "text": [
      "1\t2\tFizz\t4\tBuzz\tFizz\t7\t8\tFizz\tBuzz\t11\tFizz\t13\t14\tFizzBuzz\t16\t17\tFizz\t19\tBuzz\tFizz\t22\t23\tFizz\tBuzz\t26\tFizz\t28\t29\tFizzBuzz\t31\t32\tFizz\t34\tBuzz\tFizz\t37\t38\tFizz\tBuzz\t41\tFizz\t43\t44\tFizzBuzz\t46\t47\tFizz\t49\tBuzz\tFizz\t52\t53\tFizz\tBuzz\t56\tFizz\t58\t59\tFizzBuzz\t61\t62\tFizz\t64\tBuzz\tFizz\t67\t68\tFizz\tBuzz\t71\tFizz\t73\t74\tFizzBuzz\t76\t77\tFizz\t79\tBuzz\tFizz\t82\t83\tFizz\tBuzz\t86\tFizz\t88\t89\tFizzBuzz\t91\t92\tFizz\t94\tBuzz\tFizz\t97\t98\tFizz\tBuzz\t"
     ]
    }
   ],
   "source": [
    "for i in range(1,101):\n",
    "    if i%3==0 and i%5==0: # if i%15==0:\n",
    "        print(\"FizzBuzz\", end=\"\\t\")\n",
    "    elif i%3==0:\n",
    "        print(\"Fizz\", end=\"\\t\")\n",
    "    elif i%5==0:\n",
    "        print(\"Buzz\", end=\"\\t\")\n",
    "    else:\n",
    "        print(i, end=\"\\t\")"
   ]
  },
  {
   "cell_type": "code",
   "execution_count": 33,
   "id": "df59c74a-d821-4ddc-8001-06ee5a1f3087",
   "metadata": {},
   "outputs": [
    {
     "name": "stdout",
     "output_type": "stream",
     "text": [
      "1\t2\tFizz\t4\tBuzz\tFizz\t7\t8\tFizz\tBuzz\t11\tFizz\t13\t14\tFizzBuzz\t16\t17\tFizz\t19\tBuzz\tFizz\t22\t23\tFizz\tBuzz\t26\tFizz\t28\t29\tFizzBuzz\t31\t32\tFizz\t34\tBuzz\tFizz\t37\t38\tFizz\tBuzz\t41\tFizz\t43\t44\tFizzBuzz\t46\t47\tFizz\t49\tBuzz\tFizz\t52\t53\tFizz\tBuzz\t56\tFizz\t58\t59\tFizzBuzz\t61\t62\tFizz\t64\tBuzz\tFizz\t67\t68\tFizz\tBuzz\t71\tFizz\t73\t74\tFizzBuzz\t76\t77\tFizz\t79\tBuzz\tFizz\t82\t83\tFizz\tBuzz\t86\tFizz\t88\t89\tFizzBuzz\t91\t92\tFizz\t94\tBuzz\tFizz\t97\t98\tFizz\tBuzz\t"
     ]
    }
   ],
   "source": [
    "# 빈 문자열은 False 취급\n",
    "for i in range(1, 101):\n",
    "    print(\"Fizz\" * (i % 3 == 0) + \"Buzz\" * (i % 5 == 0) or i, end=\"\\t\")"
   ]
  },
  {
   "cell_type": "code",
   "execution_count": 37,
   "id": "6ff86850-027a-483a-aaef-fe86cdcd5cec",
   "metadata": {},
   "outputs": [
    {
     "name": "stdout",
     "output_type": "stream",
     "text": [
      "m 또는 h가 이름에 포함된 사람은 3명 입니다.\n"
     ]
    }
   ],
   "source": [
    "name_list = ['matthew', 'mark', 'luke', 'john', 'paul', 'peter']\n",
    "count=0\n",
    "for name in name_list:\n",
    "    for i in range(len(name)):\n",
    "        if name[i] == 'm' or name[i] == 'h':\n",
    "            count += 1\n",
    "            break\n",
    "print(f\"m 또는 h가 이름에 포함된 사람은 {count}명 입니다.\")"
   ]
  },
  {
   "cell_type": "code",
   "execution_count": 44,
   "id": "c8defb51-c552-469c-b786-9cfb02c7d266",
   "metadata": {},
   "outputs": [
    {
     "name": "stdout",
     "output_type": "stream",
     "text": [
      "1번 학생 축하합니다. 합격입니다.\n",
      "3번 학생 축하합니다. 합격입니다.\n",
      "5번 학생 축하합니다. 합격입니다.\n"
     ]
    }
   ],
   "source": [
    "marks = [90, 25, 67, 45, 80]\n",
    "for i in range(len(marks)):\n",
    "    if marks[i] >= 60:\n",
    "        print(f\"{i+1}번 학생 축하합니다. 합격입니다.\")\n",
    "    else: continue"
   ]
  },
  {
   "cell_type": "code",
   "execution_count": 49,
   "id": "d8b9521d-f2ea-49d0-994d-a6529166699c",
   "metadata": {},
   "outputs": [
    {
     "name": "stdout",
     "output_type": "stream",
     "text": [
      "1 번 학생 축하합니다. 합격입니다.\n",
      "3 번 학생 축하합니다. 합격입니다.\n",
      "5 번 학생 축하합니다. 합격입니다.\n"
     ]
    }
   ],
   "source": [
    "number=0\n",
    "for mark in marks:\n",
    "    number = number+1\n",
    "    if mark<60:\n",
    "        continue\n",
    "    print(number, \"번 학생 축하합니다. 합격입니다.\")"
   ]
  },
  {
   "cell_type": "code",
   "execution_count": 48,
   "id": "edd53e4b-f495-497a-a5b8-36eb15d77dc1",
   "metadata": {},
   "outputs": [
    {
     "name": "stdout",
     "output_type": "stream",
     "text": [
      "1번 학생 축하합니다. 합격입니다.\n",
      "3번 학생 축하합니다. 합격입니다.\n",
      "5번 학생 축하합니다. 합격입니다.\n"
     ]
    }
   ],
   "source": [
    "marks = [90, 25, 67, 45, 80]\n",
    "i=0\n",
    "while i <len(marks):\n",
    "    if marks[i] >= 60:\n",
    "        print(f\"{i+1}번 학생 축하합니다. 합격입니다.\")\n",
    "        i+=1\n",
    "    else: i+=1"
   ]
  },
  {
   "cell_type": "code",
   "execution_count": 50,
   "id": "b626e000-c8f4-4b63-a678-52569d0f6817",
   "metadata": {},
   "outputs": [
    {
     "name": "stdout",
     "output_type": "stream",
     "text": [
      "변환된 arr은 [3, 2, 4, 1] 입니다.\n"
     ]
    }
   ],
   "source": [
    "arr = [1, 4, 2, 3]\n",
    "left, right = 0, len(arr)-1\n",
    "while left < len(arr)/2:\n",
    "    arr[left], arr[right] = arr[right], arr[left]\n",
    "    left += 1\n",
    "    right -= 1\n",
    "print(\"변환된 arr은\", arr, \"입니다.\")"
   ]
  },
  {
   "cell_type": "code",
   "execution_count": 57,
   "id": "e9a5effc-1ebe-4053-a02c-478e605fe0cb",
   "metadata": {},
   "outputs": [
    {
     "name": "stdout",
     "output_type": "stream",
     "text": [
      "2x1=2\t3x1=3\t4x1=4\t5x1=5\t6x1=6\t7x1=7\t8x1=8\t9x1=9\t\n",
      "\n",
      "2x2=4\t3x2=6\t4x2=8\t5x2=10\t6x2=12\t7x2=14\t8x2=16\t9x2=18\t\n",
      "\n",
      "2x3=6\t3x3=9\t4x3=12\t5x3=15\t6x3=18\t7x3=21\t8x3=24\t9x3=27\t\n",
      "\n",
      "2x4=8\t3x4=12\t4x4=16\t5x4=20\t6x4=24\t7x4=28\t8x4=32\t9x4=36\t\n",
      "\n",
      "2x5=10\t3x5=15\t4x5=20\t5x5=25\t6x5=30\t7x5=35\t8x5=40\t9x5=45\t\n",
      "\n",
      "2x6=12\t3x6=18\t4x6=24\t5x6=30\t6x6=36\t7x6=42\t8x6=48\t9x6=54\t\n",
      "\n",
      "2x7=14\t3x7=21\t4x7=28\t5x7=35\t6x7=42\t7x7=49\t8x7=56\t9x7=63\t\n",
      "\n",
      "2x8=16\t3x8=24\t4x8=32\t5x8=40\t6x8=48\t7x8=56\t8x8=64\t9x8=72\t\n",
      "\n",
      "2x9=18\t3x9=27\t4x9=36\t5x9=45\t6x9=54\t7x9=63\t8x9=72\t9x9=81\t\n",
      "\n"
     ]
    }
   ],
   "source": [
    "for i in range(1, 10):\n",
    "    for j in range(2, 10):\n",
    "        print(f\"{j}x{i}={j*i}\", end=\"\\t\")\n",
    "    print(\"\\n\")"
   ]
  },
  {
   "cell_type": "code",
   "execution_count": 69,
   "id": "bdb5e073-c2d2-425b-b59e-0dab6258bc99",
   "metadata": {},
   "outputs": [
    {
     "name": "stdout",
     "output_type": "stream",
     "text": [
      "2x1=2\t3x1=3\t4x1=4\t5x1=5\t6x1=6\t7x1=7\t8x1=8\t9x1=9\t\n",
      "\n",
      "2x2=4\t3x2=6\t4x2=8\t5x2=10\t6x2=12\t7x2=14\t8x2=16\t9x2=18\t\n",
      "\n",
      "2x3=6\t3x3=9\t4x3=12\t5x3=15\t6x3=18\t7x3=21\t8x3=24\t9x3=27\t\n",
      "\n",
      "2x4=8\t3x4=12\t4x4=16\t5x4=20\t6x4=24\t7x4=28\t8x4=32\t9x4=36\t\n",
      "\n",
      "2x5=10\t3x5=15\t4x5=20\t5x5=25\t6x5=30\t7x5=35\t8x5=40\t9x5=45\t\n",
      "\n",
      "2x6=12\t3x6=18\t4x6=24\t5x6=30\t6x6=36\t7x6=42\t8x6=48\t9x6=54\t\n",
      "\n",
      "2x7=14\t3x7=21\t4x7=28\t5x7=35\t6x7=42\t7x7=49\t8x7=56\t9x7=63\t\n",
      "\n",
      "2x8=16\t3x8=24\t4x8=32\t5x8=40\t6x8=48\t7x8=56\t8x8=64\t9x8=72\t\n",
      "\n",
      "2x9=18\t3x9=27\t4x9=36\t5x9=45\t6x9=54\t7x9=63\t8x9=72\t9x9=81\t\n",
      "\n"
     ]
    }
   ],
   "source": [
    "i=1\n",
    "while i<10:\n",
    "    j=2\n",
    "    while j<10:\n",
    "        print(f\"{j}x{i}={j*i}\", end=\"\\t\")\n",
    "        j+=1\n",
    "    i+=1\n",
    "    \n",
    "    print(\"\\n\")"
   ]
  },
  {
   "cell_type": "markdown",
   "id": "8f4a759b-bd5f-4e7a-8728-fa87f7e7526d",
   "metadata": {},
   "source": [
    "### 23.01.10 화"
   ]
  },
  {
   "cell_type": "markdown",
   "id": "f2e9d8b6-d118-4e11-8916-a527b6dc33c9",
   "metadata": {},
   "source": [
    "### 딕셔너리: Key, Value. 비 시퀀스. 인덱스 갖지 않음. 1대 1로 매칭되는 값 가진다. key value pair"
   ]
  },
  {
   "cell_type": "markdown",
   "id": "0f7fee13-c1dd-42bc-ae69-42df6547109a",
   "metadata": {},
   "source": [
    "### 중괄호 {} 사용. key:value. 콤마로 구분"
   ]
  },
  {
   "cell_type": "code",
   "execution_count": 70,
   "id": "67d64fc6-a2a6-43ad-89cc-cf7ec92e0440",
   "metadata": {},
   "outputs": [
    {
     "name": "stdout",
     "output_type": "stream",
     "text": [
      "<class 'dict'>\n",
      "{'key': 'value'}\n"
     ]
    }
   ],
   "source": [
    "dic_var = {\"key\": \"value\"}\n",
    "print(type(dic_var))\n",
    "print(dic_var)"
   ]
  },
  {
   "cell_type": "markdown",
   "id": "325b8134-d999-4cc4-8cbd-2100634162a9",
   "metadata": {},
   "source": [
    "### 중복값 있을 경우 마지막 값이 나옴"
   ]
  },
  {
   "cell_type": "code",
   "execution_count": 72,
   "id": "b6fefb35-25b2-41bd-beff-feea3fcf003a",
   "metadata": {},
   "outputs": [
    {
     "name": "stdout",
     "output_type": "stream",
     "text": [
      "{'key': 'last valuse'}\n"
     ]
    }
   ],
   "source": [
    "dic_var = {\"key\":\"value\", \"key\": \"last valuse\"}\n",
    "print(dic_var)"
   ]
  },
  {
   "cell_type": "markdown",
   "id": "28860e1b-e46d-433e-8bb6-b73b6f9117e2",
   "metadata": {},
   "source": [
    "### 딕셔너리 자료형에는 문자열(str), 정수(int), 실수(float), 불(bool), 튜플(tuple) 사용 가능. 섞어서 사용할 수도 있다.\n",
    "### 단 키에는 리스트(list), 딕셔너리(dictionary), 집합(set) 사용 불가\n",
    "### 키(key)는 고유한 값을 가져야 함(인덱스에 겹치는 숫자가 없듯이)"
   ]
  },
  {
   "cell_type": "code",
   "execution_count": 74,
   "id": "61c4abde-2717-478d-b8a3-3ddbb5c5232e",
   "metadata": {},
   "outputs": [
    {
     "name": "stdout",
     "output_type": "stream",
     "text": [
      "[<class 'str'>, <class 'int'>, <class 'float'>, <class 'tuple'>]\n"
     ]
    }
   ],
   "source": [
    "dic_var = {\"key\":\"value\",\n",
    "           1:\"value2\",\n",
    "           1.1:\"value3\",\n",
    "           True:\"value4\",\n",
    "           (\"key\", 1, 1.1, True): \"value2\"}\n",
    "print(list(map(type, dic_var.keys())))"
   ]
  },
  {
   "cell_type": "code",
   "execution_count": 76,
   "id": "3be870c3-7083-487a-9e3f-84c5ada76cf7",
   "metadata": {},
   "outputs": [
    {
     "name": "stdout",
     "output_type": "stream",
     "text": [
      "[<class 'str'>, <class 'bool'>, <class 'float'>, <class 'str'>]\n"
     ]
    }
   ],
   "source": [
    "dic_var = {\"key\":\"value\",\n",
    "           1:1,\n",
    "           1.1:1.1,\n",
    "           True:False,\n",
    "           (\"key\", 1, 1.1, True): \"value2\"}\n",
    "print(list(map(type, dic_var.values())))"
   ]
  },
  {
   "cell_type": "code",
   "execution_count": 82,
   "id": "88efd229-323f-46e3-9415-e2eca21bcf46",
   "metadata": {},
   "outputs": [
    {
     "name": "stdout",
     "output_type": "stream",
     "text": [
      "{}\n",
      "<class 'dict'>\n"
     ]
    }
   ],
   "source": [
    "empty_dict = {}\n",
    "print(empty_dict)\n",
    "print(type(empty_dict))"
   ]
  },
  {
   "cell_type": "code",
   "execution_count": 80,
   "id": "1e53c4c3-dc34-4f1c-b18b-e5b424dd624e",
   "metadata": {},
   "outputs": [
    {
     "name": "stdout",
     "output_type": "stream",
     "text": [
      "{}\n",
      "<class 'dict'>\n"
     ]
    }
   ],
   "source": [
    "empty_dict = dict()\n",
    "print(empty_dict)\n",
    "print(type(empty_dict))"
   ]
  },
  {
   "cell_type": "markdown",
   "id": "f7513d66-3fdc-4a25-ab09-3076823546ff",
   "metadata": {},
   "source": [
    "### dict() 함수로 만들려면 key는 \"\"사용불가"
   ]
  },
  {
   "cell_type": "code",
   "execution_count": 83,
   "id": "fbc0d901-5c2e-4f22-9093-71b5d0f0abbf",
   "metadata": {},
   "outputs": [
    {
     "name": "stdout",
     "output_type": "stream",
     "text": [
      "{'key': 'value', 'key2': 'value2', 'key3': 'value3'}\n"
     ]
    }
   ],
   "source": [
    "dict_a = dict(key=\"value\", key2=\"value2\", key3=\"value3\")\n",
    "print(dict_a)"
   ]
  },
  {
   "cell_type": "code",
   "execution_count": 85,
   "id": "0fcbc090-1228-463b-9d58-b7a048a2b168",
   "metadata": {},
   "outputs": [
    {
     "data": {
      "text/plain": [
       "{'key': 'value', 'key2': 'value2'}"
      ]
     },
     "execution_count": 85,
     "metadata": {},
     "output_type": "execute_result"
    }
   ],
   "source": [
    "dict ([(\"key\", \"value\"), (\"key2\", \"value2\")])"
   ]
  },
  {
   "cell_type": "code",
   "execution_count": 87,
   "id": "121893e8-3a15-430b-ab39-efcb82ec2296",
   "metadata": {},
   "outputs": [
    {
     "name": "stdout",
     "output_type": "stream",
     "text": [
      "{'key': 'value1', 'key2': 'value2', 'key3': 'value3'}\n"
     ]
    }
   ],
   "source": [
    "dict_b = dict(zip([\"key\", \"key2\", \"key3\"], [\"value1\", \"value2\", \"value3\"]))\n",
    "print(dict_b)"
   ]
  },
  {
   "cell_type": "code",
   "execution_count": 88,
   "id": "2ca06d3a-eccc-442f-888a-f95b4612ed3d",
   "metadata": {},
   "outputs": [
    {
     "name": "stdout",
     "output_type": "stream",
     "text": [
      "<zip object at 0x000001764EEB6340>\n"
     ]
    }
   ],
   "source": [
    "print(zip([\"key\", \"key2\", \"key3\"], [\"value1\", \"value2\", \"value3\"]))"
   ]
  },
  {
   "cell_type": "code",
   "execution_count": 91,
   "id": "c1d83ea7-9943-461d-941e-1bfd1a61bd8e",
   "metadata": {},
   "outputs": [
    {
     "data": {
      "text/plain": [
       "[('key', 'value1'), ('key2', 'value2'), ('key3', 'value3')]"
      ]
     },
     "execution_count": 91,
     "metadata": {},
     "output_type": "execute_result"
    }
   ],
   "source": [
    "[_ for _ in zip([\"key\", \"key2\", \"key3\"], [\"value1\", \"value2\", \"value3\"])]"
   ]
  },
  {
   "cell_type": "code",
   "execution_count": 92,
   "id": "dd3fa710-7f30-4605-b971-ac137b7bfb28",
   "metadata": {},
   "outputs": [
    {
     "name": "stdout",
     "output_type": "stream",
     "text": [
      "{'key': 'value1', 'key2': 'value2', 'key3': 'value3'}\n",
      "value1\n"
     ]
    }
   ],
   "source": [
    "print(dict_b)\n",
    "print(dict_b['key'])"
   ]
  },
  {
   "cell_type": "code",
   "execution_count": 93,
   "id": "2ca2a26a-e054-4963-9bb3-c6da1ad6ee51",
   "metadata": {},
   "outputs": [
    {
     "name": "stdout",
     "output_type": "stream",
     "text": [
      "{'key': 'value1', 'key2': 'value2', 'key3': 'value3'}\n",
      "{'key': 'super value', 'key2': 'value2', 'key3': 'value3'}\n"
     ]
    }
   ],
   "source": [
    "print(dict_b)\n",
    "dict_b['key']=\"super value\"\n",
    "print(dict_b)"
   ]
  },
  {
   "cell_type": "code",
   "execution_count": 94,
   "id": "8ed54fa1-4c4a-4750-b88d-1e33a7da963d",
   "metadata": {},
   "outputs": [
    {
     "name": "stdout",
     "output_type": "stream",
     "text": [
      "{'key': 'super value', 'key2': 'value2', 'key3': 'value3'}\n",
      "{'key': 'super value', 'key2': 'value2', 'key3': 'value3', 'new one': 'new value'}\n"
     ]
    }
   ],
   "source": [
    "print(dict_b)\n",
    "dict_b['new one'] = \"new value\"\n",
    "print(dict_b)"
   ]
  },
  {
   "cell_type": "code",
   "execution_count": 95,
   "id": "13f901a1-34b5-4390-a80c-cef2023146cf",
   "metadata": {},
   "outputs": [
    {
     "name": "stdout",
     "output_type": "stream",
     "text": [
      "{'key': 'super value', 'key2': 'value2', 'key3': 'value3', 'new one': 'new value'}\n"
     ]
    },
    {
     "ename": "KeyError",
     "evalue": "'없는 키'",
     "output_type": "error",
     "traceback": [
      "\u001b[1;31m---------------------------------------------------------------------------\u001b[0m",
      "\u001b[1;31mKeyError\u001b[0m                                  Traceback (most recent call last)",
      "\u001b[1;32m~\\AppData\\Local\\Temp\\ipykernel_24212\\3708490652.py\u001b[0m in \u001b[0;36m<module>\u001b[1;34m\u001b[0m\n\u001b[0;32m      1\u001b[0m \u001b[0mprint\u001b[0m\u001b[1;33m(\u001b[0m\u001b[0mdict_b\u001b[0m\u001b[1;33m)\u001b[0m\u001b[1;33m\u001b[0m\u001b[1;33m\u001b[0m\u001b[0m\n\u001b[1;32m----> 2\u001b[1;33m \u001b[0mprint\u001b[0m\u001b[1;33m(\u001b[0m\u001b[0mdict_b\u001b[0m\u001b[1;33m[\u001b[0m\u001b[1;34m'없는 키'\u001b[0m\u001b[1;33m]\u001b[0m\u001b[1;33m)\u001b[0m\u001b[1;33m\u001b[0m\u001b[1;33m\u001b[0m\u001b[0m\n\u001b[0m",
      "\u001b[1;31mKeyError\u001b[0m: '없는 키'"
     ]
    }
   ],
   "source": [
    "print(dict_b)\n",
    "print(dict_b['없는 키'])"
   ]
  },
  {
   "cell_type": "code",
   "execution_count": 96,
   "id": "54279e43-bbbe-4445-b229-8061a147b801",
   "metadata": {},
   "outputs": [
    {
     "name": "stdout",
     "output_type": "stream",
     "text": [
      "{'key': 'super value', 'key2': 'value2', 'key3': 'value3', 'new one': 'new value'}\n",
      "True\n"
     ]
    }
   ],
   "source": [
    "print(dict_b)\n",
    "print('key' in dict_b)"
   ]
  },
  {
   "cell_type": "code",
   "execution_count": 97,
   "id": "7f8b46ab-69e4-46b4-ad89-508a66971f98",
   "metadata": {},
   "outputs": [
    {
     "name": "stdout",
     "output_type": "stream",
     "text": [
      "{'key': 'super value', 'key2': 'value2', 'key3': 'value3', 'new one': 'new value'}\n",
      "{'key': 'super value', 'key2': 'value2', 'key3': 'value3'}\n"
     ]
    }
   ],
   "source": [
    "print(dict_b)\n",
    "del dict_b['new one']\n",
    "print(dict_b)"
   ]
  },
  {
   "cell_type": "code",
   "execution_count": 98,
   "id": "951d89f3-dee0-40a9-9bf7-7f8f1c252f83",
   "metadata": {},
   "outputs": [
    {
     "name": "stdout",
     "output_type": "stream",
     "text": [
      "{'key': 'super value', 'key2': 'value2', 'key3': 'value3'}\n"
     ]
    },
    {
     "data": {
      "text/plain": [
       "3"
      ]
     },
     "execution_count": 98,
     "metadata": {},
     "output_type": "execute_result"
    }
   ],
   "source": [
    "print(dict_b)\n",
    "len(dict_b)"
   ]
  },
  {
   "cell_type": "code",
   "execution_count": 105,
   "id": "83a23d63-4821-4a24-a1ef-04ee00fc288a",
   "metadata": {},
   "outputs": [
    {
     "name": "stdin",
     "output_type": "stream",
     "text": [
      "과일 이름을 입력하세요:  사과\n"
     ]
    },
    {
     "name": "stdout",
     "output_type": "stream",
     "text": [
      "1000\n"
     ]
    }
   ],
   "source": [
    "fruits = {\"사과\": 1000, \"바나나\":700, \"오렌지\":1500, \"파인애플\":2000}\n",
    "name = input(\"과일 이름을 입력하세요: \")\n",
    "print(fruits[name])"
   ]
  },
  {
   "cell_type": "code",
   "execution_count": 116,
   "id": "3bee092c-b248-43df-b0e0-cc6f9fdcea56",
   "metadata": {},
   "outputs": [
    {
     "name": "stdin",
     "output_type": "stream",
     "text": [
      "이름을 기입해주세요:  김 이 박 최\n",
      "몸무게를 입력해주세요:  1 2 3 4\n"
     ]
    },
    {
     "name": "stdout",
     "output_type": "stream",
     "text": [
      "{'김': 1.0, '이': 2.0, '박': 3.0, '최': 4.0}\n"
     ]
    }
   ],
   "source": [
    "dict_name = input(\"이름을 기입해주세요: \").split(\" \")\n",
    "dict_weight = map(float, input(\"몸무게를 입력해주세요: \").split(\" \"))\n",
    "dict_info = dict(zip(dict_name, dict_weight))\n",
    "print(dict_info)"
   ]
  },
  {
   "cell_type": "code",
   "execution_count": 121,
   "id": "75ed4f09-08cd-450f-a18a-424932758a70",
   "metadata": {},
   "outputs": [
    {
     "name": "stdin",
     "output_type": "stream",
     "text": [
      "이름을 기입해주세요:  kim lee park choi\n",
      "몸무게를 입력해주세요:  1 2 3 4\n"
     ]
    },
    {
     "name": "stdout",
     "output_type": "stream",
     "text": [
      "{'kim': 1.0, 'lee': 2.0, 'park': 3.0, 'choi': 4.0}\n"
     ]
    }
   ],
   "source": [
    "dict_name = input(\"이름을 기입해주세요: \").split(\" \")\n",
    "dict_weight = list(map(float, input(\"몸무게를 입력해주세요: \").split(\" \")))\n",
    "dict_info = {}\n",
    "# dict_info = dict()\n",
    "# len(names) --> 4\n",
    "# range(4) --> 0, 1, 2, 3\n",
    "# i --> i = 0 반복, i = 1 반복, i = 2 반복, i = 3 반복\n",
    "for i in range(len(dict_name)):\n",
    "    dict_info[dict_name[i]] = dict_weight[i]\n",
    "print(dict_info)"
   ]
  },
  {
   "cell_type": "markdown",
   "id": "4bd1aa46-5cd2-4476-ae26-328f9e097a02",
   "metadata": {},
   "source": [
    "### 리스트"
   ]
  },
  {
   "cell_type": "code",
   "execution_count": 122,
   "id": "b4e5b32c-ad36-47c2-b982-f2cb2c4b267e",
   "metadata": {},
   "outputs": [
    {
     "name": "stdout",
     "output_type": "stream",
     "text": [
      "[]\n"
     ]
    }
   ],
   "source": [
    "empty_list = []\n",
    "print(empty_list)"
   ]
  },
  {
   "cell_type": "code",
   "execution_count": 123,
   "id": "4d5ab9b5-645d-4c6b-827f-5438193e3202",
   "metadata": {},
   "outputs": [
    {
     "name": "stdin",
     "output_type": "stream",
     "text": [
      "숫자를 띄어쓰기로 구분하여 여럿 입력해보세요:  1 2 3 4 5 6 \n"
     ]
    },
    {
     "name": "stdout",
     "output_type": "stream",
     "text": [
      "<class 'list'>\n",
      "[1, 2, 3, 4, 5, 6]\n"
     ]
    }
   ],
   "source": [
    "list_b = list(map(int, input(\"숫자를 띄어쓰기로 구분하여 여럿 입력해보세요: \").split()))\n",
    "print(type(list_b))\n",
    "print(list_b)"
   ]
  },
  {
   "cell_type": "code",
   "execution_count": 124,
   "id": "58a077d4-e080-4a8f-9bdb-6ced69b6b461",
   "metadata": {},
   "outputs": [
    {
     "name": "stdout",
     "output_type": "stream",
     "text": [
      "['a', 'b', 'c', 'd']\n"
     ]
    }
   ],
   "source": [
    "list_sample = \"a b c d\".split()\n",
    "print(list_sample)"
   ]
  },
  {
   "cell_type": "markdown",
   "id": "f6b560d8-6fa3-4bf2-93eb-71e96522878b",
   "metadata": {},
   "source": [
    "list_variable = [expression for 변수 in iterable]\n",
    "\n",
    "반복 가능한 객체(iterable)로부터 값을 하나 꺼내와서 변수에 담음."
   ]
  },
  {
   "cell_type": "markdown",
   "id": "570e29f5-ac67-4298-bdb5-1064c38e0739",
   "metadata": {},
   "source": [
    "list_variable = [expression for 변수 in iterable]"
   ]
  },
  {
   "cell_type": "code",
   "execution_count": 126,
   "id": "ecfb1c35-0076-42e3-a174-65469209f2ed",
   "metadata": {},
   "outputs": [
    {
     "name": "stdout",
     "output_type": "stream",
     "text": [
      "[1, 4, 9, 16, 25, 36, 49, 64, 81]\n"
     ]
    }
   ],
   "source": [
    "# range --> 0, 1, 2, .. 9\n",
    "# _ --> 0, 1, 2, ... 9\n",
    "list_a = [_ ** 2 for _ in range(1, 10)]\n",
    "print(list_a)"
   ]
  },
  {
   "cell_type": "code",
   "execution_count": 128,
   "id": "c2f68696-e834-49b8-a133-5f29bb505849",
   "metadata": {},
   "outputs": [
    {
     "name": "stdout",
     "output_type": "stream",
     "text": [
      "hello world\n",
      "hello world\n",
      "hello world\n",
      "hello world\n",
      "hello world\n"
     ]
    }
   ],
   "source": [
    "list_b = [print(\"hello world\") for _ in range(5)]"
   ]
  },
  {
   "cell_type": "code",
   "execution_count": 133,
   "id": "a0d69bbd-3f28-4c99-985d-3cc5ae7bdf17",
   "metadata": {},
   "outputs": [
    {
     "name": "stdout",
     "output_type": "stream",
     "text": [
      "[1, 4, 9, 16, 25, 36, 49, 64, 81]\n"
     ]
    }
   ],
   "source": [
    "list_c = []\n",
    "for _ in range(1, 10):\n",
    "    list_c.append(_ ** 2)\n",
    "print(list_c)"
   ]
  },
  {
   "cell_type": "code",
   "execution_count": 138,
   "id": "83a5104d-a297-4a07-a64e-0a4dd0702658",
   "metadata": {},
   "outputs": [
    {
     "name": "stdout",
     "output_type": "stream",
     "text": [
      "[1, 4, 9, 16, 25, 36, 49, 64, 81]\n"
     ]
    }
   ],
   "source": [
    "#위와 같은 코드\n",
    "list_d = [_ ** 2 for _ in range(1, 10)]\n",
    "print(list_d)"
   ]
  },
  {
   "cell_type": "code",
   "execution_count": 139,
   "id": "dfc74436-699b-42b7-86dc-427b96c79103",
   "metadata": {},
   "outputs": [
    {
     "name": "stdout",
     "output_type": "stream",
     "text": [
      "<class 'list'>\n",
      "[1, 4, 9, 16, 25, 36, 49, 64, 81]\n"
     ]
    }
   ],
   "source": [
    "prac_result = [_**2 for _ in range(1, 10)]\n",
    "print(type(prac_result))\n",
    "print(prac_result)"
   ]
  },
  {
   "cell_type": "code",
   "execution_count": null,
   "id": "98de64cc-24f5-4743-b291-67a00754bcb9",
   "metadata": {},
   "outputs": [],
   "source": []
  }
 ],
 "metadata": {
  "kernelspec": {
   "display_name": "Python 3 (ipykernel)",
   "language": "python",
   "name": "python3"
  },
  "language_info": {
   "codemirror_mode": {
    "name": "ipython",
    "version": 3
   },
   "file_extension": ".py",
   "mimetype": "text/x-python",
   "name": "python",
   "nbconvert_exporter": "python",
   "pygments_lexer": "ipython3",
   "version": "3.9.13"
  }
 },
 "nbformat": 4,
 "nbformat_minor": 5
}
