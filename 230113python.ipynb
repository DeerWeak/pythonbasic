{
 "cells": [
  {
   "cell_type": "code",
   "execution_count": 1,
   "id": "4c9e318c-4100-4e86-91db-2c056cd00222",
   "metadata": {},
   "outputs": [],
   "source": [
    "import random"
   ]
  },
  {
   "cell_type": "code",
   "execution_count": 2,
   "id": "7fd992c0-e07c-4827-82fc-eeb1a4190147",
   "metadata": {},
   "outputs": [
    {
     "name": "stdout",
     "output_type": "stream",
     "text": [
      "lsit_strs = ['a', 'b', 'c', 'd', 'e', 'f', 'g', 'h', 'i', 'j', 'k', 'l', 'm', 'n', 'o', 'p', 'q', 'r', 's', 't', 'u', 'v', 'w', 'x', 'y', 'a']\n",
      "\n",
      "whole_str = a*b*c*d*e*f*g*h*i*j*k*l*m*n*o*p*q*r*s*t*u*v*w*x*y*a\n"
     ]
    }
   ],
   "source": [
    "list_strs = [_ for _ in \"abcdefghijklmnopqrstuvwxya\"]\n",
    "print(f\"lsit_strs = {list_strs}\")\n",
    "\n",
    "whole_str = \"*\".join(list_strs)\n",
    "print(f\"\\nwhole_str = {whole_str}\")"
   ]
  },
  {
   "cell_type": "code",
   "execution_count": 39,
   "id": "36e61860-d901-459a-8d3c-06ab65efb238",
   "metadata": {},
   "outputs": [
    {
     "name": "stdin",
     "output_type": "stream",
     "text": [
      "숫자 입력:  50\n"
     ]
    },
    {
     "name": "stdout",
     "output_type": "stream",
     "text": [
      "그보다 작습니다.\n"
     ]
    },
    {
     "name": "stdin",
     "output_type": "stream",
     "text": [
      "숫자 입력:  20\n"
     ]
    },
    {
     "name": "stdout",
     "output_type": "stream",
     "text": [
      "그보다 작습니다.\n"
     ]
    },
    {
     "name": "stdin",
     "output_type": "stream",
     "text": [
      "숫자 입력:  10\n"
     ]
    },
    {
     "name": "stdout",
     "output_type": "stream",
     "text": [
      "그보다 작습니다.\n"
     ]
    },
    {
     "name": "stdin",
     "output_type": "stream",
     "text": [
      "숫자 입력:  6\n"
     ]
    },
    {
     "name": "stdout",
     "output_type": "stream",
     "text": [
      "그보다 작습니다.\n"
     ]
    },
    {
     "name": "stdin",
     "output_type": "stream",
     "text": [
      "숫자 입력:  3\n"
     ]
    },
    {
     "name": "stdout",
     "output_type": "stream",
     "text": [
      "그보다 작습니다.\n"
     ]
    },
    {
     "name": "stdin",
     "output_type": "stream",
     "text": [
      "숫자 입력:  2\n"
     ]
    },
    {
     "name": "stdout",
     "output_type": "stream",
     "text": [
      "맞췄습니다!\n",
      "6번만에 맞추셨습니다.\n",
      "입력한 숫자는 다음과 같습니다. 50, 20, 10, 6, 3, 2\n"
     ]
    }
   ],
   "source": [
    "rand_num = random.randint(1, 100) # 1부터 100까지 사이의 랜덤 수\n",
    "num_list = []\n",
    "while True: # input_num != rand_num:\n",
    "    input_num = int(input(\"숫자 입력: \"))\n",
    "    num_list.append(str(input_num))\n",
    "    if input_num < 1 or input_num > 100:\n",
    "        print(\"1~100 사이의 숫자를 입력하세요.\")\n",
    "    elif input_num > rand_num:\n",
    "        print(\"그보다 작습니다.\")\n",
    "    elif input_num < rand_num:\n",
    "        print(\"그보다 큽니다.\")\n",
    "    elif input_num == rand_num:\n",
    "        print(\"맞췄습니다!\")\n",
    "        break\n",
    "\n",
    "show_list = \", \".join(num_list)\n",
    "print(f\"{len(num_list)}번만에 맞추셨습니다.\")\n",
    "print(\"입력한 숫자는 다음과 같습니다.\", show_list)"
   ]
  },
  {
   "cell_type": "code",
   "execution_count": 14,
   "id": "72d63745-206c-4b17-b87f-061eb79ae988",
   "metadata": {},
   "outputs": [
    {
     "name": "stdout",
     "output_type": "stream",
     "text": [
      "set() <class 'set'>\n"
     ]
    }
   ],
   "source": [
    "set_var = set()\n",
    "print(set_var, type(set_var))"
   ]
  },
  {
   "cell_type": "code",
   "execution_count": 18,
   "id": "b2ef80f9-dc99-4fbe-a44f-b27ab5e480ab",
   "metadata": {},
   "outputs": [
    {
     "name": "stdout",
     "output_type": "stream",
     "text": [
      "{1}\n"
     ]
    }
   ],
   "source": [
    "[set_var.add(1) for _ in range(5)]\n",
    "print(set_var)"
   ]
  },
  {
   "cell_type": "code",
   "execution_count": 20,
   "id": "3b6917b5-f922-41ce-9f7a-3b6533cfb77c",
   "metadata": {},
   "outputs": [
    {
     "data": {
      "text/plain": [
       "[None, None, None, None, None, None, None, None, None]"
      ]
     },
     "execution_count": 20,
     "metadata": {},
     "output_type": "execute_result"
    }
   ],
   "source": [
    "[set_var.add(i) for i in range(9)]"
   ]
  },
  {
   "cell_type": "code",
   "execution_count": 34,
   "id": "85cd268f-2b62-439d-9ec2-8ddea919872a",
   "metadata": {
    "tags": []
   },
   "outputs": [
    {
     "name": "stdout",
     "output_type": "stream",
     "text": [
      "{0, 3, 6, 9, 12, 15, 18}\n",
      "{0, 3, 6, 12, 15, 18}\n",
      "{0, 3, 6, 12, 15, 18}\n",
      "{0, 3, 12, 15, 18}\n",
      "set()\n"
     ]
    }
   ],
   "source": [
    "set_var = {_ for _ in range(20) if _%3 == 0}\n",
    "print(set_var)\n",
    "set_var.remove(9)\n",
    "print(set_var)\n",
    "set_var.discard('없는 값')\n",
    "print(set_var)\n",
    "set_var.discard(6)\n",
    "print(set_var)\n",
    "set_var.clear()\n",
    "print(set_var)"
   ]
  },
  {
   "cell_type": "code",
   "execution_count": 38,
   "id": "6cfede82-fa96-4685-b608-fdfdc547f55c",
   "metadata": {},
   "outputs": [
    {
     "name": "stdout",
     "output_type": "stream",
     "text": [
      "set_var1 개수는 7개입니다.\n"
     ]
    }
   ],
   "source": [
    "set_var1 = {_ for _ in range(20) if _ % 3 == 0}\n",
    "print(f\"set_var1 개수는 {len(set_var1)}개입니다.\")"
   ]
  },
  {
   "cell_type": "markdown",
   "id": "782510f5-3c18-4fe9-a282-880ff037f6cd",
   "metadata": {},
   "source": [
    "함수"
   ]
  },
  {
   "cell_type": "code",
   "execution_count": 43,
   "id": "7f24591d-400a-45cf-8b89-d9815f3e8a70",
   "metadata": {},
   "outputs": [],
   "source": [
    "# 함수 정의절\n",
    "# 인자(매개변수, parameter)\n",
    "# non-default parameter -> \"값\", \"값2\", \"값3\", ...\n",
    "# default parameter - key = \"value\", key2=\"value2\", ...\n",
    "def function_name(param1, param2, /, poskey1, poskey2, *, keyonly1, keyonly2):\n",
    "    \"\"\"Docs\"\"\"\n",
    "    pass"
   ]
  },
  {
   "cell_type": "code",
   "execution_count": 44,
   "id": "28a5698f-2142-486f-ba42-a50f47573529",
   "metadata": {},
   "outputs": [
    {
     "ename": "TypeError",
     "evalue": "function_name() missing 1 required keyword-only argument: 'keyonly2'",
     "output_type": "error",
     "traceback": [
      "\u001b[1;31m---------------------------------------------------------------------------\u001b[0m",
      "\u001b[1;31mTypeError\u001b[0m                                 Traceback (most recent call last)",
      "\u001b[1;32m~\\AppData\\Local\\Temp\\ipykernel_2992\\4027716133.py\u001b[0m in \u001b[0;36m<module>\u001b[1;34m\u001b[0m\n\u001b[0;32m      2\u001b[0m \u001b[1;31m# positional-only -> \"값\", \"값2\", \"값3\", ....\u001b[0m\u001b[1;33m\u001b[0m\u001b[1;33m\u001b[0m\u001b[0m\n\u001b[0;32m      3\u001b[0m \u001b[1;31m# keyword-only -> key=\"value\", key2=\"value2\", ...\u001b[0m\u001b[1;33m\u001b[0m\u001b[1;33m\u001b[0m\u001b[0m\n\u001b[1;32m----> 4\u001b[1;33m \u001b[0mfunction_name\u001b[0m\u001b[1;33m(\u001b[0m\u001b[1;34m\"posonly\"\u001b[0m\u001b[1;33m,\u001b[0m \u001b[1;34m\"po\"\u001b[0m\u001b[1;33m,\u001b[0m \u001b[1;34m\"value\"\u001b[0m\u001b[1;33m,\u001b[0m \u001b[0mposkey2\u001b[0m\u001b[1;33m=\u001b[0m\u001b[1;34m\"value\"\u001b[0m\u001b[1;33m,\u001b[0m \u001b[0mkeyonly1\u001b[0m\u001b[1;33m=\u001b[0m\u001b[1;34m\"value\"\u001b[0m\u001b[1;33m)\u001b[0m\u001b[1;33m\u001b[0m\u001b[1;33m\u001b[0m\u001b[0m\n\u001b[0m",
      "\u001b[1;31mTypeError\u001b[0m: function_name() missing 1 required keyword-only argument: 'keyonly2'"
     ]
    }
   ],
   "source": [
    "# 인수(argument)\n",
    "# positional-only -> \"값\", \"값2\", \"값3\", ....\n",
    "# keyword-only -> key=\"value\", key2=\"value2\", ...\n",
    "function_name(\"posonly\", \"po\", \"value\", poskey2=\"value\", keyonly1=\"value\")"
   ]
  },
  {
   "cell_type": "code",
   "execution_count": 51,
   "id": "ec0b4443-969e-4115-ac60-7ed85f737b26",
   "metadata": {},
   "outputs": [],
   "source": [
    "def function_name2(param1, param2, *args):\n",
    "    print(param1)\n",
    "    print(param2)\n",
    "    print(type(args))\n",
    "    for arg in args:\n",
    "        print(arg)"
   ]
  },
  {
   "cell_type": "code",
   "execution_count": 52,
   "id": "078b0330-1596-4f87-a221-c3827feb4de3",
   "metadata": {},
   "outputs": [
    {
     "name": "stdout",
     "output_type": "stream",
     "text": [
      "args\n",
      "는\n",
      "<class 'tuple'>\n",
      "가변 위치\n",
      "인수입니다.\n"
     ]
    }
   ],
   "source": [
    "function_name2(\"args\", \"는\", \"가변 위치\", \"인수입니다.\")"
   ]
  },
  {
   "cell_type": "code",
   "execution_count": 49,
   "id": "e09a1b65-c27e-4f6e-910d-e3f478c0b1cf",
   "metadata": {},
   "outputs": [],
   "source": [
    "a, b, c, d = [_ for _ in range(4)]"
   ]
  },
  {
   "cell_type": "code",
   "execution_count": 50,
   "id": "6a593ab5-e440-4b88-8b38-ad9d4f7c5975",
   "metadata": {},
   "outputs": [
    {
     "name": "stdout",
     "output_type": "stream",
     "text": [
      "0 1 2 3\n"
     ]
    }
   ],
   "source": [
    "print(a, b, c, d)"
   ]
  },
  {
   "cell_type": "code",
   "execution_count": 55,
   "id": "47dc18f9-3bcd-4744-bce3-03ec391d1434",
   "metadata": {},
   "outputs": [],
   "source": [
    "# 가변 키워드 인자 Keyword ARGumentS\n",
    "def function_name3(**kargs):\n",
    "    print(type(kargs))\n",
    "    print(kargs)\n",
    "    print(kargs[\"key\"])"
   ]
  },
  {
   "cell_type": "code",
   "execution_count": 56,
   "id": "aa2cc71e-358d-48e8-8f74-20f99df27faf",
   "metadata": {},
   "outputs": [
    {
     "name": "stdout",
     "output_type": "stream",
     "text": [
      "<class 'dict'>\n",
      "{'key': 'value', 'key2': 'value2', 'key3': 'value3'}\n",
      "value\n"
     ]
    }
   ],
   "source": [
    "# 함수 호출\n",
    "function_name3(key=\"value\", key2=\"value2\", key3=\"value3\")"
   ]
  },
  {
   "cell_type": "code",
   "execution_count": 58,
   "id": "f23dbbb0-b432-4ee0-9ea9-2f6aa0ab2834",
   "metadata": {},
   "outputs": [],
   "source": [
    "def function_name4(param1, param2, param3 = \"default\"):\n",
    "    pass"
   ]
  },
  {
   "cell_type": "code",
   "execution_count": 59,
   "id": "8759b4df-3918-40bd-9bb7-36ff82f70424",
   "metadata": {},
   "outputs": [],
   "source": [
    "def greeting(name, age):\n",
    "    print(f\"{name}씨 안녕하세요. 약 {age*365.25}일 됐습니다.\")"
   ]
  },
  {
   "cell_type": "code",
   "execution_count": 60,
   "id": "208d5163-398b-4639-8978-452f1c6a5c86",
   "metadata": {},
   "outputs": [
    {
     "name": "stdout",
     "output_type": "stream",
     "text": [
      "파이썬씨 안녕하세요. 약 11688.0일 됐습니다.\n"
     ]
    }
   ],
   "source": [
    "greeting(\"파이썬\", 32)"
   ]
  },
  {
   "cell_type": "code",
   "execution_count": 61,
   "id": "dff55a27-b5c4-4c5b-aa14-0f5738d95044",
   "metadata": {},
   "outputs": [
    {
     "name": "stdout",
     "output_type": "stream",
     "text": [
      "파이썬씨 안녕하세요. 약 11688.0일 됐습니다.\n"
     ]
    }
   ],
   "source": [
    "greeting(age=32, name=\"파이썬\")"
   ]
  },
  {
   "cell_type": "code",
   "execution_count": 62,
   "id": "fceac052-051e-4a25-87ae-71bc9b8748b1",
   "metadata": {},
   "outputs": [],
   "source": [
    "def greeting1(name, age=32):\n",
    "    print(f\"{name}씨 안녕하세요. 약 {age*365.25}일 됐습니다.\")"
   ]
  },
  {
   "cell_type": "code",
   "execution_count": 64,
   "id": "a519a50c-f2b5-4a9e-a4ff-fead260f610b",
   "metadata": {},
   "outputs": [
    {
     "name": "stdout",
     "output_type": "stream",
     "text": [
      "파이썬씨 안녕하세요. 약 11688.0일 됐습니다.\n"
     ]
    }
   ],
   "source": [
    "greeting1(\"파이썬\")"
   ]
  },
  {
   "cell_type": "code",
   "execution_count": 67,
   "id": "61651458-d395-4bf6-8d26-847eb9898044",
   "metadata": {},
   "outputs": [],
   "source": [
    "def posonly(posonly, /): # 위치 전용 인자\n",
    "    print(posonly)"
   ]
  },
  {
   "cell_type": "code",
   "execution_count": 68,
   "id": "b13fc2e3-fc5f-424a-bf9b-f479fa568836",
   "metadata": {},
   "outputs": [
    {
     "ename": "TypeError",
     "evalue": "posonly() got some positional-only arguments passed as keyword arguments: 'posonly'",
     "output_type": "error",
     "traceback": [
      "\u001b[1;31m---------------------------------------------------------------------------\u001b[0m",
      "\u001b[1;31mTypeError\u001b[0m                                 Traceback (most recent call last)",
      "\u001b[1;32m~\\AppData\\Local\\Temp\\ipykernel_2992\\2146950883.py\u001b[0m in \u001b[0;36m<module>\u001b[1;34m\u001b[0m\n\u001b[1;32m----> 1\u001b[1;33m \u001b[0mposonly\u001b[0m\u001b[1;33m(\u001b[0m\u001b[0mposonly\u001b[0m\u001b[1;33m=\u001b[0m\u001b[1;34m\"키워드 인수로 전달하면 오류 발생!\"\u001b[0m\u001b[1;33m)\u001b[0m\u001b[1;33m\u001b[0m\u001b[1;33m\u001b[0m\u001b[0m\n\u001b[0m",
      "\u001b[1;31mTypeError\u001b[0m: posonly() got some positional-only arguments passed as keyword arguments: 'posonly'"
     ]
    }
   ],
   "source": [
    "posonly(posonly=\"키워드 인수로 전달하면 오류 발생!\")"
   ]
  },
  {
   "cell_type": "code",
   "execution_count": 70,
   "id": "00c8a997-855b-4066-a3a1-6268bcc2e929",
   "metadata": {},
   "outputs": [],
   "source": [
    "def keyonly(*, keyonly=\"default\"):\n",
    "    print(keyonly)"
   ]
  },
  {
   "cell_type": "code",
   "execution_count": 72,
   "id": "5bffdb6d-e404-4954-989b-7987c756a0c0",
   "metadata": {},
   "outputs": [
    {
     "name": "stdout",
     "output_type": "stream",
     "text": [
      "키워드로만 입력해야 합니다.\n"
     ]
    }
   ],
   "source": [
    "keyonly(keyonly=\"키워드로만 입력해야 합니다.\")"
   ]
  },
  {
   "cell_type": "code",
   "execution_count": 74,
   "id": "7f7aa7ed-cc50-4f84-b8c1-a1d25e4f9aef",
   "metadata": {},
   "outputs": [],
   "source": [
    "def var_positional(*args):\n",
    "    print(type(args))\n",
    "    return sum([_ for _ in args])"
   ]
  },
  {
   "cell_type": "code",
   "execution_count": 76,
   "id": "23c1c4a0-ec71-4649-a1b2-f3c40dd920b8",
   "metadata": {},
   "outputs": [
    {
     "name": "stdout",
     "output_type": "stream",
     "text": [
      "<class 'tuple'>\n",
      "15\n"
     ]
    }
   ],
   "source": [
    "print(var_positional(1, 2, 3, 4, 5))"
   ]
  },
  {
   "cell_type": "code",
   "execution_count": 77,
   "id": "c4479d84-027a-4f87-8451-cf36344e1669",
   "metadata": {},
   "outputs": [
    {
     "name": "stdout",
     "output_type": "stream",
     "text": [
      "21.11111111111111\n"
     ]
    }
   ],
   "source": [
    "def to_celsius(farenheit):\n",
    "    celsius = (farenheit - 32) * 5/9\n",
    "    return celsius\n",
    "print(to_celsius(70))"
   ]
  },
  {
   "cell_type": "code",
   "execution_count": 94,
   "id": "31627d2b-6822-4d43-a49d-a7665c31eeae",
   "metadata": {},
   "outputs": [
    {
     "name": "stdout",
     "output_type": "stream",
     "text": [
      "number가 짝수면 \"짝수\", 홀수면 \"홀수\" 반환\n",
      "짝수\n",
      "홀수\n",
      "None\n"
     ]
    }
   ],
   "source": [
    "def odd_even(number):\n",
    "    \"\"\"number가 짝수면 \"짝수\", 홀수면 \"홀수\" 반환\"\"\"\n",
    "    if (type(number) != int) or (number<=0):\n",
    "        return\n",
    "    elif number %2==0:\n",
    "        return \"짝수\"\n",
    "    elif number %2==1:\n",
    "        return \"홀수\"\n",
    "\n",
    "print(odd_even.__doc__)\n",
    "print(odd_even(10))\n",
    "print(odd_even(9))\n",
    "print(odd_even(\"가\"))"
   ]
  },
  {
   "cell_type": "code",
   "execution_count": 96,
   "id": "c2796668-755f-4278-8a70-17c160e8f4d6",
   "metadata": {},
   "outputs": [
    {
     "name": "stdout",
     "output_type": "stream",
     "text": [
      "number가 짝수면 \"짝수\", 홀수면 \"홀수\" 반환\n",
      "짝수\n",
      "홀수\n",
      "None\n"
     ]
    }
   ],
   "source": [
    "def odd_even(number):\n",
    "    \"\"\"number가 짝수면 \"짝수\", 홀수면 \"홀수\" 반환\"\"\"\n",
    "    if type(number) is int and number>0:\n",
    "        return \"짝수\" * (number % 2 == 0) or \"홀수\"\n",
    "    else:\n",
    "        return\n",
    "print(odd_even.__doc__)\n",
    "print(odd_even(10))\n",
    "print(odd_even(9))\n",
    "print(odd_even(\"가\"))"
   ]
  },
  {
   "cell_type": "code",
   "execution_count": 98,
   "id": "24ccacb2-fedf-4ed6-ab8a-ae4f15dc50b7",
   "metadata": {},
   "outputs": [
    {
     "name": "stdout",
     "output_type": "stream",
     "text": [
      "윤년\n",
      "윤년\n",
      "평년\n"
     ]
    }
   ],
   "source": [
    "def check_leap_year(year):\n",
    "    if year%4 != 0 or (year%100==0 and year%400!=0):\n",
    "        return \"평년\"\n",
    "    else:\n",
    "        return \"윤년\"\n",
    "print(check_leap_year(2004))\n",
    "print(check_leap_year(2000))\n",
    "print(check_leap_year(1900))"
   ]
  },
  {
   "cell_type": "code",
   "execution_count": 99,
   "id": "ebf1e9f2-b699-45b8-8064-00b9371599d4",
   "metadata": {},
   "outputs": [
    {
     "name": "stdout",
     "output_type": "stream",
     "text": [
      "30\n",
      "28\n",
      "31\n"
     ]
    }
   ],
   "source": [
    "def days(month):\n",
    "    if month in [1, 3, 5, 7, 8, 10, 12]:\n",
    "        return 31\n",
    "    elif month in [4, 6, 9, 11]:\n",
    "        return 30\n",
    "    else:\n",
    "        return 28\n",
    "print(days(11))\n",
    "print(days(2))\n",
    "print(days(1))"
   ]
  },
  {
   "cell_type": "code",
   "execution_count": 106,
   "id": "568751a5-4f04-4d72-b089-866948313431",
   "metadata": {},
   "outputs": [
    {
     "name": "stdout",
     "output_type": "stream",
     "text": [
      "30\n",
      "31\n",
      "28\n",
      "29\n"
     ]
    }
   ],
   "source": [
    "def days(year, month):\n",
    "    if month in [1, 3, 5, 7, 8, 10, 12]:\n",
    "        return 31\n",
    "    elif month in [4, 6, 9, 11]:\n",
    "        return 30\n",
    "    else:\n",
    "        if year%4 != 0 or (year%100==0 and year%400!=0):\n",
    "                return 28\n",
    "        else:\n",
    "                return 29\n",
    "print(days(1900, 11))\n",
    "print(days(2004, 10))\n",
    "print(days(1900, 2))\n",
    "print(days(2000, 2))"
   ]
  },
  {
   "cell_type": "code",
   "execution_count": 110,
   "id": "2734a409-de9b-4d5b-b8e8-f641545248cc",
   "metadata": {},
   "outputs": [
    {
     "name": "stdout",
     "output_type": "stream",
     "text": [
      "몫: 3, 나머지: 1\n"
     ]
    }
   ],
   "source": [
    "x = 10\n",
    "y = 3\n",
    "def get_quotient_remainder(x, y):\n",
    "    return x//y, x%y # 괄호 안치면 튜플 값\n",
    "quitient, remainder = get_quotient_remainder(x, y)\n",
    "print(f\"몫: {quitient}, 나머지: {remainder}\")"
   ]
  },
  {
   "cell_type": "code",
   "execution_count": 111,
   "id": "2355f560-822a-4f62-b573-6529755db330",
   "metadata": {},
   "outputs": [
    {
     "name": "stdout",
     "output_type": "stream",
     "text": [
      "global_variable in global scope = > this is global world.\n",
      "0x277da2fd530\n",
      "global_variable in local_world=>this is global world.\n",
      "0x277da2fd530\n"
     ]
    }
   ],
   "source": [
    "global_variable = \"this is global world.\"\n",
    "\n",
    "print(f\"global_variable in global scope = > {global_variable}\")\n",
    "print(hex(id(global_variable)))\n",
    "\n",
    "def local_world():\n",
    "    print(f\"global_variable in local_world=>{global_variable}\")\n",
    "    print(hex(id(global_variable)))\n",
    "local_world()"
   ]
  },
  {
   "cell_type": "code",
   "execution_count": 113,
   "id": "21efe3d9-5ec3-4bb1-8a1f-c11e76387a3b",
   "metadata": {},
   "outputs": [
    {
     "name": "stdout",
     "output_type": "stream",
     "text": [
      "중요한 것은 꺾이지 않는 마음\n"
     ]
    }
   ],
   "source": [
    "important_is_an_unbroken_heart = \"중요한 것은 꺾이지 않는 마음\"\n",
    "def trials_and_tribulations():\n",
    "    important_is_an_unbroken_heartis_an_unbroken_heart = \"흔들흔들\" # 이름은 가\n",
    "\n",
    "trials_and_tribulations()\n",
    "print(important_is_an_unbroken_heart)"
   ]
  },
  {
   "cell_type": "code",
   "execution_count": null,
   "id": "c41f67e3-a2f8-4d32-a34d-5017db205c75",
   "metadata": {},
   "outputs": [],
   "source": []
  }
 ],
 "metadata": {
  "kernelspec": {
   "display_name": "Python 3 (ipykernel)",
   "language": "python",
   "name": "python3"
  },
  "language_info": {
   "codemirror_mode": {
    "name": "ipython",
    "version": 3
   },
   "file_extension": ".py",
   "mimetype": "text/x-python",
   "name": "python",
   "nbconvert_exporter": "python",
   "pygments_lexer": "ipython3",
   "version": "3.9.13"
  }
 },
 "nbformat": 4,
 "nbformat_minor": 5
}
