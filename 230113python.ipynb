{
 "cells": [
  {
   "cell_type": "code",
   "execution_count": 1,
   "id": "4c9e318c-4100-4e86-91db-2c056cd00222",
   "metadata": {},
   "outputs": [],
   "source": [
    "import random"
   ]
  },
  {
   "cell_type": "code",
   "execution_count": 2,
   "id": "7fd992c0-e07c-4827-82fc-eeb1a4190147",
   "metadata": {},
   "outputs": [
    {
     "name": "stdout",
     "output_type": "stream",
     "text": [
      "lsit_strs = ['a', 'b', 'c', 'd', 'e', 'f', 'g', 'h', 'i', 'j', 'k', 'l', 'm', 'n', 'o', 'p', 'q', 'r', 's', 't', 'u', 'v', 'w', 'x', 'y', 'a']\n",
      "\n",
      "whole_str = a*b*c*d*e*f*g*h*i*j*k*l*m*n*o*p*q*r*s*t*u*v*w*x*y*a\n"
     ]
    }
   ],
   "source": [
    "list_strs = [_ for _ in \"abcdefghijklmnopqrstuvwxya\"]\n",
    "print(f\"lsit_strs = {list_strs}\")\n",
    "\n",
    "whole_str = \"*\".join(list_strs)\n",
    "print(f\"\\nwhole_str = {whole_str}\")"
   ]
  },
  {
   "cell_type": "code",
   "execution_count": 39,
   "id": "36e61860-d901-459a-8d3c-06ab65efb238",
   "metadata": {},
   "outputs": [
    {
     "name": "stdin",
     "output_type": "stream",
     "text": [
      "숫자 입력:  50\n"
     ]
    },
    {
     "name": "stdout",
     "output_type": "stream",
     "text": [
      "그보다 작습니다.\n"
     ]
    },
    {
     "name": "stdin",
     "output_type": "stream",
     "text": [
      "숫자 입력:  20\n"
     ]
    },
    {
     "name": "stdout",
     "output_type": "stream",
     "text": [
      "그보다 작습니다.\n"
     ]
    },
    {
     "name": "stdin",
     "output_type": "stream",
     "text": [
      "숫자 입력:  10\n"
     ]
    },
    {
     "name": "stdout",
     "output_type": "stream",
     "text": [
      "그보다 작습니다.\n"
     ]
    },
    {
     "name": "stdin",
     "output_type": "stream",
     "text": [
      "숫자 입력:  6\n"
     ]
    },
    {
     "name": "stdout",
     "output_type": "stream",
     "text": [
      "그보다 작습니다.\n"
     ]
    },
    {
     "name": "stdin",
     "output_type": "stream",
     "text": [
      "숫자 입력:  3\n"
     ]
    },
    {
     "name": "stdout",
     "output_type": "stream",
     "text": [
      "그보다 작습니다.\n"
     ]
    },
    {
     "name": "stdin",
     "output_type": "stream",
     "text": [
      "숫자 입력:  2\n"
     ]
    },
    {
     "name": "stdout",
     "output_type": "stream",
     "text": [
      "맞췄습니다!\n",
      "6번만에 맞추셨습니다.\n",
      "입력한 숫자는 다음과 같습니다. 50, 20, 10, 6, 3, 2\n"
     ]
    }
   ],
   "source": [
    "rand_num = random.randint(1, 100) # 1부터 100까지 사이의 랜덤 수\n",
    "num_list = []\n",
    "while True: # input_num != rand_num:\n",
    "    input_num = int(input(\"숫자 입력: \"))\n",
    "    num_list.append(str(input_num))\n",
    "    if input_num < 1 or input_num > 100:\n",
    "        print(\"1~100 사이의 숫자를 입력하세요.\")\n",
    "    elif input_num > rand_num:\n",
    "        print(\"그보다 작습니다.\")\n",
    "    elif input_num < rand_num:\n",
    "        print(\"그보다 큽니다.\")\n",
    "    elif input_num == rand_num:\n",
    "        print(\"맞췄습니다!\")\n",
    "        break\n",
    "\n",
    "show_list = \", \".join(num_list)\n",
    "print(f\"{len(num_list)}번만에 맞추셨습니다.\")\n",
    "print(\"입력한 숫자는 다음과 같습니다.\", show_list)"
   ]
  },
  {
   "cell_type": "code",
   "execution_count": 14,
   "id": "72d63745-206c-4b17-b87f-061eb79ae988",
   "metadata": {},
   "outputs": [
    {
     "name": "stdout",
     "output_type": "stream",
     "text": [
      "set() <class 'set'>\n"
     ]
    }
   ],
   "source": [
    "set_var = set()\n",
    "print(set_var, type(set_var))"
   ]
  },
  {
   "cell_type": "code",
   "execution_count": 18,
   "id": "b2ef80f9-dc99-4fbe-a44f-b27ab5e480ab",
   "metadata": {},
   "outputs": [
    {
     "name": "stdout",
     "output_type": "stream",
     "text": [
      "{1}\n"
     ]
    }
   ],
   "source": [
    "[set_var.add(1) for _ in range(5)]\n",
    "print(set_var)"
   ]
  },
  {
   "cell_type": "code",
   "execution_count": 20,
   "id": "3b6917b5-f922-41ce-9f7a-3b6533cfb77c",
   "metadata": {},
   "outputs": [
    {
     "data": {
      "text/plain": [
       "[None, None, None, None, None, None, None, None, None]"
      ]
     },
     "execution_count": 20,
     "metadata": {},
     "output_type": "execute_result"
    }
   ],
   "source": [
    "[set_var.add(i) for i in range(9)]"
   ]
  },
  {
   "cell_type": "code",
   "execution_count": 34,
   "id": "85cd268f-2b62-439d-9ec2-8ddea919872a",
   "metadata": {
    "tags": []
   },
   "outputs": [
    {
     "name": "stdout",
     "output_type": "stream",
     "text": [
      "{0, 3, 6, 9, 12, 15, 18}\n",
      "{0, 3, 6, 12, 15, 18}\n",
      "{0, 3, 6, 12, 15, 18}\n",
      "{0, 3, 12, 15, 18}\n",
      "set()\n"
     ]
    }
   ],
   "source": [
    "set_var = {_ for _ in range(20) if _%3 == 0}\n",
    "print(set_var)\n",
    "set_var.remove(9)\n",
    "print(set_var)\n",
    "set_var.discard('없는 값')\n",
    "print(set_var)\n",
    "set_var.discard(6)\n",
    "print(set_var)\n",
    "set_var.clear()\n",
    "print(set_var)"
   ]
  },
  {
   "cell_type": "code",
   "execution_count": 38,
   "id": "6cfede82-fa96-4685-b608-fdfdc547f55c",
   "metadata": {},
   "outputs": [
    {
     "name": "stdout",
     "output_type": "stream",
     "text": [
      "set_var1 개수는 7개입니다.\n"
     ]
    }
   ],
   "source": [
    "set_var1 = {_ for _ in range(20) if _ % 3 == 0}\n",
    "print(f\"set_var1 개수는 {len(set_var1)}개입니다.\")"
   ]
  },
  {
   "cell_type": "markdown",
   "id": "782510f5-3c18-4fe9-a282-880ff037f6cd",
   "metadata": {},
   "source": [
    "함수"
   ]
  },
  {
   "cell_type": "code",
   "execution_count": 43,
   "id": "7f24591d-400a-45cf-8b89-d9815f3e8a70",
   "metadata": {},
   "outputs": [],
   "source": [
    "# 함수 정의절\n",
    "# 인자(매개변수, parameter)\n",
    "# non-default parameter -> \"값\", \"값2\", \"값3\", ...\n",
    "# default parameter - key = \"value\", key2=\"value2\", ...\n",
    "def function_name(param1, param2, /, poskey1, poskey2, *, keyonly1, keyonly2):\n",
    "    \"\"\"Docs\"\"\"\n",
    "    pass"
   ]
  },
  {
   "cell_type": "code",
   "execution_count": 44,
   "id": "28a5698f-2142-486f-ba42-a50f47573529",
   "metadata": {},
   "outputs": [
    {
     "ename": "TypeError",
     "evalue": "function_name() missing 1 required keyword-only argument: 'keyonly2'",
     "output_type": "error",
     "traceback": [
      "\u001b[1;31m---------------------------------------------------------------------------\u001b[0m",
      "\u001b[1;31mTypeError\u001b[0m                                 Traceback (most recent call last)",
      "\u001b[1;32m~\\AppData\\Local\\Temp\\ipykernel_2992\\4027716133.py\u001b[0m in \u001b[0;36m<module>\u001b[1;34m\u001b[0m\n\u001b[0;32m      2\u001b[0m \u001b[1;31m# positional-only -> \"값\", \"값2\", \"값3\", ....\u001b[0m\u001b[1;33m\u001b[0m\u001b[1;33m\u001b[0m\u001b[0m\n\u001b[0;32m      3\u001b[0m \u001b[1;31m# keyword-only -> key=\"value\", key2=\"value2\", ...\u001b[0m\u001b[1;33m\u001b[0m\u001b[1;33m\u001b[0m\u001b[0m\n\u001b[1;32m----> 4\u001b[1;33m \u001b[0mfunction_name\u001b[0m\u001b[1;33m(\u001b[0m\u001b[1;34m\"posonly\"\u001b[0m\u001b[1;33m,\u001b[0m \u001b[1;34m\"po\"\u001b[0m\u001b[1;33m,\u001b[0m \u001b[1;34m\"value\"\u001b[0m\u001b[1;33m,\u001b[0m \u001b[0mposkey2\u001b[0m\u001b[1;33m=\u001b[0m\u001b[1;34m\"value\"\u001b[0m\u001b[1;33m,\u001b[0m \u001b[0mkeyonly1\u001b[0m\u001b[1;33m=\u001b[0m\u001b[1;34m\"value\"\u001b[0m\u001b[1;33m)\u001b[0m\u001b[1;33m\u001b[0m\u001b[1;33m\u001b[0m\u001b[0m\n\u001b[0m",
      "\u001b[1;31mTypeError\u001b[0m: function_name() missing 1 required keyword-only argument: 'keyonly2'"
     ]
    }
   ],
   "source": [
    "# 인수(argument)\n",
    "# positional-only -> \"값\", \"값2\", \"값3\", ....\n",
    "# keyword-only -> key=\"value\", key2=\"value2\", ...\n",
    "function_name(\"posonly\", \"po\", \"value\", poskey2=\"value\", keyonly1=\"value\")"
   ]
  },
  {
   "cell_type": "code",
   "execution_count": 51,
   "id": "ec0b4443-969e-4115-ac60-7ed85f737b26",
   "metadata": {},
   "outputs": [],
   "source": [
    "def function_name2(param1, param2, *args):\n",
    "    print(param1)\n",
    "    print(param2)\n",
    "    print(type(args))\n",
    "    for arg in args:\n",
    "        print(arg)"
   ]
  },
  {
   "cell_type": "code",
   "execution_count": 52,
   "id": "078b0330-1596-4f87-a221-c3827feb4de3",
   "metadata": {},
   "outputs": [
    {
     "name": "stdout",
     "output_type": "stream",
     "text": [
      "args\n",
      "는\n",
      "<class 'tuple'>\n",
      "가변 위치\n",
      "인수입니다.\n"
     ]
    }
   ],
   "source": [
    "function_name2(\"args\", \"는\", \"가변 위치\", \"인수입니다.\")"
   ]
  },
  {
   "cell_type": "code",
   "execution_count": 49,
   "id": "e09a1b65-c27e-4f6e-910d-e3f478c0b1cf",
   "metadata": {},
   "outputs": [],
   "source": [
    "a, b, c, d = [_ for _ in range(4)]"
   ]
  },
  {
   "cell_type": "code",
   "execution_count": 50,
   "id": "6a593ab5-e440-4b88-8b38-ad9d4f7c5975",
   "metadata": {},
   "outputs": [
    {
     "name": "stdout",
     "output_type": "stream",
     "text": [
      "0 1 2 3\n"
     ]
    }
   ],
   "source": [
    "print(a, b, c, d)"
   ]
  },
  {
   "cell_type": "code",
   "execution_count": 55,
   "id": "47dc18f9-3bcd-4744-bce3-03ec391d1434",
   "metadata": {},
   "outputs": [],
   "source": [
    "# 가변 키워드 인자 Keyword ARGumentS\n",
    "def function_name3(**kargs):\n",
    "    print(type(kargs))\n",
    "    print(kargs)\n",
    "    print(kargs[\"key\"])"
   ]
  },
  {
   "cell_type": "code",
   "execution_count": 56,
   "id": "aa2cc71e-358d-48e8-8f74-20f99df27faf",
   "metadata": {},
   "outputs": [
    {
     "name": "stdout",
     "output_type": "stream",
     "text": [
      "<class 'dict'>\n",
      "{'key': 'value', 'key2': 'value2', 'key3': 'value3'}\n",
      "value\n"
     ]
    }
   ],
   "source": [
    "# 함수 호출\n",
    "function_name3(key=\"value\", key2=\"value2\", key3=\"value3\")"
   ]
  },
  {
   "cell_type": "code",
   "execution_count": 58,
   "id": "f23dbbb0-b432-4ee0-9ea9-2f6aa0ab2834",
   "metadata": {},
   "outputs": [],
   "source": [
    "def function_name4(param1, param2, param3 = \"default\"):\n",
    "    pass"
   ]
  },
  {
   "cell_type": "code",
   "execution_count": 59,
   "id": "8759b4df-3918-40bd-9bb7-36ff82f70424",
   "metadata": {},
   "outputs": [],
   "source": [
    "def greeting(name, age):\n",
    "    print(f\"{name}씨 안녕하세요. 약 {age*365.25}일 됐습니다.\")"
   ]
  },
  {
   "cell_type": "code",
   "execution_count": 60,
   "id": "208d5163-398b-4639-8978-452f1c6a5c86",
   "metadata": {},
   "outputs": [
    {
     "name": "stdout",
     "output_type": "stream",
     "text": [
      "파이썬씨 안녕하세요. 약 11688.0일 됐습니다.\n"
     ]
    }
   ],
   "source": [
    "greeting(\"파이썬\", 32)"
   ]
  },
  {
   "cell_type": "code",
   "execution_count": 61,
   "id": "dff55a27-b5c4-4c5b-aa14-0f5738d95044",
   "metadata": {},
   "outputs": [
    {
     "name": "stdout",
     "output_type": "stream",
     "text": [
      "파이썬씨 안녕하세요. 약 11688.0일 됐습니다.\n"
     ]
    }
   ],
   "source": [
    "greeting(age=32, name=\"파이썬\")"
   ]
  },
  {
   "cell_type": "code",
   "execution_count": 62,
   "id": "fceac052-051e-4a25-87ae-71bc9b8748b1",
   "metadata": {},
   "outputs": [],
   "source": [
    "def greeting1(name, age=32):\n",
    "    print(f\"{name}씨 안녕하세요. 약 {age*365.25}일 됐습니다.\")"
   ]
  },
  {
   "cell_type": "code",
   "execution_count": 64,
   "id": "a519a50c-f2b5-4a9e-a4ff-fead260f610b",
   "metadata": {},
   "outputs": [
    {
     "name": "stdout",
     "output_type": "stream",
     "text": [
      "파이썬씨 안녕하세요. 약 11688.0일 됐습니다.\n"
     ]
    }
   ],
   "source": [
    "greeting1(\"파이썬\")"
   ]
  },
  {
   "cell_type": "code",
   "execution_count": 67,
   "id": "61651458-d395-4bf6-8d26-847eb9898044",
   "metadata": {},
   "outputs": [],
   "source": [
    "def posonly(posonly, /): # 위치 전용 인자\n",
    "    print(posonly)"
   ]
  },
  {
   "cell_type": "code",
   "execution_count": 68,
   "id": "b13fc2e3-fc5f-424a-bf9b-f479fa568836",
   "metadata": {},
   "outputs": [
    {
     "ename": "TypeError",
     "evalue": "posonly() got some positional-only arguments passed as keyword arguments: 'posonly'",
     "output_type": "error",
     "traceback": [
      "\u001b[1;31m---------------------------------------------------------------------------\u001b[0m",
      "\u001b[1;31mTypeError\u001b[0m                                 Traceback (most recent call last)",
      "\u001b[1;32m~\\AppData\\Local\\Temp\\ipykernel_2992\\2146950883.py\u001b[0m in \u001b[0;36m<module>\u001b[1;34m\u001b[0m\n\u001b[1;32m----> 1\u001b[1;33m \u001b[0mposonly\u001b[0m\u001b[1;33m(\u001b[0m\u001b[0mposonly\u001b[0m\u001b[1;33m=\u001b[0m\u001b[1;34m\"키워드 인수로 전달하면 오류 발생!\"\u001b[0m\u001b[1;33m)\u001b[0m\u001b[1;33m\u001b[0m\u001b[1;33m\u001b[0m\u001b[0m\n\u001b[0m",
      "\u001b[1;31mTypeError\u001b[0m: posonly() got some positional-only arguments passed as keyword arguments: 'posonly'"
     ]
    }
   ],
   "source": [
    "posonly(posonly=\"키워드 인수로 전달하면 오류 발생!\")"
   ]
  },
  {
   "cell_type": "code",
   "execution_count": 70,
   "id": "00c8a997-855b-4066-a3a1-6268bcc2e929",
   "metadata": {},
   "outputs": [],
   "source": [
    "def keyonly(*, keyonly=\"default\"):\n",
    "    print(keyonly)"
   ]
  },
  {
   "cell_type": "code",
   "execution_count": 72,
   "id": "5bffdb6d-e404-4954-989b-7987c756a0c0",
   "metadata": {},
   "outputs": [
    {
     "name": "stdout",
     "output_type": "stream",
     "text": [
      "키워드로만 입력해야 합니다.\n"
     ]
    }
   ],
   "source": [
    "keyonly(keyonly=\"키워드로만 입력해야 합니다.\")"
   ]
  },
  {
   "cell_type": "code",
   "execution_count": 74,
   "id": "7f7aa7ed-cc50-4f84-b8c1-a1d25e4f9aef",
   "metadata": {},
   "outputs": [],
   "source": [
    "def var_positional(*args):\n",
    "    print(type(args))\n",
    "    return sum([_ for _ in args])"
   ]
  },
  {
   "cell_type": "code",
   "execution_count": 76,
   "id": "23c1c4a0-ec71-4649-a1b2-f3c40dd920b8",
   "metadata": {},
   "outputs": [
    {
     "name": "stdout",
     "output_type": "stream",
     "text": [
      "<class 'tuple'>\n",
      "15\n"
     ]
    }
   ],
   "source": [
    "print(var_positional(1, 2, 3, 4, 5))"
   ]
  },
  {
   "cell_type": "code",
   "execution_count": 77,
   "id": "c4479d84-027a-4f87-8451-cf36344e1669",
   "metadata": {},
   "outputs": [
    {
     "name": "stdout",
     "output_type": "stream",
     "text": [
      "21.11111111111111\n"
     ]
    }
   ],
   "source": [
    "def to_celsius(farenheit):\n",
    "    celsius = (farenheit - 32) * 5/9\n",
    "    return celsius\n",
    "print(to_celsius(70))"
   ]
  },
  {
   "cell_type": "code",
   "execution_count": 94,
   "id": "31627d2b-6822-4d43-a49d-a7665c31eeae",
   "metadata": {},
   "outputs": [
    {
     "name": "stdout",
     "output_type": "stream",
     "text": [
      "number가 짝수면 \"짝수\", 홀수면 \"홀수\" 반환\n",
      "짝수\n",
      "홀수\n",
      "None\n"
     ]
    }
   ],
   "source": [
    "def odd_even(number):\n",
    "    \"\"\"number가 짝수면 \"짝수\", 홀수면 \"홀수\" 반환\"\"\"\n",
    "    if (type(number) != int) or (number<=0):\n",
    "        return\n",
    "    elif number %2==0:\n",
    "        return \"짝수\"\n",
    "    elif number %2==1:\n",
    "        return \"홀수\"\n",
    "\n",
    "print(odd_even.__doc__)\n",
    "print(odd_even(10))\n",
    "print(odd_even(9))\n",
    "print(odd_even(\"가\"))"
   ]
  },
  {
   "cell_type": "code",
   "execution_count": 96,
   "id": "c2796668-755f-4278-8a70-17c160e8f4d6",
   "metadata": {},
   "outputs": [
    {
     "name": "stdout",
     "output_type": "stream",
     "text": [
      "number가 짝수면 \"짝수\", 홀수면 \"홀수\" 반환\n",
      "짝수\n",
      "홀수\n",
      "None\n"
     ]
    }
   ],
   "source": [
    "def odd_even(number):\n",
    "    \"\"\"number가 짝수면 \"짝수\", 홀수면 \"홀수\" 반환\"\"\"\n",
    "    if type(number) is int and number>0:\n",
    "        return \"짝수\" * (number % 2 == 0) or \"홀수\"\n",
    "    else:\n",
    "        return\n",
    "print(odd_even.__doc__)\n",
    "print(odd_even(10))\n",
    "print(odd_even(9))\n",
    "print(odd_even(\"가\"))"
   ]
  },
  {
   "cell_type": "code",
   "execution_count": 98,
   "id": "24ccacb2-fedf-4ed6-ab8a-ae4f15dc50b7",
   "metadata": {},
   "outputs": [
    {
     "name": "stdout",
     "output_type": "stream",
     "text": [
      "윤년\n",
      "윤년\n",
      "평년\n"
     ]
    }
   ],
   "source": [
    "def check_leap_year(year):\n",
    "    if year%4 != 0 or (year%100==0 and year%400!=0):\n",
    "        return \"평년\"\n",
    "    else:\n",
    "        return \"윤년\"\n",
    "print(check_leap_year(2004))\n",
    "print(check_leap_year(2000))\n",
    "print(check_leap_year(1900))"
   ]
  },
  {
   "cell_type": "code",
   "execution_count": 99,
   "id": "ebf1e9f2-b699-45b8-8064-00b9371599d4",
   "metadata": {},
   "outputs": [
    {
     "name": "stdout",
     "output_type": "stream",
     "text": [
      "30\n",
      "28\n",
      "31\n"
     ]
    }
   ],
   "source": [
    "def days(month):\n",
    "    if month in [1, 3, 5, 7, 8, 10, 12]:\n",
    "        return 31\n",
    "    elif month in [4, 6, 9, 11]:\n",
    "        return 30\n",
    "    else:\n",
    "        return 28\n",
    "print(days(11))\n",
    "print(days(2))\n",
    "print(days(1))"
   ]
  },
  {
   "cell_type": "code",
   "execution_count": 106,
   "id": "568751a5-4f04-4d72-b089-866948313431",
   "metadata": {},
   "outputs": [
    {
     "name": "stdout",
     "output_type": "stream",
     "text": [
      "30\n",
      "31\n",
      "28\n",
      "29\n"
     ]
    }
   ],
   "source": [
    "def days(year, month):\n",
    "    if month in [1, 3, 5, 7, 8, 10, 12]:\n",
    "        return 31\n",
    "    elif month in [4, 6, 9, 11]:\n",
    "        return 30\n",
    "    else:\n",
    "        if year%4 != 0 or (year%100==0 and year%400!=0):\n",
    "                return 28\n",
    "        else:\n",
    "                return 29\n",
    "print(days(1900, 11))\n",
    "print(days(2004, 10))\n",
    "print(days(1900, 2))\n",
    "print(days(2000, 2))"
   ]
  },
  {
   "cell_type": "code",
   "execution_count": 110,
   "id": "2734a409-de9b-4d5b-b8e8-f641545248cc",
   "metadata": {},
   "outputs": [
    {
     "name": "stdout",
     "output_type": "stream",
     "text": [
      "몫: 3, 나머지: 1\n"
     ]
    }
   ],
   "source": [
    "x = 10\n",
    "y = 3\n",
    "def get_quotient_remainder(x, y):\n",
    "    return x//y, x%y # 괄호 안치면 튜플 값\n",
    "quitient, remainder = get_quotient_remainder(x, y)\n",
    "print(f\"몫: {quitient}, 나머지: {remainder}\")"
   ]
  },
  {
   "cell_type": "code",
   "execution_count": 111,
   "id": "2355f560-822a-4f62-b573-6529755db330",
   "metadata": {},
   "outputs": [
    {
     "name": "stdout",
     "output_type": "stream",
     "text": [
      "global_variable in global scope = > this is global world.\n",
      "0x277da2fd530\n",
      "global_variable in local_world=>this is global world.\n",
      "0x277da2fd530\n"
     ]
    }
   ],
   "source": [
    "global_variable = \"this is global world.\"\n",
    "\n",
    "print(f\"global_variable in global scope = > {global_variable}\")\n",
    "print(hex(id(global_variable)))\n",
    "\n",
    "def local_world():\n",
    "    print(f\"global_variable in local_world=>{global_variable}\")\n",
    "    print(hex(id(global_variable)))\n",
    "local_world()"
   ]
  },
  {
   "cell_type": "code",
   "execution_count": 114,
   "id": "21efe3d9-5ec3-4bb1-8a1f-c11e76387a3b",
   "metadata": {},
   "outputs": [
    {
     "name": "stdout",
     "output_type": "stream",
     "text": [
      "중요한 것은 꺾이지 않는 마음\n"
     ]
    }
   ],
   "source": [
    "important_is_an_unbroken_heart = \"중요한 것은 꺾이지 않는 마음\" # 전역변수 생성과 초기화\n",
    "def trials_and_tribulations():\n",
    "    important_is_an_unbroken_heartis_an_unbroken_heart = \"흔들흔들\" # 이름은 같지만 다른 지연변수가 생성된 것\n",
    "\n",
    "trials_and_tribulations()\n",
    "print(important_is_an_unbroken_heart)"
   ]
  },
  {
   "cell_type": "code",
   "execution_count": 115,
   "id": "c41f67e3-a2f8-4d32-a34d-5017db205c75",
   "metadata": {},
   "outputs": [
    {
     "name": "stdout",
     "output_type": "stream",
     "text": [
      "global 키워드 활용해서 변경 완료\n"
     ]
    }
   ],
   "source": [
    "global_variable = \"변경이 됩니까?\"\n",
    "def heartbreaker():\n",
    "        global global_variable\n",
    "        global_variable = \"global 키워드 활용해서 변경 완료\"\n",
    "heartbreaker()\n",
    "print(global_variable)"
   ]
  },
  {
   "cell_type": "code",
   "execution_count": 117,
   "id": "8e2fd8bf-53c1-4774-ae4b-ad4a0916efc7",
   "metadata": {},
   "outputs": [
    {
     "name": "stdout",
     "output_type": "stream",
     "text": [
      "this is level 1.\n"
     ]
    }
   ],
   "source": [
    "def level1():\n",
    "    message = \"this is level 1.\"\n",
    "    def level2():\n",
    "        print(message)\n",
    "    level2()\n",
    "level1()"
   ]
  },
  {
   "cell_type": "code",
   "execution_count": 119,
   "id": "60853a61-794d-49af-9446-b303449de9c3",
   "metadata": {},
   "outputs": [
    {
     "name": "stdout",
     "output_type": "stream",
     "text": [
      "this is level 1.\n"
     ]
    }
   ],
   "source": [
    "def level1():\n",
    "    message = \"this is level 1.\"\n",
    "    def level2():\n",
    "        message = \"level2 is better than level1.\"\n",
    "    level2()\n",
    "    print(message)\n",
    "level1()"
   ]
  },
  {
   "cell_type": "code",
   "execution_count": 120,
   "id": "dc4d5eec-2955-452a-9805-250ae76837ae",
   "metadata": {},
   "outputs": [
    {
     "name": "stdout",
     "output_type": "stream",
     "text": [
      "level2 is better than level1.\n"
     ]
    }
   ],
   "source": [
    "def level1():\n",
    "    message = \"this is level 1.\"\n",
    "    def level2():\n",
    "        nonlocal message # nonlocal 키워드를 통해 바깥 영역의 변수를 사용하겠다고 설정\n",
    "        message = \"level2 is better than level1.\"\n",
    "    level2()\n",
    "    print(message)\n",
    "level1()"
   ]
  },
  {
   "cell_type": "markdown",
   "id": "817adf86-24ef-4d1b-8841-fbcd4e5271e0",
   "metadata": {},
   "source": [
    "### 중첩된 함수마다 같은 이름의 변수가 있따면 onlocal 키워드는 제일 가까운 바깥 지역변수 매칭"
   ]
  },
  {
   "cell_type": "code",
   "execution_count": 121,
   "id": "b3f8de64-be97-4759-bb64-3c0a9de10a14",
   "metadata": {},
   "outputs": [
    {
     "name": "stdout",
     "output_type": "stream",
     "text": [
      "전역 변수입니다.\n"
     ]
    }
   ],
   "source": [
    "# 지역 범위(local scope) 전역 변수(global variable)에 접근 출력\n",
    "global_v = \"전역 변수입니다.\"\n",
    "\n",
    "def local_scope():\n",
    "    print(global_v)\n",
    "\n",
    "local_scope()"
   ]
  },
  {
   "cell_type": "code",
   "execution_count": 124,
   "id": "368e1e25-f36f-4e59-92c3-ea3aae1309f6",
   "metadata": {},
   "outputs": [
    {
     "name": "stdout",
     "output_type": "stream",
     "text": [
      "전역 변수입니다.\n"
     ]
    }
   ],
   "source": [
    "# 지역 범위(local scope) 전역 변수(global variable)에 접근 후 재할당\n",
    "global_v2 = \"전역 변수입니다.\"\n",
    "\n",
    "def local_scope2():\n",
    "    global_v2 = \"지역 범위입니다.\"\n",
    "    \n",
    "local_scope2()\n",
    "print(global_v2)\n",
    "# 사실은 전역 범위에서 global_v2를 만들어 할당한 것과\n",
    "# 로컬 범위에서 global_v2를 만들어 할당한 것\n",
    "# 두 가지 일을 각각 독립적으로 실행한 결과를 확인했다."
   ]
  },
  {
   "cell_type": "code",
   "execution_count": 126,
   "id": "cc7cf4a5-ceb0-4721-81ba-6f9bf0ce4bf6",
   "metadata": {},
   "outputs": [
    {
     "name": "stdout",
     "output_type": "stream",
     "text": [
      "지역 범위에서 변경합니다.\n"
     ]
    }
   ],
   "source": [
    "# 지역 범위(local scope) 전역 변수(global variable)에 접근 후 재할당\n",
    "global_v3 = \"전역 변수입니다.\"\n",
    "\n",
    "def local_scope3():\n",
    "    global global_v3 # 전역 범위에 있는 전역 변수인 global_v3를 사용하겠다.\n",
    "    global_v3 = \"지역 범위에서 변경합니다.\"\n",
    "    \n",
    "local_scope3()\n",
    "print(global_v3)\n",
    "# global 키워드를 활용하면 지역 범위에 있어도 전역 변수에 대한 변경이 가능하도록 할 수 있었다."
   ]
  },
  {
   "cell_type": "code",
   "execution_count": 128,
   "id": "4dc08b40-6895-4175-afdf-507f258a0af2",
   "metadata": {},
   "outputs": [
    {
     "ename": "NameError",
     "evalue": "name 'global_v4' is not defined",
     "output_type": "error",
     "traceback": [
      "\u001b[1;31m---------------------------------------------------------------------------\u001b[0m",
      "\u001b[1;31mNameError\u001b[0m                                 Traceback (most recent call last)",
      "\u001b[1;32m~\\AppData\\Local\\Temp\\ipykernel_2992\\3343479687.py\u001b[0m in \u001b[0;36m<module>\u001b[1;34m\u001b[0m\n\u001b[0;32m      8\u001b[0m     \u001b[0mlocal_scope5\u001b[0m\u001b[1;33m(\u001b[0m\u001b[1;33m)\u001b[0m\u001b[1;33m\u001b[0m\u001b[1;33m\u001b[0m\u001b[0m\n\u001b[0;32m      9\u001b[0m \u001b[1;33m\u001b[0m\u001b[0m\n\u001b[1;32m---> 10\u001b[1;33m \u001b[0mprint\u001b[0m\u001b[1;33m(\u001b[0m\u001b[0mglobal_v4\u001b[0m\u001b[1;33m)\u001b[0m\u001b[1;33m\u001b[0m\u001b[1;33m\u001b[0m\u001b[0m\n\u001b[0m\u001b[0;32m     11\u001b[0m \u001b[1;31m# 지역 범위 안에 있는 지역 변수는 그 함수 실행과 반환 사이동안만 살아있었다.\u001b[0m\u001b[1;33m\u001b[0m\u001b[1;33m\u001b[0m\u001b[0m\n\u001b[0;32m     12\u001b[0m \u001b[0mlocal_scope4\u001b[0m\u001b[1;33m(\u001b[0m\u001b[1;33m)\u001b[0m\u001b[1;33m\u001b[0m\u001b[1;33m\u001b[0m\u001b[0m\n",
      "\u001b[1;31mNameError\u001b[0m: name 'global_v4' is not defined"
     ]
    }
   ],
   "source": [
    "# 지역 범위(local scope) 안에 지역 범위가 중첩되어 있을 경우\n",
    "# 비교적 바깥에 있는 지역 범위의 지역 변수에 접근하여 출력\n",
    "\n",
    "def local_scope4():\n",
    "    global_v4 = \"바깥 지역 범위입니다..\"\n",
    "    def local_scope5():\n",
    "        print(global_v4)\n",
    "    local_scope5()\n",
    "    \n",
    "print(global_v4)\n",
    "# 지역 범위 안에 있는 지역 변수는 그 함수 실행과 반환 사이동안만 살아있었다.\n",
    "local_scope4()"
   ]
  },
  {
   "cell_type": "code",
   "execution_count": 133,
   "id": "7593e1d2-346e-4cea-8066-3e50b7a4899e",
   "metadata": {},
   "outputs": [
    {
     "name": "stdout",
     "output_type": "stream",
     "text": [
      "바깥 지역 범위입니다.\n"
     ]
    }
   ],
   "source": [
    "# 지역 범위(local scope) 안에 지역 범위가 중첩되어 있을 경우\n",
    "# 비교적 바깥에 있는 지역 범위의 지역 변수에 접근하여 출력\n",
    "\n",
    "def local_scope6():\n",
    "    global_v5 = \"바깥 지역 범위입니다.\" # 더 넓은 범위의 로컬 변수로 선언\n",
    "    def local_scope7():\n",
    "        global_v5 = \"안쪽 지역 범위입니다.\" # 더 좁은 범위의 로컬 변수로 선언\n",
    "    local_scope7()\n",
    "    print(global_v5)\n",
    "    \n",
    "local_scope6()\n",
    "\n",
    "# 그래서 local_scope6 범위의 global_v5는\n",
    "# local_scope7 범위의 global_v5와 각각 독립적으로 생성이 된 것을 봤따."
   ]
  },
  {
   "cell_type": "code",
   "execution_count": 135,
   "id": "e6c820cf-5b54-45e3-8fb0-dd060c038bd1",
   "metadata": {},
   "outputs": [
    {
     "name": "stdout",
     "output_type": "stream",
     "text": [
      "안쪽 지역 범위입니다.\n"
     ]
    }
   ],
   "source": [
    "# 지역 범위(local scope) 안에 지역 범위가 중첩되어 있을 경우\n",
    "# 비교적 바깥에 있는 지역 범위의 지역 변수에 접근하여 출력\n",
    "\n",
    "def local_scope8():\n",
    "    global_v6 = \"바깥 지역 범위입니다.\" # 더 넓은 범위의 로컬 변수로 선언\n",
    "    def local_scope9():\n",
    "        nonlocal global_v6\n",
    "        global_v6 = \"안쪽 지역 범위입니다.\" # 더 좁은 범위의 로컬 변수로 선언\n",
    "    local_scope9()\n",
    "    print(global_v6)\n",
    "    \n",
    "local_scope8()"
   ]
  },
  {
   "cell_type": "markdown",
   "id": "0638ff96-5a6d-4120-9277-6ec49c258e35",
   "metadata": {},
   "source": [
    "### lambda 람다\n",
    "### lambda parametes:expression\n",
    "###     매개변수 지정: 반환값으로 사용할 식"
   ]
  },
  {
   "cell_type": "code",
   "execution_count": 136,
   "id": "bf7a0b46-36c4-4bba-b742-20b4b80228da",
   "metadata": {},
   "outputs": [
    {
     "data": {
      "text/plain": [
       "20"
      ]
     },
     "execution_count": 136,
     "metadata": {},
     "output_type": "execute_result"
    }
   ],
   "source": [
    "(lambda x: x+10)(10)"
   ]
  },
  {
   "cell_type": "code",
   "execution_count": 137,
   "id": "3df6e3bd-a3c3-4f9b-bc79-0cb86fa9034f",
   "metadata": {},
   "outputs": [
    {
     "name": "stdout",
     "output_type": "stream",
     "text": [
      "20\n"
     ]
    }
   ],
   "source": [
    "twice = lambda x:x*2\n",
    "print(twice(10))"
   ]
  },
  {
   "cell_type": "code",
   "execution_count": 138,
   "id": "50fbf98a-b4db-4a4a-9e41-d5495cb72903",
   "metadata": {},
   "outputs": [
    {
     "ename": "SyntaxError",
     "evalue": "invalid syntax (4100045642.py, line 1)",
     "output_type": "error",
     "traceback": [
      "\u001b[1;36m  File \u001b[1;32m\"C:\\Users\\peter\\AppData\\Local\\Temp\\ipykernel_2992\\4100045642.py\"\u001b[1;36m, line \u001b[1;32m1\u001b[0m\n\u001b[1;33m    (lambda x: y=10; x+y)(1)\u001b[0m\n\u001b[1;37m                ^\u001b[0m\n\u001b[1;31mSyntaxError\u001b[0m\u001b[1;31m:\u001b[0m invalid syntax\n"
     ]
    }
   ],
   "source": [
    "(lambda x: y=10; x+y)(1)\n",
    "\n",
    "# 불가. 람다 표현식 안에 새 변수를 만들 수 없다. 그럴 경우 def로 함수를 정의하는 것이 낫다."
   ]
  },
  {
   "cell_type": "markdown",
   "id": "ba8fda41-ce10-4b70-8c0f-f5d764232841",
   "metadata": {},
   "source": [
    "### 조건 표현식(Conditional Expression)\n",
    "### if else를 한 줄로 작성할 수 있는 방법\n",
    "### True일때 값 if 조건식 else Flase일때 값"
   ]
  },
  {
   "cell_type": "code",
   "execution_count": 139,
   "id": "14b593ce-9abd-42c4-b2a5-73438cd0b8be",
   "metadata": {},
   "outputs": [
    {
     "data": {
      "text/plain": [
       "'B'"
      ]
     },
     "execution_count": 139,
     "metadata": {},
     "output_type": "execute_result"
    }
   ],
   "source": [
    "score = 90\n",
    "'A' if 90<score<=100 else 'B' if 80<score else 'C'"
   ]
  },
  {
   "cell_type": "markdown",
   "id": "f3b67cbf-9878-4b86-ba1d-3759ee9633e9",
   "metadata": {},
   "source": [
    "### map(lambda parameter1, parameter2, ...: expression, iterable1, iterable2, ...)"
   ]
  },
  {
   "cell_type": "code",
   "execution_count": 141,
   "id": "c79c1259-9ffd-4b70-bd58-21d4c817dc4e",
   "metadata": {},
   "outputs": [
    {
     "name": "stdout",
     "output_type": "stream",
     "text": [
      "[2, 8, 18, 32, 50]\n"
     ]
    }
   ],
   "source": [
    "a = [_ for _ in range(1, 6)] # 1, 2, 3, 4, 5\n",
    "b = [_ for _ in range(2, 11, 2)] # 2, 4, 6, 8, 10\n",
    "print(list(map(lambda x, y: x*y, a, b)))"
   ]
  },
  {
   "cell_type": "code",
   "execution_count": 144,
   "id": "f1b5e712-8e2c-407d-8928-95d7e7ea9ec6",
   "metadata": {},
   "outputs": [
    {
     "name": "stdout",
     "output_type": "stream",
     "text": [
      "[0, 4, 12, 24, 40]\n",
      "100\n"
     ]
    }
   ],
   "source": [
    "a = [_ for _ in range(5)]\n",
    "b = [_ for _ in range(2, 11, 2)]\n",
    "\n",
    "c = list(map(lambda x, y: x*y, a, b)) # a, b는 iterable\n",
    "print(c)\n",
    "\n",
    "print((lambda x: x**2)(10))"
   ]
  },
  {
   "cell_type": "code",
   "execution_count": 145,
   "id": "ff9ec50f-4271-4f91-810a-6c1b3a9ae5f3",
   "metadata": {},
   "outputs": [
    {
     "data": {
      "text/plain": [
       "[3, 9, 9]"
      ]
     },
     "execution_count": 145,
     "metadata": {},
     "output_type": "execute_result"
    }
   ],
   "source": [
    "a = [3, 2, 8, 22, 10, 7, 0, 11, 9, 9]\n",
    "list(filter(lambda x: x%3==0 and 0<x<10, a))"
   ]
  },
  {
   "cell_type": "code",
   "execution_count": null,
   "id": "070d4d8e-2ee7-466d-b68e-e8a3cbdb050e",
   "metadata": {},
   "outputs": [],
   "source": [
    "class ClassName: # 클래스는 주로 PascalCase(UpperCamelCase)를 쓴다.\n",
    "    def method_name(self):\n",
    "        method_body\n",
    "        \n",
    "    class_body"
   ]
  },
  {
   "cell_type": "code",
   "execution_count": 146,
   "id": "9eb10a43-d34d-45dc-86bd-d20145e5ef47",
   "metadata": {},
   "outputs": [
    {
     "name": "stdout",
     "output_type": "stream",
     "text": [
      "<class 'int'>\n"
     ]
    }
   ],
   "source": [
    "number = int(10)\n",
    "print(type(number))"
   ]
  },
  {
   "cell_type": "markdown",
   "id": "8e626798-b330-4f15-acb4-a6c9cf91e8a6",
   "metadata": {},
   "source": [
    "### 객체와 인스턴스는 같은 말(약간은 다르지만)"
   ]
  },
  {
   "cell_type": "code",
   "execution_count": 147,
   "id": "13383cc8-391a-4f0d-9c55-b71e2aa6444e",
   "metadata": {
    "collapsed": true,
    "jupyter": {
     "outputs_hidden": true
    },
    "tags": []
   },
   "outputs": [
    {
     "ename": "NameError",
     "evalue": "name 'ClassName' is not defined",
     "output_type": "error",
     "traceback": [
      "\u001b[1;31m---------------------------------------------------------------------------\u001b[0m",
      "\u001b[1;31mNameError\u001b[0m                                 Traceback (most recent call last)",
      "\u001b[1;32m~\\AppData\\Local\\Temp\\ipykernel_2992\\2204199032.py\u001b[0m in \u001b[0;36m<module>\u001b[1;34m\u001b[0m\n\u001b[1;32m----> 1\u001b[1;33m \u001b[0minstance_variable\u001b[0m \u001b[1;33m=\u001b[0m \u001b[0mClassName\u001b[0m\u001b[1;33m(\u001b[0m\u001b[1;33m)\u001b[0m\u001b[1;33m\u001b[0m\u001b[1;33m\u001b[0m\u001b[0m\n\u001b[0m",
      "\u001b[1;31mNameError\u001b[0m: name 'ClassName' is not defined"
     ]
    }
   ],
   "source": [
    "instance_variable = ClassName()"
   ]
  },
  {
   "cell_type": "markdown",
   "id": "32564664-589e-4d63-bd8c-78ee33270687",
   "metadata": {},
   "source": [
    "### 메서드(method) 클래스 바디 안에서 정의되는 함수입니다. 클래스의 인스턴스의 어트리뷰트로서 호출되면, 그 메서드는 첫 번쨰 인자로 인스턴스 객체(self)를 받습니다. 첫 번째 인자를 설정 안하면 에러 발생. 이 첫 번째 인자를 'self'라고 씁니다."
   ]
  },
  {
   "cell_type": "code",
   "execution_count": 152,
   "id": "e96e5f7e-e5e4-4f7d-af70-5aa08780a8ab",
   "metadata": {},
   "outputs": [],
   "source": [
    "class Student:\n",
    "    def __init__(): # __ 는 double underscore라고 한다. 하지만 dunder라고도 한다.\n",
    "        pass"
   ]
  },
  {
   "cell_type": "code",
   "execution_count": 153,
   "id": "22a409fe-f58d-44b2-9dfc-e2a897602a5e",
   "metadata": {},
   "outputs": [
    {
     "ename": "TypeError",
     "evalue": "__init__() takes 0 positional arguments but 1 was given",
     "output_type": "error",
     "traceback": [
      "\u001b[1;31m---------------------------------------------------------------------------\u001b[0m",
      "\u001b[1;31mTypeError\u001b[0m                                 Traceback (most recent call last)",
      "\u001b[1;32m~\\AppData\\Local\\Temp\\ipykernel_2992\\4270614575.py\u001b[0m in \u001b[0;36m<module>\u001b[1;34m\u001b[0m\n\u001b[1;32m----> 1\u001b[1;33m \u001b[0mgh\u001b[0m \u001b[1;33m=\u001b[0m \u001b[0mStudent\u001b[0m\u001b[1;33m(\u001b[0m\u001b[1;33m)\u001b[0m \u001b[1;31m# 독립적인 값을 보장하는 인스턴스로 생성됩니다.\u001b[0m\u001b[1;33m\u001b[0m\u001b[1;33m\u001b[0m\u001b[0m\n\u001b[0m",
      "\u001b[1;31mTypeError\u001b[0m: __init__() takes 0 positional arguments but 1 was given"
     ]
    }
   ],
   "source": [
    "gh = Student() # 독립적인 값을 보장하는 인스턴스로 생성됩니다."
   ]
  },
  {
   "cell_type": "code",
   "execution_count": 157,
   "id": "994ec010-f0ed-461b-bea2-aa834956ef84",
   "metadata": {},
   "outputs": [
    {
     "name": "stdout",
     "output_type": "stream",
     "text": [
      "안녕하세요.\n",
      "안녕하세요.\n"
     ]
    }
   ],
   "source": [
    "class Person:\n",
    "    def __init__(self):\n",
    "        self.hello=\"안녕하세요.\"\n",
    "    \n",
    "    def greeting(self):\n",
    "        print(self.hello)\n",
    "        \n",
    "james = Person()\n",
    "print(james.hello)\n",
    "james.greeting()"
   ]
  },
  {
   "cell_type": "code",
   "execution_count": 155,
   "id": "a9524ca7-dd69-4907-ba65-1f5a60ff91ab",
   "metadata": {},
   "outputs": [
    {
     "name": "stdout",
     "output_type": "stream",
     "text": [
      "안녕하세요.\n"
     ]
    }
   ],
   "source": [
    "bebe = Person()\n",
    "print(bebe.hello)"
   ]
  },
  {
   "cell_type": "markdown",
   "id": "c328403c-1114-4fac-803c-29a89cb2ccd6",
   "metadata": {},
   "source": [
    "### __init__ 메서드는 인스턴스를 만들 때 호출되는 특별한 메서드.(magic method라고도 함)\n",
    "### 인스턴스를 초기화(메모리에 공간을 할당하고 값을 부여함)합니다."
   ]
  },
  {
   "cell_type": "code",
   "execution_count": null,
   "id": "e9503b87-2f24-4a0c-a77b-c6d917bf5200",
   "metadata": {},
   "outputs": [],
   "source": []
  }
 ],
 "metadata": {
  "kernelspec": {
   "display_name": "Python 3 (ipykernel)",
   "language": "python",
   "name": "python3"
  },
  "language_info": {
   "codemirror_mode": {
    "name": "ipython",
    "version": 3
   },
   "file_extension": ".py",
   "mimetype": "text/x-python",
   "name": "python",
   "nbconvert_exporter": "python",
   "pygments_lexer": "ipython3",
   "version": "3.9.13"
  }
 },
 "nbformat": 4,
 "nbformat_minor": 5
}
