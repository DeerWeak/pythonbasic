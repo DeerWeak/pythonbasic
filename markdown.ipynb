{
 "cells": [
  {
   "cell_type": "markdown",
   "id": "c04dc700-ed3c-4b4c-8fbf-25e2e69f4b01",
   "metadata": {},
   "source": [
    "# H1\n",
    "## H2\n",
    "### H3\n",
    "#### H4\n",
    "##### H5\n",
    "###### H6"
   ]
  },
  {
   "cell_type": "markdown",
   "id": "39d757c8-d944-4695-a5de-0e249c436761",
   "metadata": {
    "tags": []
   },
   "source": [
    "# 1. 마크다운 학습\n",
    "# 1.1. 마크다운2"
   ]
  },
  {
   "cell_type": "markdown",
   "id": "ad1788e5-7bb9-41fc-96d2-c50108eda047",
   "metadata": {},
   "source": [
    "일반 텍스트는 그냥 입력하시면 됩니다.  \n",
    "**굵은 글씨는** 이렇게 나옵니다.  \n",
    "줄 바꾸기는 스페이스바 두번  \n",
    "*기울인* 글씨는 별표 하나  \n",
    "~취소선~ 은 이렇게 합니다."
   ]
  },
  {
   "cell_type": "markdown",
   "id": "5c4cb3eb-8e3c-4c06-b4f9-17499b8d7ffd",
   "metadata": {},
   "source": [
    "> 구획이  \n",
    "> 잡힌  \n",
    "> 글입니다."
   ]
  },
  {
   "cell_type": "markdown",
   "id": "c5e995e9-b094-421a-aed3-cd4d3d4492a9",
   "metadata": {},
   "source": [
    "- 목록1\n",
    "- 목록2\n",
    "- 목록3  \n",
    "\n",
    "\" 사용"
   ]
  },
  {
   "cell_type": "markdown",
   "id": "033874c0-5ebd-4782-a7b0-4c99404087e5",
   "metadata": {},
   "source": [
    "* 목록1\n",
    "* 목록2\n",
    "* 목록3\n",
    "\n",
    "\"* 사용\""
   ]
  },
  {
   "cell_type": "markdown",
   "id": "045fb988-56eb-4faf-be3a-8b50c2b069e8",
   "metadata": {},
   "source": [
    "1. 순서가 있는 목록1\n",
    "2. 순서가 있는 목록2\n",
    "3. 순서가 있는 목록3"
   ]
  },
  {
   "cell_type": "markdown",
   "id": "7cba1fa8-b6f4-48be-afc3-29d719d55170",
   "metadata": {},
   "source": [
    "[Google](https://www.google.com)"
   ]
  },
  {
   "cell_type": "markdown",
   "id": "045e01da-31e9-4a5e-a3d2-c472ed3799c0",
   "metadata": {},
   "source": [
    "![이미지에 대한 설명, 시작 장애인들 위한 기능](data:image/jpeg;base64,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)"
   ]
  },
  {
   "cell_type": "markdown",
   "id": "03607f92-2227-4dac-8ad8-5517ce1418e5",
   "metadata": {},
   "source": [
    "|제목 셀 1111|제목 셀 2222|제목 셀 3333|\n",
    "|:--|--:|:--:|\n",
    "|좌측정렬|우측정렬|중앙정렬|"
   ]
  },
  {
   "cell_type": "markdown",
   "id": "f1c5af3b-7c4b-4a83-b37b-356afb793f19",
   "metadata": {},
   "source": [
    "```python\n",
    "\n",
    "x = int(input(\"인사를 몇 번 할까요?\"))\n",
    "\n",
    "for _ in range(x):\n",
    "    print(\"Hello World\")\n",
    "```"
   ]
  },
  {
   "cell_type": "code",
   "execution_count": null,
   "id": "9c54768a-e5b0-46fb-bd0c-12a84a2b85f3",
   "metadata": {},
   "outputs": [],
   "source": []
  }
 ],
 "metadata": {
  "kernelspec": {
   "display_name": "Python 3 (ipykernel)",
   "language": "python",
   "name": "python3"
  },
  "language_info": {
   "codemirror_mode": {
    "name": "ipython",
    "version": 3
   },
   "file_extension": ".py",
   "mimetype": "text/x-python",
   "name": "python",
   "nbconvert_exporter": "python",
   "pygments_lexer": "ipython3",
   "version": "3.9.13"
  }
 },
 "nbformat": 4,
 "nbformat_minor": 5
}
