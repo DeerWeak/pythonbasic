{
 "cells": [
  {
   "cell_type": "code",
   "execution_count": null,
   "id": "6add7dca-6326-464d-ac05-823934c49110",
   "metadata": {},
   "outputs": [],
   "source": [
    "def evaluate_score(y_test, y_pred):\n",
    "    from sklearn.metrics import mean_squared_error, r2_score\n",
    "    import numpy as np\n",
    "    mse = mean_squared_error(y_test, y_pred)\n",
    "    rmse = np.sqrt(mse)\n",
    "    r2 = r2_score(y_test, y_pred)\n",
    "    print(f'mse: {mse:.ef}\")"
   ]
  }
 ],
 "metadata": {
  "kernelspec": {
   "display_name": "Python 3 (ipykernel)",
   "language": "python",
   "name": "python3"
  },
  "language_info": {
   "codemirror_mode": {
    "name": "ipython",
    "version": 3
   },
   "file_extension": ".py",
   "mimetype": "text/x-python",
   "name": "python",
   "nbconvert_exporter": "python",
   "pygments_lexer": "ipython3",
   "version": "3.9.13"
  }
 },
 "nbformat": 4,
 "nbformat_minor": 5
}
