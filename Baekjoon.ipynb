{
 "cells": [
  {
   "cell_type": "code",
   "execution_count": 1,
   "id": "d1fca368-ea55-4cd6-9fdf-453ccda64d86",
   "metadata": {},
   "outputs": [
    {
     "name": "stdin",
     "output_type": "stream",
     "text": [
      " 5\n",
      " 1 1 1 6 0\n",
      " 2 7 8 3 1\n"
     ]
    },
    {
     "name": "stdout",
     "output_type": "stream",
     "text": [
      "18\n"
     ]
    }
   ],
   "source": [
    "n = int(input())\n",
    "\n",
    "list_a = list(map(int, input().split()))\n",
    "list_b = list(map(int, input().split()))\n",
    "\n",
    "sorted_a = sorted(list_a, reverse = True)\n",
    "sorted_b = sorted(list_b)\n",
    "\n",
    "total = 0\n",
    "for i in range(n):\n",
    "    total += sorted_a[i] * sorted_b[i]\n",
    "    \n",
    "print(total)"
   ]
  },
  {
   "cell_type": "code",
   "execution_count": 8,
   "id": "422164c3-24b7-4c3e-a7db-b0da7a384359",
   "metadata": {},
   "outputs": [
    {
     "name": "stdin",
     "output_type": "stream",
     "text": [
      " 60\n",
      " 100\n"
     ]
    },
    {
     "name": "stdout",
     "output_type": "stream",
     "text": [
      "0\n"
     ]
    },
    {
     "ename": "IndexError",
     "evalue": "list index out of range",
     "output_type": "error",
     "traceback": [
      "\u001b[1;31m---------------------------------------------------------------------------\u001b[0m",
      "\u001b[1;31mIndexError\u001b[0m                                Traceback (most recent call last)",
      "\u001b[1;32m~\\AppData\\Local\\Temp\\ipykernel_19764\\1547804905.py\u001b[0m in \u001b[0;36m<module>\u001b[1;34m\u001b[0m\n\u001b[0;32m     17\u001b[0m             \u001b[0mtotal\u001b[0m \u001b[1;33m+=\u001b[0m \u001b[0mi\u001b[0m\u001b[1;33m\u001b[0m\u001b[1;33m\u001b[0m\u001b[0m\n\u001b[0;32m     18\u001b[0m \u001b[0mprint\u001b[0m\u001b[1;33m(\u001b[0m\u001b[0mtotal\u001b[0m\u001b[1;33m)\u001b[0m\u001b[1;33m\u001b[0m\u001b[1;33m\u001b[0m\u001b[0m\n\u001b[1;32m---> 19\u001b[1;33m \u001b[0mprint\u001b[0m\u001b[1;33m(\u001b[0m\u001b[0mlist_a\u001b[0m\u001b[1;33m[\u001b[0m\u001b[1;36m0\u001b[0m\u001b[1;33m]\u001b[0m\u001b[1;33m)\u001b[0m\u001b[1;33m\u001b[0m\u001b[1;33m\u001b[0m\u001b[0m\n\u001b[0m",
      "\u001b[1;31mIndexError\u001b[0m: list index out of range"
     ]
    }
   ],
   "source": [
    "M = int(input())\n",
    "N = int(input())\n",
    "list_a = []\n",
    "total = 0\n",
    "count = 0\n",
    "\n",
    "for i in range(M, N+1):\n",
    "    for j in range(2, i):\n",
    "        total=0\n",
    "        if i%j == 0:\n",
    "            continue\n",
    "        else:\n",
    "            count += 1\n",
    "            \n",
    "        if count == 0:\n",
    "            list_a.append(i)\n",
    "            total += i\n",
    "print(total)\n",
    "print(list_a[0])"
   ]
  },
  {
   "cell_type": "code",
   "execution_count": 48,
   "id": "b522a47b-b6aa-40c9-b627-e51f69162bab",
   "metadata": {},
   "outputs": [
    {
     "name": "stdin",
     "output_type": "stream",
     "text": [
      " AABBBBBBAAA\n"
     ]
    },
    {
     "name": "stdout",
     "output_type": "stream",
     "text": [
      "2 1\n",
      "2 2\n",
      "2 3\n",
      "3 4\n",
      "4 5\n",
      "5 6\n",
      "6 7\n",
      "6 8\n",
      "2 9\n",
      "3 10\n",
      "3 10\n",
      "AAB6A3\n"
     ]
    }
   ],
   "source": [
    "def encode(text):\n",
    "    code = \"\"\n",
    "    char = text[0]\n",
    "    cnt = 1\n",
    "    \n",
    "    for x in range(1, len(text)):\n",
    "        if text[x] == char:\n",
    "            cnt += 1\n",
    "            print(cnt, x)\n",
    "        else:\n",
    "            if cnt > 2:\n",
    "                code = code + text[x-1] + str(cnt)\n",
    "                print(cnt, x)\n",
    "            else:\n",
    "                code = code + char + char\n",
    "                print(cnt, x)\n",
    "            cnt = 1\n",
    "            char = text[x]\n",
    "    if cnt > 2:\n",
    "        code = code + text[x-1] + str(cnt)\n",
    "        print(cnt, x)\n",
    "    else:\n",
    "        code = code + char + char\n",
    "        print(cnt, x)\n",
    "            \n",
    "    return code\n",
    "\n",
    "text1 = input()\n",
    "print(encode(text1))"
   ]
  },
  {
   "cell_type": "code",
   "execution_count": 52,
   "id": "55393d3c-7ae2-41f5-bf5c-7d8d1e8d15f9",
   "metadata": {},
   "outputs": [
    {
     "name": "stdout",
     "output_type": "stream",
     "text": [
      "[1, 2, 4, 5]\n",
      "5\n",
      "[1, 2, 5]\n",
      "5\n"
     ]
    }
   ],
   "source": [
    "list_a = [1, 2, 3, 4, 5]\n",
    "list_a.remove(3)\n",
    "print(list_a)\n",
    "print(list_a[3])\n",
    "\n",
    "list_a.pop(2)\n",
    "print(list_a)\n",
    "print(list_a[2])"
   ]
  },
  {
   "cell_type": "code",
   "execution_count": null,
   "id": "d5cb7154-3817-4465-a5e8-28dcdaf3f413",
   "metadata": {},
   "outputs": [],
   "source": [
    "cnt 1\n",
    "x 3"
   ]
  },
  {
   "cell_type": "code",
   "execution_count": 20,
   "id": "b436e30f-8cf1-4528-a3f7-e4b3205b7df3",
   "metadata": {},
   "outputs": [
    {
     "name": "stdout",
     "output_type": "stream",
     "text": [
      "['[']\n",
      "['{']\n",
      "['{', '(']\n",
      "empty stack!\n"
     ]
    },
    {
     "ename": "IndexError",
     "evalue": "pop from empty list",
     "output_type": "error",
     "traceback": [
      "\u001b[1;31m---------------------------------------------------------------------------\u001b[0m",
      "\u001b[1;31mIndexError\u001b[0m                                Traceback (most recent call last)",
      "\u001b[1;32m~\\AppData\\Local\\Temp\\ipykernel_14384\\3783574941.py\u001b[0m in \u001b[0;36m<module>\u001b[1;34m\u001b[0m\n\u001b[0;32m     11\u001b[0m         \u001b[0mstack\u001b[0m\u001b[1;33m.\u001b[0m\u001b[0mappend\u001b[0m\u001b[1;33m(\u001b[0m\u001b[0mi\u001b[0m\u001b[1;33m)\u001b[0m\u001b[1;33m\u001b[0m\u001b[1;33m\u001b[0m\u001b[0m\n\u001b[0;32m     12\u001b[0m         \u001b[0mprint\u001b[0m\u001b[1;33m(\u001b[0m\u001b[0mstack\u001b[0m\u001b[1;33m)\u001b[0m\u001b[1;33m\u001b[0m\u001b[1;33m\u001b[0m\u001b[0m\n\u001b[1;32m---> 13\u001b[1;33m     \u001b[1;32melif\u001b[0m \u001b[0mi\u001b[0m \u001b[1;33m==\u001b[0m \u001b[1;34m\"]\"\u001b[0m \u001b[1;32mand\u001b[0m \u001b[0mstack\u001b[0m\u001b[1;33m.\u001b[0m\u001b[0mpop\u001b[0m\u001b[1;33m(\u001b[0m\u001b[1;33m)\u001b[0m \u001b[1;33m==\u001b[0m \u001b[1;34m\"[\"\u001b[0m \u001b[1;32mand\u001b[0m \u001b[0misEmpty\u001b[0m\u001b[1;33m(\u001b[0m\u001b[0mstack\u001b[0m\u001b[1;33m)\u001b[0m\u001b[1;33m:\u001b[0m\u001b[1;33m\u001b[0m\u001b[1;33m\u001b[0m\u001b[0m\n\u001b[0m\u001b[0;32m     14\u001b[0m         \u001b[0mstack\u001b[0m\u001b[1;33m.\u001b[0m\u001b[0mpop\u001b[0m\u001b[1;33m(\u001b[0m\u001b[1;33m)\u001b[0m\u001b[1;33m\u001b[0m\u001b[1;33m\u001b[0m\u001b[0m\n\u001b[0;32m     15\u001b[0m         \u001b[0mprint\u001b[0m\u001b[1;33m(\u001b[0m\u001b[0mstack\u001b[0m\u001b[1;33m)\u001b[0m\u001b[1;33m\u001b[0m\u001b[1;33m\u001b[0m\u001b[0m\n",
      "\u001b[1;31mIndexError\u001b[0m: pop from empty list"
     ]
    }
   ],
   "source": [
    "list_a = ['[', '}', '{','(',')','}',']']\n",
    "stack = []\n",
    "\n",
    "def isEmpty(stack):\n",
    "    if (len(stack) == 0): \n",
    "        print('empty stack!')\n",
    "        return\n",
    "    \n",
    "for i in list_a:\n",
    "    if i == \"[\" or i ==\"{\" or i == \"(\":\n",
    "        stack.append(i)\n",
    "        print(stack)\n",
    "    elif i == \"]\" and stack.pop() == \"[\" and isEmpty(stack):\n",
    "        stack.pop()\n",
    "        print(stack)\n",
    "    elif i == \"}\" and stack.pop() == \"{\" and isEmpty(stack):\n",
    "        stack.pop()\n",
    "        print(stack)\n",
    "    elif i == \")\" and stack.pop() == \"(\" and isEmpty(stack):\n",
    "        stack.pop()\n",
    "        print(stack)"
   ]
  },
  {
   "cell_type": "code",
   "execution_count": null,
   "id": "34490f13-214a-43ae-bd43-091b3850d4e4",
   "metadata": {},
   "outputs": [],
   "source": []
  }
 ],
 "metadata": {
  "kernelspec": {
   "display_name": "Python 3 (ipykernel)",
   "language": "python",
   "name": "python3"
  },
  "language_info": {
   "codemirror_mode": {
    "name": "ipython",
    "version": 3
   },
   "file_extension": ".py",
   "mimetype": "text/x-python",
   "name": "python",
   "nbconvert_exporter": "python",
   "pygments_lexer": "ipython3",
   "version": "3.9.13"
  }
 },
 "nbformat": 4,
 "nbformat_minor": 5
}
