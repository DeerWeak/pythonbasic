{
 "cells": [
  {
   "cell_type": "code",
   "execution_count": 17,
   "id": "7565f5ff-2f95-4206-84d9-5b3b60e88f43",
   "metadata": {},
   "outputs": [
    {
     "name": "stdin",
     "output_type": "stream",
     "text": [
      "실기점수를 입력하세요:  70 50 85 98 82\n"
     ]
    },
    {
     "name": "stdout",
     "output_type": "stream",
     "text": [
      "이 학생의 평균 점수는 79.0입니다.\n"
     ]
    }
   ],
   "source": [
    "# scores = input(\"실기점수를 입력하세요: \").split(\" \")\n",
    "# scores = list(map(int, scores))\n",
    "scores = list(map(int, input(\"실기점수를 입력하세요: \").split(\" \")))\n",
    "mini = scores[0]\n",
    "maxi = scores[0]\n",
    "total = 0\n",
    "\n",
    "for i in (scores):\n",
    "    total += i\n",
    "    if i < mini: mini = i\n",
    "    if i > maxi: maxi = i\n",
    "total = total - maxi - mini\n",
    "\n",
    "print(f\"이 학생의 평균 점수는 {total/(len(scores)-2)}입니다.\")\n",
    "# 70 50 85 98 82: 79.0"
   ]
  },
  {
   "cell_type": "code",
   "execution_count": 23,
   "id": "00d95d85-1ebe-41b9-ba00-b72dafd0fda9",
   "metadata": {},
   "outputs": [
    {
     "name": "stdout",
     "output_type": "stream",
     "text": [
      "[2, 1, 1, 1, 0]\n"
     ]
    }
   ],
   "source": [
    "scores = [86, 72, 98, 60, 45]\n",
    "grade_counter = [0, 0, 0, 0, 0]\n",
    "for i in scores:\n",
    "    if 85 <= i <= 100:\n",
    "        grade_counter[0] += 1\n",
    "    elif 70 <= i:\n",
    "        grade_counter[1] += 1\n",
    "    elif 55 <= i:\n",
    "        grade_counter[2] += 1\n",
    "    elif 40 <= i:\n",
    "        grade_counter[3] += 1\n",
    "    else:\n",
    "        grade_counter[4] += 1\n",
    "print(grade_counter)"
   ]
  },
  {
   "cell_type": "code",
   "execution_count": 30,
   "id": "e86ae5f8-91b3-4bd5-a04a-1a032d255d61",
   "metadata": {},
   "outputs": [
    {
     "name": "stdout",
     "output_type": "stream",
     "text": [
      "1\t2\tFizz\t4\tBuzz\tFizz\t7\t8\tFizz\tBuzz\t11\tFizz\t13\t14\tFizzBuzz\t16\t17\tFizz\t19\tBuzz\tFizz\t22\t23\tFizz\tBuzz\t26\tFizz\t28\t29\tFizzBuzz\t31\t32\tFizz\t34\tBuzz\tFizz\t37\t38\tFizz\tBuzz\t41\tFizz\t43\t44\tFizzBuzz\t46\t47\tFizz\t49\tBuzz\tFizz\t52\t53\tFizz\tBuzz\t56\tFizz\t58\t59\tFizzBuzz\t61\t62\tFizz\t64\tBuzz\tFizz\t67\t68\tFizz\tBuzz\t71\tFizz\t73\t74\tFizzBuzz\t76\t77\tFizz\t79\tBuzz\tFizz\t82\t83\tFizz\tBuzz\t86\tFizz\t88\t89\tFizzBuzz\t91\t92\tFizz\t94\tBuzz\tFizz\t97\t98\tFizz\tBuzz\t"
     ]
    }
   ],
   "source": [
    "for i in range(1,101):\n",
    "    if i%3==0 and i%5==0: # if i%15==0:\n",
    "        print(\"FizzBuzz\", end=\"\\t\")\n",
    "    elif i%3==0:\n",
    "        print(\"Fizz\", end=\"\\t\")\n",
    "    elif i%5==0:\n",
    "        print(\"Buzz\", end=\"\\t\")\n",
    "    else:\n",
    "        print(i, end=\"\\t\")"
   ]
  },
  {
   "cell_type": "code",
   "execution_count": 33,
   "id": "df59c74a-d821-4ddc-8001-06ee5a1f3087",
   "metadata": {},
   "outputs": [
    {
     "name": "stdout",
     "output_type": "stream",
     "text": [
      "1\t2\tFizz\t4\tBuzz\tFizz\t7\t8\tFizz\tBuzz\t11\tFizz\t13\t14\tFizzBuzz\t16\t17\tFizz\t19\tBuzz\tFizz\t22\t23\tFizz\tBuzz\t26\tFizz\t28\t29\tFizzBuzz\t31\t32\tFizz\t34\tBuzz\tFizz\t37\t38\tFizz\tBuzz\t41\tFizz\t43\t44\tFizzBuzz\t46\t47\tFizz\t49\tBuzz\tFizz\t52\t53\tFizz\tBuzz\t56\tFizz\t58\t59\tFizzBuzz\t61\t62\tFizz\t64\tBuzz\tFizz\t67\t68\tFizz\tBuzz\t71\tFizz\t73\t74\tFizzBuzz\t76\t77\tFizz\t79\tBuzz\tFizz\t82\t83\tFizz\tBuzz\t86\tFizz\t88\t89\tFizzBuzz\t91\t92\tFizz\t94\tBuzz\tFizz\t97\t98\tFizz\tBuzz\t"
     ]
    }
   ],
   "source": [
    "# 빈 문자열은 False 취급\n",
    "for i in range(1, 101):\n",
    "    print(\"Fizz\" * (i % 3 == 0) + \"Buzz\" * (i % 5 == 0) or i, end=\"\\t\")"
   ]
  },
  {
   "cell_type": "code",
   "execution_count": 37,
   "id": "6ff86850-027a-483a-aaef-fe86cdcd5cec",
   "metadata": {},
   "outputs": [
    {
     "name": "stdout",
     "output_type": "stream",
     "text": [
      "m 또는 h가 이름에 포함된 사람은 3명 입니다.\n"
     ]
    }
   ],
   "source": [
    "name_list = ['matthew', 'mark', 'luke', 'john', 'paul', 'peter']\n",
    "count=0\n",
    "for name in name_list:\n",
    "    for i in range(len(name)):\n",
    "        if name[i] == 'm' or name[i] == 'h':\n",
    "            count += 1\n",
    "            break\n",
    "print(f\"m 또는 h가 이름에 포함된 사람은 {count}명 입니다.\")"
   ]
  },
  {
   "cell_type": "code",
   "execution_count": 44,
   "id": "c8defb51-c552-469c-b786-9cfb02c7d266",
   "metadata": {},
   "outputs": [
    {
     "name": "stdout",
     "output_type": "stream",
     "text": [
      "1번 학생 축하합니다. 합격입니다.\n",
      "3번 학생 축하합니다. 합격입니다.\n",
      "5번 학생 축하합니다. 합격입니다.\n"
     ]
    }
   ],
   "source": [
    "marks = [90, 25, 67, 45, 80]\n",
    "for i in range(len(marks)):\n",
    "    if marks[i] >= 60:\n",
    "        print(f\"{i+1}번 학생 축하합니다. 합격입니다.\")\n",
    "    else: continue"
   ]
  },
  {
   "cell_type": "code",
   "execution_count": 49,
   "id": "d8b9521d-f2ea-49d0-994d-a6529166699c",
   "metadata": {},
   "outputs": [
    {
     "name": "stdout",
     "output_type": "stream",
     "text": [
      "1 번 학생 축하합니다. 합격입니다.\n",
      "3 번 학생 축하합니다. 합격입니다.\n",
      "5 번 학생 축하합니다. 합격입니다.\n"
     ]
    }
   ],
   "source": [
    "number=0\n",
    "for mark in marks:\n",
    "    number = number+1\n",
    "    if mark<60:\n",
    "        continue\n",
    "    print(number, \"번 학생 축하합니다. 합격입니다.\")"
   ]
  },
  {
   "cell_type": "code",
   "execution_count": 48,
   "id": "edd53e4b-f495-497a-a5b8-36eb15d77dc1",
   "metadata": {},
   "outputs": [
    {
     "name": "stdout",
     "output_type": "stream",
     "text": [
      "1번 학생 축하합니다. 합격입니다.\n",
      "3번 학생 축하합니다. 합격입니다.\n",
      "5번 학생 축하합니다. 합격입니다.\n"
     ]
    }
   ],
   "source": [
    "marks = [90, 25, 67, 45, 80]\n",
    "i=0\n",
    "while i <len(marks):\n",
    "    if marks[i] >= 60:\n",
    "        print(f\"{i+1}번 학생 축하합니다. 합격입니다.\")\n",
    "        i+=1\n",
    "    else: i+=1"
   ]
  },
  {
   "cell_type": "code",
   "execution_count": 50,
   "id": "b626e000-c8f4-4b63-a678-52569d0f6817",
   "metadata": {},
   "outputs": [
    {
     "name": "stdout",
     "output_type": "stream",
     "text": [
      "변환된 arr은 [3, 2, 4, 1] 입니다.\n"
     ]
    }
   ],
   "source": [
    "arr = [1, 4, 2, 3]\n",
    "left, right = 0, len(arr)-1\n",
    "while left < len(arr)/2:\n",
    "    arr[left], arr[right] = arr[right], arr[left]\n",
    "    left += 1\n",
    "    right -= 1\n",
    "print(\"변환된 arr은\", arr, \"입니다.\")"
   ]
  },
  {
   "cell_type": "code",
   "execution_count": null,
   "id": "6c09b246-8353-4228-b285-d2f33413c353",
   "metadata": {},
   "outputs": [],
   "source": []
  }
 ],
 "metadata": {
  "kernelspec": {
   "display_name": "Python 3 (ipykernel)",
   "language": "python",
   "name": "python3"
  },
  "language_info": {
   "codemirror_mode": {
    "name": "ipython",
    "version": 3
   },
   "file_extension": ".py",
   "mimetype": "text/x-python",
   "name": "python",
   "nbconvert_exporter": "python",
   "pygments_lexer": "ipython3",
   "version": "3.9.13"
  }
 },
 "nbformat": 4,
 "nbformat_minor": 5
}
