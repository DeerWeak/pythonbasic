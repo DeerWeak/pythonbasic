{
 "cells": [
  {
   "cell_type": "code",
   "execution_count": 4,
   "id": "4808411a-9d16-4b7a-877f-e76cc553444c",
   "metadata": {},
   "outputs": [
    {
     "name": "stdin",
     "output_type": "stream",
     "text": [
      "자연수 하나 입력해주세요:  23\n"
     ]
    },
    {
     "name": "stdout",
     "output_type": "stream",
     "text": [
      "0\n"
     ]
    }
   ],
   "source": [
    "n = int(input(\"자연수 하나 입력해주세요: \"))\n",
    "if(n-50<0):\n",
    "    print(0)\n",
    "else:\n",
    "    print(n)"
   ]
  },
  {
   "cell_type": "code",
   "execution_count": 5,
   "id": "4b575510-2323-4d0b-9893-981b7743389f",
   "metadata": {},
   "outputs": [],
   "source": [
    "#if문의 바디는 나중에 작성할 예정이라면 pass 키워드를 통해 아무 동작 없이 코드 작성 가능"
   ]
  },
  {
   "cell_type": "code",
   "execution_count": 7,
   "id": "a47b5043-0d67-49f1-acd3-85b4bb2b2b3c",
   "metadata": {},
   "outputs": [
    {
     "name": "stdin",
     "output_type": "stream",
     "text": [
      "나이를 입력해주세요:  45\n"
     ]
    },
    {
     "name": "stdout",
     "output_type": "stream",
     "text": [
      "10살 이상입니다.\n",
      "20살 이상입니다.\n",
      "30살 이상입니다.\n",
      "40살 이상입니다.\n",
      "age >= 30 구간입니다.\n",
      "age >= 20 구간입니다.\n",
      "age >= 10 구간입니다.\n",
      "늘 출력되는 구간입니다.\n"
     ]
    }
   ],
   "source": [
    "age = int(input(\"나이를 입력해주세요: \"))\n",
    "\n",
    "if age >= 10:\n",
    "    print(\"10살 이상입니다.\")\n",
    "    if age >= 20:\n",
    "        print(\"20살 이상입니다.\")\n",
    "        if age >= 30:\n",
    "            print(\"30살 이상입니다.\")\n",
    "            if age >= 40:\n",
    "                print(\"40살 이상입니다.\")\n",
    "            print(\"age >= 30 구간입니다.\")\n",
    "        print(\"age >= 20 구간입니다.\")\n",
    "    print(\"age >= 10 구간입니다.\")\n",
    "    \n",
    "print(\"늘 출력되는 구간입니다.\")"
   ]
  },
  {
   "cell_type": "code",
   "execution_count": null,
   "id": "819a9f20-bf88-4b0c-993a-39689284ad0f",
   "metadata": {},
   "outputs": [
    {
     "name": "stdin",
     "output_type": "stream",
     "text": [
      "자연수를 하나 입력해주세요:  26\n"
     ]
    },
    {
     "name": "stdout",
     "output_type": "stream",
     "text": [
      "짝수입니다.\n"
     ]
    }
   ],
   "source": [
    "num = int(input(\"자연수를 하나 입력해주세요: \"))\n",
    "\n",
    "if(num % 2 == 0):\n",
    "    print(\"짝수입니다.\")\n",
    "else:\n",
    "    print(\"홀수입니다.\")"
   ]
  },
  {
   "cell_type": "code",
   "execution_count": 21,
   "id": "a92195a7-dcd8-437c-b6ed-141eb0be3ca6",
   "metadata": {},
   "outputs": [
    {
     "name": "stdin",
     "output_type": "stream",
     "text": [
      "소프트웨어 설계 점수를 입력하세요:  103\n",
      "소프트웨어 개발 점수를 입력하세요:  90\n",
      "데이터베이스 구축 점수를 입력하세요:  90\n",
      "프로그래밍 언어 활용 점수를 입력하세요:  90\n",
      "정보시스템 구축관리 점수를 입력하세요:  90\n"
     ]
    },
    {
     "name": "stdout",
     "output_type": "stream",
     "text": [
      "잘못된 점수입니다.\n"
     ]
    }
   ],
   "source": [
    "design = int(input(\"소프트웨어 설계 점수를 입력하세요: \"))\n",
    "develop = int(input(\"소프트웨어 개발 점수를 입력하세요: \"))\n",
    "database = int(input(\"데이터베이스 구축 점수를 입력하세요: \"))\n",
    "language = int(input(\"프로그래밍 언어 활용 점수를 입력하세요: \"))\n",
    "system = int(input(\"정보시스템 구축관리 점수를 입력하세요: \"))\n",
    "\n",
    "if (design<0 or develop<0 or database<0 or language<0 or system<0):\n",
    "    print(\"잘못된 점수입니다.\")\n",
    "elif (design>100 or develop>100 or database>100 or language>100 or system>100):\n",
    "    print(\"잘못된 점수입니다.\")\n",
    "elif (design<60 or develop<60 or database<60 or language<60 or system<60) :\n",
    "    print(\"불합격\")\n",
    "else:\n",
    "    print(\"합격\")"
   ]
  },
  {
   "cell_type": "code",
   "execution_count": 25,
   "id": "f8f398e3-d254-44c4-8483-8afb273a8cd2",
   "metadata": {},
   "outputs": [
    {
     "name": "stdin",
     "output_type": "stream",
     "text": [
      "점수를 입력해주세요:  90\n"
     ]
    },
    {
     "name": "stdout",
     "output_type": "stream",
     "text": [
      "성적을 알려드립니다.\n",
      "A입니다.\n",
      "안내를 종료합니다.\n"
     ]
    }
   ],
   "source": [
    "score = int(input(\"점수를 입력해주세요: \"))\n",
    "print(\"성적을 알려드립니다.\")\n",
    "\n",
    "if score >= 90:\n",
    "    print(\"A입니다.\")\n",
    "elif score >= 80:\n",
    "    print('B입니다.')\n",
    "elif score >= 70:\n",
    "    print(\"C입니다.\")\n",
    "elif score >= 60:\n",
    "    print(\"D입니다.\")\n",
    "else:\n",
    "    print(\"F입니다.\")\n",
    "    \n",
    "print(\"안내를 종료합니다.\")"
   ]
  },
  {
   "cell_type": "code",
   "execution_count": 26,
   "id": "71a00949-8e0b-413e-b8e2-dbcfbeef06a8",
   "metadata": {},
   "outputs": [
    {
     "name": "stdin",
     "output_type": "stream",
     "text": [
      "현재 물의 온도를 입력해주세요:  105\n"
     ]
    },
    {
     "name": "stdout",
     "output_type": "stream",
     "text": [
      "기체로 예상됩니다.\n"
     ]
    }
   ],
   "source": [
    "temperature = int(input(\"현재 물의 온도를 입력해주세요: \"))\n",
    "if temperature >= 100:\n",
    "    print(\"기체로 예상됩니다.\")\n",
    "elif 0<= temperature < 100:\n",
    "    print(\"액체로 예상됩니다.\")\n",
    "else:\n",
    "    print('고체로 예상됩니다.')"
   ]
  },
  {
   "cell_type": "code",
   "execution_count": 32,
   "id": "0f95ed89-1fe9-40cf-a0b4-1938e1a3144e",
   "metadata": {},
   "outputs": [
    {
     "name": "stdin",
     "output_type": "stream",
     "text": [
      "자신의 나이를 입력하세요:  6\n"
     ]
    },
    {
     "name": "stdout",
     "output_type": "stream",
     "text": [
      "800원\n"
     ]
    }
   ],
   "source": [
    "age = int(input('자신의 나이를 입력하세요: '))\n",
    "\n",
    "if age >= 19:\n",
    "    print('1500원')\n",
    "elif 12 <= age:\n",
    "    print(\"1100원\")\n",
    "elif 6 <= age:\n",
    "    print(\"800원\")\n",
    "else:\n",
    "    print(\"무임승차입니다.\")"
   ]
  },
  {
   "cell_type": "code",
   "execution_count": 36,
   "id": "61f4be18-a1db-480e-8592-e99fbb317cbc",
   "metadata": {},
   "outputs": [
    {
     "name": "stdin",
     "output_type": "stream",
     "text": [
      "발주 수량을 입력하세요:  2001\n"
     ]
    },
    {
     "name": "stdout",
     "output_type": "stream",
     "text": [
      "2001개를 주문하셨습니다.\n",
      "적용 할인율은 20%입니다.\n",
      "총 발주 금액은 $16008입니다.\n"
     ]
    }
   ],
   "source": [
    "amount = int(input(\"발주 수량을 입력하세요: \"))\n",
    "print(amount, \"개를 주문하셨습니다.\", sep=\"\")\n",
    "if amount < 1000:\n",
    "    print(\"적용 할인율은 0%입니다.\")\n",
    "    print(\"총 발주 금액은 $\", int(amount*10), \"입니다.\")\n",
    "elif amount <= 1500:\n",
    "    print(\"적용 할인율은 5%입니다.\")\n",
    "    print(\"총 발주 금액은 $\", int(amount*10*0.95), \"입니다.\")\n",
    "elif amount <= 2000:\n",
    "    print(\"적용 할인율은 10%입니다.\")\n",
    "    print(\"총 발주 금액은 $\", int(amount*10*0.9), \"입니다.\")\n",
    "else:\n",
    "    print(\"적용 할인율은 20%입니다.\")\n",
    "    print(\"총 발주 금액은 $\", int(amount*10*0.8), \"입니다.\", sep=\"\")"
   ]
  },
  {
   "cell_type": "code",
   "execution_count": 46,
   "id": "3a5adc3e-bce6-47e6-90de-cc84ad4b6841",
   "metadata": {},
   "outputs": [
    {
     "name": "stdin",
     "output_type": "stream",
     "text": [
      "주민번호 뒷자리를 입력하세요:  1234567\n"
     ]
    },
    {
     "name": "stdout",
     "output_type": "stream",
     "text": [
      "남자\n"
     ]
    }
   ],
   "source": [
    "id_number = input(\"주민번호 뒷자리를 입력하세요: \")\n",
    "\n",
    "if len(id_number) != 7:\n",
    "    print(\"자리수를 잘못 입력했습니다.\")\n",
    "elif id_number[0] == '1' or id_number[0] == '3':\n",
    "    print(\"남자\")\n",
    "elif id_number[0] == '2' or id_number[0] == '4':\n",
    "    print(\"여자\")\n",
    "else:\n",
    "    print(\"잘못된 입력입니다.\")"
   ]
  },
  {
   "cell_type": "code",
   "execution_count": 52,
   "id": "22a12590-a579-483e-88db-8043648d3436",
   "metadata": {},
   "outputs": [
    {
     "name": "stdin",
     "output_type": "stream",
     "text": [
      "확인할 연도를 입력하세요:  2024\n"
     ]
    },
    {
     "name": "stdout",
     "output_type": "stream",
     "text": [
      "윤년\n"
     ]
    }
   ],
   "source": [
    "year = int(input(\"확인할 연도를 입력하세요: \"))\n",
    "if year % 4 == 0:\n",
    "    if year % 100 == 0 and year % 400 != 0:\n",
    "        print(\"평년\")\n",
    "    else:\n",
    "        print(\"윤년\")\n",
    "else:\n",
    "    print(\"평년\")"
   ]
  },
  {
   "cell_type": "code",
   "execution_count": null,
   "id": "673b81e2-9dac-4dbf-8049-31660bc39c9a",
   "metadata": {},
   "outputs": [],
   "source": []
  }
 ],
 "metadata": {
  "kernelspec": {
   "display_name": "Python 3 (ipykernel)",
   "language": "python",
   "name": "python3"
  },
  "language_info": {
   "codemirror_mode": {
    "name": "ipython",
    "version": 3
   },
   "file_extension": ".py",
   "mimetype": "text/x-python",
   "name": "python",
   "nbconvert_exporter": "python",
   "pygments_lexer": "ipython3",
   "version": "3.9.13"
  }
 },
 "nbformat": 4,
 "nbformat_minor": 5
}
