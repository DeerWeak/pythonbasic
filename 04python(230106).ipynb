{
 "cells": [
  {
   "cell_type": "code",
   "execution_count": 4,
   "id": "4808411a-9d16-4b7a-877f-e76cc553444c",
   "metadata": {},
   "outputs": [
    {
     "name": "stdin",
     "output_type": "stream",
     "text": [
      "자연수 하나 입력해주세요:  23\n"
     ]
    },
    {
     "name": "stdout",
     "output_type": "stream",
     "text": [
      "0\n"
     ]
    }
   ],
   "source": [
    "n = int(input(\"자연수 하나 입력해주세요: \"))\n",
    "if(n-50<0):\n",
    "    print(0)\n",
    "else:\n",
    "    print(n)"
   ]
  },
  {
   "cell_type": "code",
   "execution_count": 5,
   "id": "4b575510-2323-4d0b-9893-981b7743389f",
   "metadata": {},
   "outputs": [],
   "source": [
    "#if문의 바디는 나중에 작성할 예정이라면 pass 키워드를 통해 아무 동작 없이 코드 작성 가능"
   ]
  },
  {
   "cell_type": "code",
   "execution_count": 7,
   "id": "a47b5043-0d67-49f1-acd3-85b4bb2b2b3c",
   "metadata": {},
   "outputs": [
    {
     "name": "stdin",
     "output_type": "stream",
     "text": [
      "나이를 입력해주세요:  45\n"
     ]
    },
    {
     "name": "stdout",
     "output_type": "stream",
     "text": [
      "10살 이상입니다.\n",
      "20살 이상입니다.\n",
      "30살 이상입니다.\n",
      "40살 이상입니다.\n",
      "age >= 30 구간입니다.\n",
      "age >= 20 구간입니다.\n",
      "age >= 10 구간입니다.\n",
      "늘 출력되는 구간입니다.\n"
     ]
    }
   ],
   "source": [
    "age = int(input(\"나이를 입력해주세요: \"))\n",
    "\n",
    "if age >= 10:\n",
    "    print(\"10살 이상입니다.\")\n",
    "    if age >= 20:\n",
    "        print(\"20살 이상입니다.\")\n",
    "        if age >= 30:\n",
    "            print(\"30살 이상입니다.\")\n",
    "            if age >= 40:\n",
    "                print(\"40살 이상입니다.\")\n",
    "            print(\"age >= 30 구간입니다.\")\n",
    "        print(\"age >= 20 구간입니다.\")\n",
    "    print(\"age >= 10 구간입니다.\")\n",
    "    \n",
    "print(\"늘 출력되는 구간입니다.\")"
   ]
  },
  {
   "cell_type": "code",
   "execution_count": null,
   "id": "819a9f20-bf88-4b0c-993a-39689284ad0f",
   "metadata": {},
   "outputs": [
    {
     "name": "stdin",
     "output_type": "stream",
     "text": [
      "자연수를 하나 입력해주세요:  26\n"
     ]
    },
    {
     "name": "stdout",
     "output_type": "stream",
     "text": [
      "짝수입니다.\n"
     ]
    }
   ],
   "source": [
    "num = int(input(\"자연수를 하나 입력해주세요: \"))\n",
    "\n",
    "if(num % 2 == 0):\n",
    "    print(\"짝수입니다.\")\n",
    "else:\n",
    "    print(\"홀수입니다.\")"
   ]
  },
  {
   "cell_type": "code",
   "execution_count": 21,
   "id": "a92195a7-dcd8-437c-b6ed-141eb0be3ca6",
   "metadata": {},
   "outputs": [
    {
     "name": "stdin",
     "output_type": "stream",
     "text": [
      "소프트웨어 설계 점수를 입력하세요:  103\n",
      "소프트웨어 개발 점수를 입력하세요:  90\n",
      "데이터베이스 구축 점수를 입력하세요:  90\n",
      "프로그래밍 언어 활용 점수를 입력하세요:  90\n",
      "정보시스템 구축관리 점수를 입력하세요:  90\n"
     ]
    },
    {
     "name": "stdout",
     "output_type": "stream",
     "text": [
      "잘못된 점수입니다.\n"
     ]
    }
   ],
   "source": [
    "design = int(input(\"소프트웨어 설계 점수를 입력하세요: \"))\n",
    "develop = int(input(\"소프트웨어 개발 점수를 입력하세요: \"))\n",
    "database = int(input(\"데이터베이스 구축 점수를 입력하세요: \"))\n",
    "language = int(input(\"프로그래밍 언어 활용 점수를 입력하세요: \"))\n",
    "system = int(input(\"정보시스템 구축관리 점수를 입력하세요: \"))\n",
    "\n",
    "if (design<0 or develop<0 or database<0 or language<0 or system<0):\n",
    "    print(\"잘못된 점수입니다.\")\n",
    "elif (design>100 or develop>100 or database>100 or language>100 or system>100):\n",
    "    print(\"잘못된 점수입니다.\")\n",
    "elif (design<60 or develop<60 or database<60 or language<60 or system<60) :\n",
    "    print(\"불합격\")\n",
    "else:\n",
    "    print(\"합격\")"
   ]
  },
  {
   "cell_type": "code",
   "execution_count": 25,
   "id": "f8f398e3-d254-44c4-8483-8afb273a8cd2",
   "metadata": {},
   "outputs": [
    {
     "name": "stdin",
     "output_type": "stream",
     "text": [
      "점수를 입력해주세요:  90\n"
     ]
    },
    {
     "name": "stdout",
     "output_type": "stream",
     "text": [
      "성적을 알려드립니다.\n",
      "A입니다.\n",
      "안내를 종료합니다.\n"
     ]
    }
   ],
   "source": [
    "score = int(input(\"점수를 입력해주세요: \"))\n",
    "print(\"성적을 알려드립니다.\")\n",
    "\n",
    "if score >= 90:\n",
    "    print(\"A입니다.\")\n",
    "elif score >= 80:\n",
    "    print('B입니다.')\n",
    "elif score >= 70:\n",
    "    print(\"C입니다.\")\n",
    "elif score >= 60:\n",
    "    print(\"D입니다.\")\n",
    "else:\n",
    "    print(\"F입니다.\")\n",
    "    \n",
    "print(\"안내를 종료합니다.\")"
   ]
  },
  {
   "cell_type": "code",
   "execution_count": 26,
   "id": "71a00949-8e0b-413e-b8e2-dbcfbeef06a8",
   "metadata": {},
   "outputs": [
    {
     "name": "stdin",
     "output_type": "stream",
     "text": [
      "현재 물의 온도를 입력해주세요:  105\n"
     ]
    },
    {
     "name": "stdout",
     "output_type": "stream",
     "text": [
      "기체로 예상됩니다.\n"
     ]
    }
   ],
   "source": [
    "temperature = int(input(\"현재 물의 온도를 입력해주세요: \"))\n",
    "if temperature >= 100:\n",
    "    print(\"기체로 예상됩니다.\")\n",
    "elif 0<= temperature < 100:\n",
    "    print(\"액체로 예상됩니다.\")\n",
    "else:\n",
    "    print('고체로 예상됩니다.')"
   ]
  },
  {
   "cell_type": "code",
   "execution_count": 32,
   "id": "0f95ed89-1fe9-40cf-a0b4-1938e1a3144e",
   "metadata": {},
   "outputs": [
    {
     "name": "stdin",
     "output_type": "stream",
     "text": [
      "자신의 나이를 입력하세요:  6\n"
     ]
    },
    {
     "name": "stdout",
     "output_type": "stream",
     "text": [
      "800원\n"
     ]
    }
   ],
   "source": [
    "age = int(input('자신의 나이를 입력하세요: '))\n",
    "\n",
    "if age >= 19:\n",
    "    print('1500원')\n",
    "elif 12 <= age:\n",
    "    print(\"1100원\")\n",
    "elif 6 <= age:\n",
    "    print(\"800원\")\n",
    "else:\n",
    "    print(\"무임승차입니다.\")"
   ]
  },
  {
   "cell_type": "code",
   "execution_count": 36,
   "id": "61f4be18-a1db-480e-8592-e99fbb317cbc",
   "metadata": {},
   "outputs": [
    {
     "name": "stdin",
     "output_type": "stream",
     "text": [
      "발주 수량을 입력하세요:  2001\n"
     ]
    },
    {
     "name": "stdout",
     "output_type": "stream",
     "text": [
      "2001개를 주문하셨습니다.\n",
      "적용 할인율은 20%입니다.\n",
      "총 발주 금액은 $16008입니다.\n"
     ]
    }
   ],
   "source": [
    "amount = int(input(\"발주 수량을 입력하세요: \"))\n",
    "print(amount, \"개를 주문하셨습니다.\", sep=\"\")\n",
    "if amount < 1000:\n",
    "    print(\"적용 할인율은 0%입니다.\")\n",
    "    print(\"총 발주 금액은 $\", int(amount*10), \"입니다.\")\n",
    "elif amount <= 1500:\n",
    "    print(\"적용 할인율은 5%입니다.\")\n",
    "    print(\"총 발주 금액은 $\", int(amount*10*0.95), \"입니다.\")\n",
    "elif amount <= 2000:\n",
    "    print(\"적용 할인율은 10%입니다.\")\n",
    "    print(\"총 발주 금액은 $\", int(amount*10*0.9), \"입니다.\")\n",
    "else:\n",
    "    print(\"적용 할인율은 20%입니다.\")\n",
    "    print(\"총 발주 금액은 $\", int(amount*10*0.8), \"입니다.\", sep=\"\")"
   ]
  },
  {
   "cell_type": "code",
   "execution_count": 46,
   "id": "3a5adc3e-bce6-47e6-90de-cc84ad4b6841",
   "metadata": {},
   "outputs": [
    {
     "name": "stdin",
     "output_type": "stream",
     "text": [
      "주민번호 뒷자리를 입력하세요:  1234567\n"
     ]
    },
    {
     "name": "stdout",
     "output_type": "stream",
     "text": [
      "남자\n"
     ]
    }
   ],
   "source": [
    "id_number = input(\"주민번호 뒷자리를 입력하세요: \")\n",
    "\n",
    "if len(id_number) != 7:\n",
    "    print(\"자리수를 잘못 입력했습니다.\")\n",
    "elif id_number[0] == '1' or id_number[0] == '3':\n",
    "    print(\"남자\")\n",
    "elif id_number[0] == '2' or id_number[0] == '4':\n",
    "    print(\"여자\")\n",
    "else:\n",
    "    print(\"잘못된 입력입니다.\")"
   ]
  },
  {
   "cell_type": "code",
   "execution_count": 52,
   "id": "22a12590-a579-483e-88db-8043648d3436",
   "metadata": {},
   "outputs": [
    {
     "name": "stdin",
     "output_type": "stream",
     "text": [
      "확인할 연도를 입력하세요:  2024\n"
     ]
    },
    {
     "name": "stdout",
     "output_type": "stream",
     "text": [
      "윤년\n"
     ]
    }
   ],
   "source": [
    "year = int(input(\"확인할 연도를 입력하세요: \"))\n",
    "if year % 4 == 0:\n",
    "    if year % 100 == 0 and year % 400 != 0:\n",
    "        print(\"평년\")\n",
    "    else:\n",
    "        print(\"윤년\")\n",
    "else:\n",
    "    print(\"평년\")"
   ]
  },
  {
   "cell_type": "code",
   "execution_count": 54,
   "id": "673b81e2-9dac-4dbf-8049-31660bc39c9a",
   "metadata": {},
   "outputs": [
    {
     "name": "stdin",
     "output_type": "stream",
     "text": [
      "확인할 연도를 입력하세요:  2023\n"
     ]
    },
    {
     "name": "stdout",
     "output_type": "stream",
     "text": [
      "평년입니다.\n"
     ]
    }
   ],
   "source": [
    "year = int(input(\"확인할 연도를 입력하세요: \"))\n",
    "if year % 4 == 0 and (year % 100 != 0 or year % 400 == 0):\n",
    "    print(\"윤년입니다.\")\n",
    "else:\n",
    "    print(\"평년입니다.\")"
   ]
  },
  {
   "cell_type": "code",
   "execution_count": 56,
   "id": "048578a9-3f29-428c-aeab-fff786cf38a8",
   "metadata": {},
   "outputs": [
    {
     "name": "stdin",
     "output_type": "stream",
     "text": [
      "확인할 연도를 입력하세요:  2024\n"
     ]
    },
    {
     "name": "stdout",
     "output_type": "stream",
     "text": [
      "윤년입니다.\n"
     ]
    }
   ],
   "source": [
    "year = int(input(\"확인할 연도를 입력하세요: \"))\n",
    "if(year%4 == 0 and year%100==0 and year % 400 != 0) or year % 4 != 0:\n",
    "    print(\"평년입니다.\")\n",
    "else:\n",
    "    print(\"윤년입니다.\")"
   ]
  },
  {
   "cell_type": "code",
   "execution_count": 58,
   "id": "18736d91-f488-48b6-96f7-939a95b85733",
   "metadata": {},
   "outputs": [
    {
     "name": "stdout",
     "output_type": "stream",
     "text": [
      "Hello World\n",
      "Hello World\n",
      "Hello World\n"
     ]
    }
   ],
   "source": [
    "for n in range(3):\n",
    "    print(\"Hello World\")"
   ]
  },
  {
   "cell_type": "code",
   "execution_count": 59,
   "id": "ffe8cde6-15af-42a3-8cda-7c8eb9584006",
   "metadata": {},
   "outputs": [
    {
     "name": "stdout",
     "output_type": "stream",
     "text": [
      "[2, 4, 6, 8, 10, 12, 14, 16, 18, 20, 22, 24, 26, 28, 30, 32, 34, 36, 38, 40, 42, 44, 46, 48, 50, 52, 54, 56, 58, 60, 62, 64, 66, 68, 70, 72, 74, 76, 78, 80, 82, 84, 86, 88, 90, 92, 94, 96, 98]\n"
     ]
    }
   ],
   "source": [
    "even_numbers = list(range(2, 100, 2))\n",
    "print(even_numbers)"
   ]
  },
  {
   "cell_type": "code",
   "execution_count": 62,
   "id": "c59fcbc8-3692-45cc-aef5-9f1b76b65e0a",
   "metadata": {},
   "outputs": [
    {
     "name": "stdout",
     "output_type": "stream",
     "text": [
      "Hello world 1\n",
      "Hello world 2\n",
      "Hello world 3\n",
      "Hello world 4\n",
      "Hello world 5\n",
      "Hello world 6\n",
      "Hello world 7\n",
      "Hello world 8\n",
      "Hello world 9\n",
      "Hello world 10\n"
     ]
    }
   ],
   "source": [
    "for i in range(10): #for i in range(1, 101)\n",
    "    print(\"Hello world\", i+1)"
   ]
  },
  {
   "cell_type": "code",
   "execution_count": 65,
   "id": "9486a607-3ab9-4fbe-b644-475440e643c1",
   "metadata": {},
   "outputs": [
    {
     "name": "stdin",
     "output_type": "stream",
     "text": [
      "인사 몇 번 해드릴까요?  3\n"
     ]
    },
    {
     "name": "stdout",
     "output_type": "stream",
     "text": [
      "Hello World 1\n",
      "Hello World 2\n",
      "Hello World 3\n"
     ]
    }
   ],
   "source": [
    "num = int(input(\"인사 몇 번 해드릴까요? \"))\n",
    "for i in range(num):\n",
    "    print(\"Hello World\", i+1)"
   ]
  },
  {
   "cell_type": "code",
   "execution_count": 69,
   "id": "131ceb3d-a67a-441c-8d6d-9c982df20786",
   "metadata": {},
   "outputs": [
    {
     "name": "stdout",
     "output_type": "stream",
     "text": [
      "[5, 6, 7, 8, 9]\n",
      "[0, 3, 6, 9]\n",
      "[-10, -40, -70]\n"
     ]
    }
   ],
   "source": [
    "print(list(range(5,10,1)))\n",
    "print(list(range(0, 10, 3)))\n",
    "print(list(range(-10, -71, -30)))"
   ]
  },
  {
   "cell_type": "code",
   "execution_count": 95,
   "id": "b5422f24-46e8-48dc-8c95-5a5ce9fbde5e",
   "metadata": {},
   "outputs": [
    {
     "name": "stdin",
     "output_type": "stream",
     "text": [
      "자연수 하나 입력해주세요:  6\n"
     ]
    },
    {
     "name": "stdout",
     "output_type": "stream",
     "text": [
      "6\t6\t6\t6\t6\t6\t6\t\n",
      "\n",
      "5\t5\t5\t5\t5\t5\t\n",
      "\n",
      "4\t4\t4\t4\t4\t\n",
      "\n",
      "3\t3\t3\t3\t\n",
      "\n",
      "2\t2\t2\t\n",
      "\n",
      "1\t1\t\n",
      "\n"
     ]
    }
   ],
   "source": [
    "num = int(input(\"자연수 하나 입력해주세요: \"))\n",
    "\n",
    "for i in range(num, 0, -1):\n",
    "    for j in range(i+1, 0, -1):\n",
    "        print(i, end=\"\\t\")\n",
    "    print(\"\\n\")"
   ]
  },
  {
   "cell_type": "code",
   "execution_count": 98,
   "id": "4eb299f3-f3c5-4617-bbe7-6ec5f92185de",
   "metadata": {},
   "outputs": [
    {
     "name": "stdout",
     "output_type": "stream",
     "text": [
      "6\t6\t6\t6\t6\t6\t\n",
      "6\t6\t6\t6\t6\t\n",
      "6\t6\t6\t6\t\n",
      "6\t6\t6\t\n",
      "6\t6\t\n",
      "6\t\n"
     ]
    }
   ],
   "source": [
    "for i in range(6, 0, -1):\n",
    "    for _ in range(i):\n",
    "        print(6, end=\"\\t\")\n",
    "    print()"
   ]
  },
  {
   "cell_type": "code",
   "execution_count": 101,
   "id": "2e91d8d1-3e0d-4a7a-b2cb-fd0f8216dba7",
   "metadata": {},
   "outputs": [
    {
     "name": "stdout",
     "output_type": "stream",
     "text": [
      "**********\n",
      "\n",
      "**********\n",
      "\n",
      "**********\n",
      "\n",
      "**********\n",
      "\n",
      "**********\n",
      "\n",
      "**********\n",
      "\n",
      "**********\n",
      "\n",
      "**********\n",
      "\n",
      "**********\n",
      "\n",
      "**********\n",
      "\n"
     ]
    }
   ],
   "source": [
    "for i in range(0, 10, 1):\n",
    "    for j in range(0, 10, 1):\n",
    "        print(\"*\", end=\"\")\n",
    "    print(\"\\n\")"
   ]
  },
  {
   "cell_type": "code",
   "execution_count": 102,
   "id": "00ec78eb-0f2f-47ea-b259-77dcd0cc5286",
   "metadata": {},
   "outputs": [
    {
     "name": "stdout",
     "output_type": "stream",
     "text": [
      "**********\n",
      "*        *\n",
      "*        *\n",
      "*        *\n",
      "*        *\n",
      "*        *\n",
      "*        *\n",
      "*        *\n",
      "*        *\n",
      "**********\n"
     ]
    }
   ],
   "source": [
    "for i in range(10):\n",
    "    if i == 0 or i == 9:\n",
    "        print(\"*\" * 10)\n",
    "    else:\n",
    "        print(\"*        *\")"
   ]
  },
  {
   "cell_type": "code",
   "execution_count": 115,
   "id": "988279f6-ca81-485e-85a0-f868fcbae41c",
   "metadata": {},
   "outputs": [
    {
     "name": "stdin",
     "output_type": "stream",
     "text": [
      "1부터 입력한 자연수까지의 모든 홀수의 합을 구합니다:  100\n"
     ]
    },
    {
     "name": "stdout",
     "output_type": "stream",
     "text": [
      "1 + 3 + 5 + 7 + 9 + 11 + 13 + 15 + 17 + 19 + 21 + 23 + 25 + 27 + 29 + 31 + 33 + 35 + 37 + 39 + 41 + 43 + 45 + 47 + 49 + 51 + 53 + 55 + 57 + 59 + 61 + 63 + 65 + 67 + 69 + 71 + 73 + 75 + 77 + 79 + 81 + 83 + 85 + 87 + 89 + 91 + 93 + 95 + 97 + 99 = 2500\n"
     ]
    }
   ],
   "source": [
    "num = int(input(\"1부터 입력한 자연수까지의 모든 홀수의 합을 구합니다: \"))\n",
    "sum = 0\n",
    "print(1, end=\"\")\n",
    "for i in range(3, num+1, 2):\n",
    "    sum = sum + i\n",
    "    print(\" +\", i, end=\"\")\n",
    "print(\" =\", sum+1)"
   ]
  },
  {
   "cell_type": "code",
   "execution_count": 125,
   "id": "c69cdb96-2b2b-4698-9028-1d202cbe22c8",
   "metadata": {},
   "outputs": [
    {
     "name": "stdin",
     "output_type": "stream",
     "text": [
      "계승을 구할 숫자를 입력하세요:  7\n"
     ]
    },
    {
     "name": "stdout",
     "output_type": "stream",
     "text": [
      "5040\n"
     ]
    }
   ],
   "source": [
    "num = int(input(\"계승을 구할 숫자를 입력하세요: \"))\n",
    "fac = 1\n",
    "for i in range(2, num+1, 1):\n",
    "    fac = fac * i\n",
    "print(fac)"
   ]
  },
  {
   "cell_type": "code",
   "execution_count": 126,
   "id": "25892387-51dc-4d0a-9df9-894e53e12323",
   "metadata": {},
   "outputs": [
    {
     "name": "stdout",
     "output_type": "stream",
     "text": [
      "파도솔"
     ]
    }
   ],
   "source": [
    "for _ in (\"파\", \"도\", \"솔\"):\n",
    "    print(_, end=\"\")"
   ]
  },
  {
   "cell_type": "code",
   "execution_count": 127,
   "id": "4b933cb2-aba5-4e56-bbcc-d92972e7be4a",
   "metadata": {},
   "outputs": [
    {
     "name": "stdout",
     "output_type": "stream",
     "text": [
      "일 이 삼 "
     ]
    }
   ],
   "source": [
    "for _ in \"일이삼\":\n",
    "    print(_, end=\" \")"
   ]
  },
  {
   "cell_type": "code",
   "execution_count": 128,
   "id": "3835700d-59ff-4794-b7fb-27b82ecf93a7",
   "metadata": {},
   "outputs": [
    {
     "name": "stdout",
     "output_type": "stream",
     "text": [
      "오 사 삼 이 일 "
     ]
    }
   ],
   "source": [
    "for _ in reversed(\"일이삼사오\"):\n",
    "    print(_, end=\" \")"
   ]
  },
  {
   "cell_type": "code",
   "execution_count": 131,
   "id": "34377679-ce5c-4bfd-88e1-7b4f099290de",
   "metadata": {},
   "outputs": [
    {
     "name": "stdout",
     "output_type": "stream",
     "text": [
      "100 -420 250 1030 210 770 240 "
     ]
    }
   ],
   "source": [
    "x = [10, -42, 25, 103, 21, 77, 24]\n",
    "for _ in x:\n",
    "    print(_ * 10, end=\" \")"
   ]
  },
  {
   "cell_type": "code",
   "execution_count": 134,
   "id": "d4ab99ce-7103-46c5-9ca2-93db85c7f45d",
   "metadata": {},
   "outputs": [
    {
     "name": "stdin",
     "output_type": "stream",
     "text": [
      "구구단을 알려드립니다. 숫자를 입력하세요:  9\n"
     ]
    },
    {
     "name": "stdout",
     "output_type": "stream",
     "text": [
      "9 * 1 = 9\n",
      "9 * 2 = 18\n",
      "9 * 3 = 27\n",
      "9 * 4 = 36\n",
      "9 * 5 = 45\n",
      "9 * 6 = 54\n",
      "9 * 7 = 63\n",
      "9 * 8 = 72\n",
      "9 * 9 = 81\n"
     ]
    }
   ],
   "source": [
    "num = int(input(\"구구단을 알려드립니다. 숫자를 입력하세요: \"))\n",
    "for _ in range(1, 10):\n",
    "    print(num,\"*\",_, \"=\", num*_)"
   ]
  },
  {
   "cell_type": "code",
   "execution_count": 136,
   "id": "1e0ac5db-8b35-46a3-b7a4-ab7acad62e41",
   "metadata": {},
   "outputs": [
    {
     "name": "stdin",
     "output_type": "stream",
     "text": [
      "자연수를 입력해주세요:  100\n"
     ]
    },
    {
     "name": "stdout",
     "output_type": "stream",
     "text": [
      "5050\n"
     ]
    }
   ],
   "source": [
    "num = int(input(\"자연수를 입력해주세요: \"))\n",
    "sum = 0\n",
    "for _ in range(num+1):\n",
    "    sum = sum + _\n",
    "print(sum)"
   ]
  },
  {
   "cell_type": "code",
   "execution_count": null,
   "id": "d0c4d6e2-fa89-43d7-b2e7-a4e1cc218c87",
   "metadata": {},
   "outputs": [],
   "source": []
  }
 ],
 "metadata": {
  "kernelspec": {
   "display_name": "Python 3 (ipykernel)",
   "language": "python",
   "name": "python3"
  },
  "language_info": {
   "codemirror_mode": {
    "name": "ipython",
    "version": 3
   },
   "file_extension": ".py",
   "mimetype": "text/x-python",
   "name": "python",
   "nbconvert_exporter": "python",
   "pygments_lexer": "ipython3",
   "version": "3.9.13"
  }
 },
 "nbformat": 4,
 "nbformat_minor": 5
}
