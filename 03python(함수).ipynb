{
 "cells": [
  {
   "cell_type": "code",
   "execution_count": 10,
   "id": "f5664955-6fbc-4b71-9130-1aca203615d5",
   "metadata": {},
   "outputs": [
    {
     "name": "stdout",
     "output_type": "stream",
     "text": [
      "False\n"
     ]
    }
   ],
   "source": [
    "scores = [88, 73, 89, 59, 77]\n",
    "print(scores[0] >= 60 and scores[1] >= 60 and scores[2] >= 60 and scores[3] >= 60 and scores[4] >= 60)"
   ]
  },
  {
   "cell_type": "code",
   "execution_count": 33,
   "id": "6794c6ab-9eed-45c9-b598-f5c4e074d441",
   "metadata": {},
   "outputs": [
    {
     "name": "stdout",
     "output_type": "stream",
     "text": [
      "[1, 2, 3, 4, 5, 6, 7, 8]\n"
     ]
    }
   ],
   "source": [
    "#함수\n",
    "#arg1, arg2 -> function_name(para1, para2)\n",
    "#함수와 메서드의 차이: 클래스 안에 있냐 밖에 있냐 차이\n",
    "numbers = [1, 2, 3, 4, 5, 6, 7]\n",
    "numbers.append(8)\n",
    "print(numbers)"
   ]
  },
  {
   "cell_type": "markdown",
   "id": "edd57062-e20e-436f-8873-6395e6fc0d0a",
   "metadata": {},
   "source": [
    "### insert는 요소를 원하는 인덱스 위치에 넣을 수 있다.  \n",
    "insert(인덱스, 요소)"
   ]
  },
  {
   "cell_type": "code",
   "execution_count": 34,
   "id": "e93a793c-9f0a-4923-976d-f44319c059df",
   "metadata": {},
   "outputs": [
    {
     "name": "stdout",
     "output_type": "stream",
     "text": [
      "[0, 1, 2, 3, 0, 4, 0, 5, 6, 7, 8, 0]\n"
     ]
    }
   ],
   "source": [
    "numbers.insert(0, 0)\n",
    "numbers.insert(4, 0)\n",
    "numbers.insert(6, 0)\n",
    "numbers.insert(len(numbers), 0)\n",
    "print(numbers)"
   ]
  },
  {
   "cell_type": "markdown",
   "id": "0ac5dc6e-c51c-4d54-8faa-6090dc5cc07f",
   "metadata": {},
   "source": [
    "### extend는 리스트에 리스트를 뒤로 붙인다.  \n",
    "리스트1.extend(리스트2)"
   ]
  },
  {
   "cell_type": "code",
   "execution_count": 35,
   "id": "d39bffbd-60c9-40bf-8833-aaff7a79d0c1",
   "metadata": {},
   "outputs": [
    {
     "name": "stdout",
     "output_type": "stream",
     "text": [
      "[0, 1, 2, 3, 0, 4, 0, 5, 6, 7, 8, 0, 9, 10, 11]\n"
     ]
    }
   ],
   "source": [
    "numbers.extend([9, 10, 11])\n",
    "print(numbers)"
   ]
  },
  {
   "cell_type": "markdown",
   "id": "597124f7-6a05-47bf-92bf-1ff6289b28d7",
   "metadata": {},
   "source": [
    "### remove(요소) 리스트에서 요소와 같은 것을 삭제한다."
   ]
  },
  {
   "cell_type": "code",
   "execution_count": 98,
   "id": "b4476169-cf1a-4c49-9b30-c98bbc870a54",
   "metadata": {},
   "outputs": [
    {
     "name": "stdout",
     "output_type": "stream",
     "text": [
      "[1, 2, 3, 4, 0, 5, 6, 7, 8, 0, 9, 10, 11]\n",
      "[1, 2, 3, 4, 5, 6, 7, 8, 0, 9, 10, 11]\n"
     ]
    }
   ],
   "source": [
    "print(numbers)\n",
    "numbers.remove(0)\n",
    "print(numbers)"
   ]
  },
  {
   "cell_type": "code",
   "execution_count": 24,
   "id": "c3816f31-0ed4-481f-8508-2aceb7185339",
   "metadata": {},
   "outputs": [
    {
     "name": "stdout",
     "output_type": "stream",
     "text": [
      "[2, 0, 0, 3, 0, 0, 4, 0, 5, 6, 7, 8, 0, 0, 0, 9, 10, 11, 9, 10, 11]\n"
     ]
    }
   ],
   "source": [
    "del numbers[0]\n",
    "print(numbers)"
   ]
  },
  {
   "cell_type": "markdown",
   "id": "60538b40-7983-4bdd-80d6-9a9fa11a789a",
   "metadata": {},
   "source": [
    "### pop() -> 제일 뒤에 오는 요소를 반환한다. 그리고 리스트에서 제거한다."
   ]
  },
  {
   "cell_type": "code",
   "execution_count": 25,
   "id": "a7d4f635-b21c-48d3-9200-01d5cc19140f",
   "metadata": {
    "tags": []
   },
   "outputs": [
    {
     "name": "stdout",
     "output_type": "stream",
     "text": [
      "11\n"
     ]
    }
   ],
   "source": [
    "print(numbers.pop())"
   ]
  },
  {
   "cell_type": "code",
   "execution_count": 26,
   "id": "5c7f022b-f226-4b7b-a6c3-53cf5be14a83",
   "metadata": {},
   "outputs": [
    {
     "name": "stdout",
     "output_type": "stream",
     "text": [
      "[2, 0, 0, 3, 0, 0, 4, 0, 5, 6, 7, 8, 0, 0, 0, 9, 10, 11, 9, 10]\n"
     ]
    }
   ],
   "source": [
    "print(numbers)"
   ]
  },
  {
   "cell_type": "markdown",
   "id": "709d7ce1-01e2-4ab8-85be-6952ada8a237",
   "metadata": {},
   "source": [
    "### index(인자) 리스트 안에 인자와 같은 요소를 앞에서 부터 찾습니다. 제일 처음 바력노딘 요소의 인덱스 위치를 반환합니다."
   ]
  },
  {
   "cell_type": "code",
   "execution_count": 28,
   "id": "220947f8-fc32-47a3-b692-fd651c032de6",
   "metadata": {},
   "outputs": [
    {
     "name": "stdout",
     "output_type": "stream",
     "text": [
      "9\n"
     ]
    }
   ],
   "source": [
    "print(numbers.index(6))"
   ]
  },
  {
   "cell_type": "markdown",
   "id": "2ef09d0d-28aa-48ce-8dcd-383587d8affb",
   "metadata": {},
   "source": [
    "### count(인자) 리스트 안에 인자와 같은 요소가 몇개가 있는지 반환한다."
   ]
  },
  {
   "cell_type": "code",
   "execution_count": 30,
   "id": "320b5a4c-3f9d-4558-a9c2-70a2e5122561",
   "metadata": {},
   "outputs": [
    {
     "name": "stdout",
     "output_type": "stream",
     "text": [
      "[2, 0, 0, 3, 0, 0, 4, 0, 5, 6, 7, 8, 0, 0, 0, 9, 10, 11, 9, 10]\n",
      "8\n"
     ]
    }
   ],
   "source": [
    "print(numbers)\n",
    "print(numbers.count(0))"
   ]
  },
  {
   "cell_type": "code",
   "execution_count": 31,
   "id": "1bce359b-6035-4ea3-9252-b7b43da54576",
   "metadata": {},
   "outputs": [
    {
     "name": "stdout",
     "output_type": "stream",
     "text": [
      "[0, 0, 0, 0, 0, 0, 0, 0, 2, 3, 4, 5, 6, 7, 8, 9, 9, 10, 10, 11]\n",
      "[11, 10, 10, 9, 9, 8, 7, 6, 5, 4, 3, 2, 0, 0, 0, 0, 0, 0, 0, 0]\n"
     ]
    }
   ],
   "source": [
    "numbers.sort()\n",
    "print(numbers)\n",
    "numbers.reverse()\n",
    "print(numbers)"
   ]
  },
  {
   "cell_type": "code",
   "execution_count": 37,
   "id": "3a2f38f1-ba6e-4ecc-8f17-0fab5345825a",
   "metadata": {},
   "outputs": [
    {
     "name": "stdout",
     "output_type": "stream",
     "text": [
      "[0, 1, 2, 3, 0, 4, 0, 5, 6, 7, 8, 0, 9, 10, 11]\n"
     ]
    }
   ],
   "source": [
    "numbers.reverse()\n",
    "print(numbers)"
   ]
  },
  {
   "cell_type": "code",
   "execution_count": 39,
   "id": "909cac4a-03a2-4248-973a-0f72836e49e8",
   "metadata": {},
   "outputs": [
    {
     "name": "stdout",
     "output_type": "stream",
     "text": [
      "[3, 4, 5, 6, 7]\n",
      "7\n",
      "[3, 4, 5, 6]\n",
      "6\n",
      "5\n",
      "[3, 4]\n"
     ]
    }
   ],
   "source": [
    "stack = [3, 4, 5]\n",
    "stack.append(6)\n",
    "stack.append(7)\n",
    "print(stack)\n",
    "print(stack.pop())\n",
    "print(stack)\n",
    "print(stack.pop())\n",
    "print(stack.pop())\n",
    "print(stack)"
   ]
  },
  {
   "cell_type": "markdown",
   "id": "b326663b-f716-42ad-940b-a01d2f90af37",
   "metadata": {},
   "source": [
    "### 튜플. 리스트와 비슷하지만 수정 불가. 불변 특징 가짐. 소괄호 생략 가능"
   ]
  },
  {
   "cell_type": "code",
   "execution_count": 44,
   "id": "2c3ba0e5-b44e-4df3-b23d-702485053793",
   "metadata": {},
   "outputs": [
    {
     "name": "stdout",
     "output_type": "stream",
     "text": [
      "(1, 2, 3, 4, 5, 'hello')\n"
     ]
    }
   ],
   "source": [
    "tuple_variable = (1, 2, 3, 4, 5, \"hello\")\n",
    "print(tuple_variable)"
   ]
  },
  {
   "cell_type": "code",
   "execution_count": 45,
   "id": "d2271c9a-0ecd-42b0-b494-d52b9b8a6c50",
   "metadata": {},
   "outputs": [
    {
     "ename": "TypeError",
     "evalue": "'tuple' object does not support item assignment",
     "output_type": "error",
     "traceback": [
      "\u001b[1;31m---------------------------------------------------------------------------\u001b[0m",
      "\u001b[1;31mTypeError\u001b[0m                                 Traceback (most recent call last)",
      "\u001b[1;32m~\\AppData\\Local\\Temp\\ipykernel_14584\\1916826345.py\u001b[0m in \u001b[0;36m<module>\u001b[1;34m\u001b[0m\n\u001b[1;32m----> 1\u001b[1;33m \u001b[0mtuple_variable\u001b[0m\u001b[1;33m[\u001b[0m\u001b[1;36m0\u001b[0m\u001b[1;33m]\u001b[0m \u001b[1;33m=\u001b[0m \u001b[1;36m0\u001b[0m\u001b[1;33m\u001b[0m\u001b[1;33m\u001b[0m\u001b[0m\n\u001b[0m",
      "\u001b[1;31mTypeError\u001b[0m: 'tuple' object does not support item assignment"
     ]
    }
   ],
   "source": [
    "tuple_variable[0] = 0"
   ]
  },
  {
   "cell_type": "code",
   "execution_count": 46,
   "id": "8cecf82d-2636-4868-9e74-57886c180320",
   "metadata": {},
   "outputs": [
    {
     "ename": "TypeError",
     "evalue": "'tuple' object does not support item assignment",
     "output_type": "error",
     "traceback": [
      "\u001b[1;31m---------------------------------------------------------------------------\u001b[0m",
      "\u001b[1;31mTypeError\u001b[0m                                 Traceback (most recent call last)",
      "\u001b[1;32m~\\AppData\\Local\\Temp\\ipykernel_14584\\3675893619.py\u001b[0m in \u001b[0;36m<module>\u001b[1;34m\u001b[0m\n\u001b[1;32m----> 1\u001b[1;33m \u001b[0mtuple_variable\u001b[0m\u001b[1;33m[\u001b[0m\u001b[1;36m1\u001b[0m\u001b[1;33m:\u001b[0m\u001b[1;36m3\u001b[0m\u001b[1;33m]\u001b[0m \u001b[1;33m=\u001b[0m \u001b[1;33m(\u001b[0m\u001b[1;34m\"dd\"\u001b[0m\u001b[1;33m,\u001b[0m \u001b[1;34m\"ee\"\u001b[0m\u001b[1;33m)\u001b[0m\u001b[1;33m\u001b[0m\u001b[1;33m\u001b[0m\u001b[0m\n\u001b[0m",
      "\u001b[1;31mTypeError\u001b[0m: 'tuple' object does not support item assignment"
     ]
    }
   ],
   "source": [
    "tuple_variable[1:3] = (\"dd\", \"ee\")"
   ]
  },
  {
   "cell_type": "markdown",
   "id": "73a8531d-d094-4552-a4f5-d8315a757aa4",
   "metadata": {},
   "source": [
    "### 튜플에서는 요소에 대한 삭제도 불가"
   ]
  },
  {
   "cell_type": "code",
   "execution_count": 48,
   "id": "c4d2797a-0d98-476e-9713-fcb5e8694e58",
   "metadata": {},
   "outputs": [
    {
     "ename": "TypeError",
     "evalue": "'tuple' object doesn't support item deletion",
     "output_type": "error",
     "traceback": [
      "\u001b[1;31m---------------------------------------------------------------------------\u001b[0m",
      "\u001b[1;31mTypeError\u001b[0m                                 Traceback (most recent call last)",
      "\u001b[1;32m~\\AppData\\Local\\Temp\\ipykernel_14584\\3932902972.py\u001b[0m in \u001b[0;36m<module>\u001b[1;34m\u001b[0m\n\u001b[1;32m----> 1\u001b[1;33m \u001b[1;32mdel\u001b[0m \u001b[0mtuple_variable\u001b[0m\u001b[1;33m[\u001b[0m\u001b[1;36m0\u001b[0m\u001b[1;33m]\u001b[0m\u001b[1;33m\u001b[0m\u001b[1;33m\u001b[0m\u001b[0m\n\u001b[0m",
      "\u001b[1;31mTypeError\u001b[0m: 'tuple' object doesn't support item deletion"
     ]
    }
   ],
   "source": [
    "del tuple_variable[0]"
   ]
  },
  {
   "cell_type": "code",
   "execution_count": 50,
   "id": "5c68b7e4-773f-49bb-97d0-07d1ad614bf6",
   "metadata": {},
   "outputs": [
    {
     "name": "stdout",
     "output_type": "stream",
     "text": [
      "<class 'tuple'>\n",
      "('음', '오', '아', '예')\n"
     ]
    }
   ],
   "source": [
    "# 선언할 떄 괄호 안쓰면 튜플로 인식(소괄호 생략 가능)\n",
    "t_v2 = \"음\", \"오\", \"아\", \"예\"\n",
    "print(type(t_v2))\n",
    "print(t_v2)"
   ]
  },
  {
   "cell_type": "markdown",
   "id": "0864a426-34ed-46b3-988b-3f6832e038a3",
   "metadata": {},
   "source": [
    "### 튜플은 왜 쓰나? 리스트는 크기가 바뀔 수 있기 때문에 메모리에서 신경을 써야해서 부담. 튜플은 빠르게 생성할 수 있고 리스트보다 메모리 부담이 적은 대신 내용 변경 불가"
   ]
  },
  {
   "cell_type": "markdown",
   "id": "e412839e-34ca-4899-aff2-7840a69947bb",
   "metadata": {},
   "source": [
    "### 튜플과 리스트의 소요시간 비교"
   ]
  },
  {
   "cell_type": "code",
   "execution_count": 58,
   "id": "bc9da484-5aa1-4de4-93a5-c09abab51d5e",
   "metadata": {},
   "outputs": [
    {
     "name": "stdout",
     "output_type": "stream",
     "text": [
      "0.3171515464782715\n"
     ]
    }
   ],
   "source": [
    "#튜플 생성시간\n",
    "import time\n",
    "\n",
    "curr = time.time()\n",
    "total = []\n",
    "\n",
    "for i in range(1000):\n",
    "    for j in range(1000):\n",
    "        total.append((i, j))\n",
    "        \n",
    "last = time.time()\n",
    "print(last - curr)"
   ]
  },
  {
   "cell_type": "code",
   "execution_count": 59,
   "id": "c4b8298d-dc0f-404f-b32b-f72678b66cc2",
   "metadata": {},
   "outputs": [
    {
     "name": "stdout",
     "output_type": "stream",
     "text": [
      "0.6596553325653076\n"
     ]
    }
   ],
   "source": [
    "#리스트 생성시간\n",
    "import time\n",
    "\n",
    "curr = time.time()\n",
    "total = []\n",
    "\n",
    "for i in range(1000):\n",
    "    for j in range(1000):\n",
    "        total.append([i, j])\n",
    "        \n",
    "last = time.time()\n",
    "print(last - curr)"
   ]
  },
  {
   "cell_type": "code",
   "execution_count": 61,
   "id": "4a54dcdc-bb6d-455d-9d98-1342b7e194d5",
   "metadata": {},
   "outputs": [
    {
     "name": "stdout",
     "output_type": "stream",
     "text": [
      "text1\n",
      "text2\n"
     ]
    }
   ],
   "source": [
    "s1, s2 = \"text1\", \"text2\"\n",
    "print(s1)\n",
    "print(s2)"
   ]
  },
  {
   "cell_type": "code",
   "execution_count": 62,
   "id": "1c5a693a-e8c2-4f1e-bf5d-5fd4c0189a64",
   "metadata": {},
   "outputs": [
    {
     "name": "stdout",
     "output_type": "stream",
     "text": [
      "이렇게 리스트도 가능합니다.\n"
     ]
    }
   ],
   "source": [
    "s3, s4, s5 = [\"이렇게\", \"리스트도\", \"가능합니다.\"]\n",
    "print(s3, s4, s5)"
   ]
  },
  {
   "cell_type": "code",
   "execution_count": 63,
   "id": "4bdec223-5a50-4c01-ae0f-2668e8d290f1",
   "metadata": {},
   "outputs": [
    {
     "name": "stdout",
     "output_type": "stream",
     "text": [
      "문 자 열 도\n"
     ]
    }
   ],
   "source": [
    "s6, s7, s8, s9 = \"문자열도\"\n",
    "print(s6, s7, s8, s9)"
   ]
  },
  {
   "cell_type": "code",
   "execution_count": 73,
   "id": "8c775be8-77e6-4150-8455-03a1e0236cc4",
   "metadata": {},
   "outputs": [
    {
     "name": "stdin",
     "output_type": "stream",
     "text": [
      "메시지 값을 입력해주세요:  1111\n"
     ]
    }
   ],
   "source": [
    "input_value = input(\"메시지 값을 입력해주세요: \")"
   ]
  },
  {
   "cell_type": "code",
   "execution_count": 71,
   "id": "fc4ad522-f304-4e58-ba60-c929c2d66875",
   "metadata": {},
   "outputs": [
    {
     "name": "stdout",
     "output_type": "stream",
     "text": [
      "input_value:  1111 \n",
      "type:  <class 'str'>\n"
     ]
    }
   ],
   "source": [
    "print(\"input_value: \", input_value, \"\\ntype: \", type(input_value))"
   ]
  },
  {
   "cell_type": "code",
   "execution_count": 72,
   "id": "1e7aeb79-6f5d-4310-a34d-ae693a2bd6d1",
   "metadata": {},
   "outputs": [
    {
     "name": "stdin",
     "output_type": "stream",
     "text": [
      " 1112\n"
     ]
    }
   ],
   "source": [
    "input_value1 = input()"
   ]
  },
  {
   "cell_type": "code",
   "execution_count": 74,
   "id": "66ee2990-726b-458f-b950-b5d031a4ec5f",
   "metadata": {},
   "outputs": [
    {
     "name": "stdout",
     "output_type": "stream",
     "text": [
      "input_value:  1111 \n",
      "type:  <class 'int'>\n"
     ]
    }
   ],
   "source": [
    "input_value = int(input_value)\n",
    "print(\"input_value: \", input_value, \"\\ntype: \", type(input_value))"
   ]
  },
  {
   "cell_type": "code",
   "execution_count": 80,
   "id": "0e0eca41-1511-45d9-ae59-e6118404edf0",
   "metadata": {},
   "outputs": [
    {
     "name": "stdin",
     "output_type": "stream",
     "text": [
      "정수 외에 다른 값을 입력해보세요:  1.1\n"
     ]
    },
    {
     "name": "stdout",
     "output_type": "stream",
     "text": [
      "1.1\n"
     ]
    }
   ],
   "source": [
    "input_value2 = input(\"정수 외에 다른 값을 입력해보세요: \")\n",
    "print(input_value2)"
   ]
  },
  {
   "cell_type": "code",
   "execution_count": 77,
   "id": "957a8134-b03e-4d34-847a-c3da077002fa",
   "metadata": {},
   "outputs": [
    {
     "ename": "ValueError",
     "evalue": "invalid literal for int() with base 10: '1.1'",
     "output_type": "error",
     "traceback": [
      "\u001b[1;31m---------------------------------------------------------------------------\u001b[0m",
      "\u001b[1;31mValueError\u001b[0m                                Traceback (most recent call last)",
      "\u001b[1;32m~\\AppData\\Local\\Temp\\ipykernel_14584\\1061107786.py\u001b[0m in \u001b[0;36m<module>\u001b[1;34m\u001b[0m\n\u001b[1;32m----> 1\u001b[1;33m \u001b[0minput_value2\u001b[0m \u001b[1;33m=\u001b[0m \u001b[0mint\u001b[0m\u001b[1;33m(\u001b[0m\u001b[0minput_value2\u001b[0m\u001b[1;33m)\u001b[0m\u001b[1;33m\u001b[0m\u001b[1;33m\u001b[0m\u001b[0m\n\u001b[0m",
      "\u001b[1;31mValueError\u001b[0m: invalid literal for int() with base 10: '1.1'"
     ]
    }
   ],
   "source": [
    "input_value2 = int(input_value2)"
   ]
  },
  {
   "cell_type": "code",
   "execution_count": 78,
   "id": "3dca9746-03fd-4278-994e-b3947559db81",
   "metadata": {},
   "outputs": [
    {
     "name": "stdout",
     "output_type": "stream",
     "text": [
      "1.1\n"
     ]
    }
   ],
   "source": [
    "input_value2 = float(input_value2)\n",
    "print(input_value2)"
   ]
  },
  {
   "cell_type": "code",
   "execution_count": 79,
   "id": "6c6cccd5-9c1d-4f01-b57c-8d1906ff8065",
   "metadata": {},
   "outputs": [
    {
     "name": "stdout",
     "output_type": "stream",
     "text": [
      "1\n"
     ]
    }
   ],
   "source": [
    "input_value2 = int(input_value2)\n",
    "print(input_value2)"
   ]
  },
  {
   "cell_type": "code",
   "execution_count": 81,
   "id": "ae4d8c01-e07f-4f1f-8d4e-3d2fff364fff",
   "metadata": {},
   "outputs": [
    {
     "name": "stdin",
     "output_type": "stream",
     "text": [
      "정수 외 다른값: eng\n"
     ]
    }
   ],
   "source": [
    "input_value3= input(\"정수 외 다른값:\")"
   ]
  },
  {
   "cell_type": "code",
   "execution_count": 85,
   "id": "f49b1bf1-a898-4d86-bee1-2f15ea81a5b1",
   "metadata": {},
   "outputs": [
    {
     "name": "stdin",
     "output_type": "stream",
     "text": [
      "정수를 입력:  3\n"
     ]
    },
    {
     "name": "stdout",
     "output_type": "stream",
     "text": [
      "3\n"
     ]
    }
   ],
   "source": [
    "input_value4 = int(input(\"정수를 입력: \"))\n",
    "print(input_value4)"
   ]
  },
  {
   "cell_type": "code",
   "execution_count": 89,
   "id": "84468cbf-6cb1-45e6-a32a-52efefa97dea",
   "metadata": {},
   "outputs": [
    {
     "name": "stdin",
     "output_type": "stream",
     "text": [
      "이름을 입력하세요:  엔코아\n"
     ]
    },
    {
     "name": "stdout",
     "output_type": "stream",
     "text": [
      "엔코아 씨, 안녕하세요?\n",
      "파이썬에 오신 것을 환영합니다.\n"
     ]
    },
    {
     "name": "stdin",
     "output_type": "stream",
     "text": [
      "첫 번째 정수를 입력하세요:  300\n",
      "두 번째 정수를 입력하세요:  400\n"
     ]
    },
    {
     "name": "stdout",
     "output_type": "stream",
     "text": [
      "300 과 400 의 합은  700 입니다.\n"
     ]
    }
   ],
   "source": [
    "name = input(\"이름을 입력하세요: \")\n",
    "print(name, \"씨, 안녕하세요?\")\n",
    "print(\"파이썬에 오신 것을 환영합니다.\")\n",
    "first = int(input(\"첫 번째 정수를 입력하세요: \"))\n",
    "second = int(input(\"두 번째 정수를 입력하세요: \"))\n",
    "print(first, \"과\", second, \"의 합은 \", first + second, \"입니다.\")"
   ]
  },
  {
   "cell_type": "code",
   "execution_count": 93,
   "id": "f99da33a-3651-494c-867f-5541949c1024",
   "metadata": {},
   "outputs": [
    {
     "name": "stdin",
     "output_type": "stream",
     "text": [
      "경기장은 어디입니까?  고척\n",
      "이긴 팀은 어디입니까?  KT\n",
      "진 팀은 어디입니까?  LG\n",
      "우수 선수는 누구입니까?  강백호\n",
      "스코어는 몇대몇입니까?  10:9\n"
     ]
    },
    {
     "name": "stdout",
     "output_type": "stream",
     "text": [
      "[속보] KT 가 10:9 로 승리...\n",
      "오늘  고척  경기장에서 야구 경기가 있었습니다.\n",
      "KT 와 LG 는 치열한 공방전을 펼쳤습니다.\n",
      "이 경기에서  강백호 가 맹활약을 했습니다.\n",
      "그 끝내  KT 가  LG 를 10:9 로 승리하였습니다.\n",
      "기사 끝.\n"
     ]
    }
   ],
   "source": [
    "stadium = input(\"경기장은 어디입니까? \")\n",
    "winner = input(\"이긴 팀은 어디입니까? \")\n",
    "loser = input(\"진 팀은 어디입니까? \")\n",
    "best = input(\"우수 선수는 누구입니까? \")\n",
    "score = input(\"스코어는 몇대몇입니까? \")\n",
    "\n",
    "print(\"[속보]\", winner, \"가\", score, \"로 승리...\")\n",
    "print(\"오늘 \", stadium, \" 경기장에서 야구 경기가 있었습니다.\")\n",
    "print(winner, \"와\", loser, \"는 치열한 공방전을 펼쳤습니다.\")\n",
    "print(\"이 경기에서 \", best, \"가 맹활약을 했습니다.\")\n",
    "print(\"그 끝내 \", winner, \"가 \", loser, \"를\", score, \"로 승리하였습니다.\\n기사 끝.\")"
   ]
  },
  {
   "cell_type": "code",
   "execution_count": 95,
   "id": "aba2eaf0-a2b8-47b0-8ac1-eeb0263aea69",
   "metadata": {},
   "outputs": [
    {
     "name": "stdout",
     "output_type": "stream",
     "text": [
      "<class 'list'>\n",
      "['1', ' 2', ' 3']\n"
     ]
    }
   ],
   "source": [
    "#split() 문자열을 구분자로 쪼갠다. 기본 값은 공백\n",
    "result = '1, 2, 3'.split(',')\n",
    "print(type(result))\n",
    "print(result)"
   ]
  },
  {
   "cell_type": "code",
   "execution_count": 97,
   "id": "a8796bf2-b2af-4c4e-a732-7f14690503e6",
   "metadata": {},
   "outputs": [
    {
     "name": "stdin",
     "output_type": "stream",
     "text": [
      "hh:mm:ss 의 형태로 시간을 입력해주세요:  12:33:23\n"
     ]
    },
    {
     "name": "stdout",
     "output_type": "stream",
     "text": [
      "실행 결과:\n",
      "시:  12 \n",
      "분:  33 \n",
      "초:  23\n"
     ]
    }
   ],
   "source": [
    "time = input(\"hh:mm:ss 의 형태로 시간을 입력해주세요: \")\n",
    "result = time.split(':')\n",
    "print(\"실행 결과:\")\n",
    "print(\"시: \", result[0], \"\\n분: \", result[1], \"\\n초: \", result[2])"
   ]
  },
  {
   "cell_type": "code",
   "execution_count": 100,
   "id": "1e04dc33-281e-442b-be03-8890292d7459",
   "metadata": {},
   "outputs": [
    {
     "name": "stdin",
     "output_type": "stream",
     "text": [
      "hh:mm:ss 의 형태로 시간을 입력해주세요:  12:33:23\n"
     ]
    },
    {
     "name": "stdout",
     "output_type": "stream",
     "text": [
      "실행 결과:\n",
      "시:  12 \n",
      "분:  33 \n",
      "초:  23\n"
     ]
    }
   ],
   "source": [
    "time = input(\"hh:mm:ss 의 형태로 시간을 입력해주세요: \")\n",
    "h,m,s = time.split(':')\n",
    "print(\"실행 결과:\")\n",
    "print(\"시: \", h, \"\\n분: \", m, \"\\n초: \", s)"
   ]
  },
  {
   "cell_type": "code",
   "execution_count": 101,
   "id": "e211256f-e17e-4484-b7e2-dd1fe3ed3d52",
   "metadata": {},
   "outputs": [
    {
     "name": "stdout",
     "output_type": "stream",
     "text": [
      "[1, 2, 3, 4]\n"
     ]
    }
   ],
   "source": [
    "a = [1.2, 2.5, 3.7, 4.6]\n",
    "a = list(map(int, a))\n",
    "print(a)"
   ]
  },
  {
   "cell_type": "code",
   "execution_count": 102,
   "id": "889c334b-a605-4989-a75d-008c9876a946",
   "metadata": {},
   "outputs": [],
   "source": [
    "#map(function, iterable)"
   ]
  },
  {
   "cell_type": "code",
   "execution_count": 116,
   "id": "260f588e-292e-4652-828b-4f05c479f0f5",
   "metadata": {},
   "outputs": [
    {
     "name": "stdin",
     "output_type": "stream",
     "text": [
      "국어, 영어, 수학, 과학 점수를 입력해주세요:  98,100,96,100\n"
     ]
    },
    {
     "name": "stdout",
     "output_type": "stream",
     "text": [
      "실행 결과:\n",
      "평균 점수는  98.5 점입니다.\n"
     ]
    }
   ],
   "source": [
    "kor, eng, mat, sci = map(int, input(\"국어, 영어, 수학, 과학 점수를 입력해주세요: \").split(\",\"))\n",
    "\n",
    "print(\"실행 결과:\\n평균 점수는 \", (kor+eng+mat+sci)/4, \"점입니다.\")"
   ]
  },
  {
   "cell_type": "code",
   "execution_count": 117,
   "id": "49185722-c37b-4f2d-a621-1f2fe6f0eff8",
   "metadata": {},
   "outputs": [
    {
     "name": "stdin",
     "output_type": "stream",
     "text": [
      "국어, 영어, 수학, 과학 점수를 입력해주세요:  98,100,86,98\n"
     ]
    },
    {
     "name": "stdout",
     "output_type": "stream",
     "text": [
      "98 100 86 98\n"
     ]
    }
   ],
   "source": [
    "scores = input(\"국어, 영어, 수학, 과학 점수를 입력해주세요: \").split(\",\")\n",
    "kor, eng, mat, sci = map(int, scores)\n",
    "print(kor, eng, mat, sci)"
   ]
  },
  {
   "cell_type": "markdown",
   "id": "ddfcbb0c-a239-413d-a8d3-bf7d94f5d92d",
   "metadata": {},
   "source": [
    "### 값 구분하는 단위 변경하기. 공백이 아닌 다른 문자로 sep"
   ]
  },
  {
   "cell_type": "code",
   "execution_count": 119,
   "id": "a0b45fb6-f17f-4d1f-94fa-b46a2c902201",
   "metadata": {},
   "outputs": [
    {
     "name": "stdout",
     "output_type": "stream",
     "text": [
      "value, 1, 1.1, [1, 2, 'text']\n"
     ]
    }
   ],
   "source": [
    "print(\"value\", 1, 1.1, [1, 2, \"text\"], sep = \", \")"
   ]
  },
  {
   "cell_type": "code",
   "execution_count": 123,
   "id": "dca86119-356c-4c8e-8e9f-9bf6adfceb08",
   "metadata": {},
   "outputs": [
    {
     "name": "stdout",
     "output_type": "stream",
     "text": [
      "줄이 바뀌지 않습니다.그 이유는 end=\"\\n\"과 같이 기본 설정된 값을 빈 스트링으로 변경했기 때문입니다.\n",
      "sep, end는 맨 뒤에 써야하며 둘 간 순서는 상관 없습니다.어떻게 사옹하는지\n",
      "이해가 되시나요??"
     ]
    }
   ],
   "source": [
    "print(\"줄이 바뀌지 않습니다.\", end=\"\")\n",
    "print(\"그 이유는 end=\\\"\\\\n\\\"과 같이 기본 설정된 값을 빈 스트링으로 변경했기 때문입니다.\")\n",
    "print(\"sep\", \"end는 맨 뒤에 써야하며 둘 간 순서는 상관 없습니다.\", sep=\", \", end=\"\")\n",
    "print(\"어떻게 사옹하는지\", \"이해가 되시나요?\", sep=\"\\n\", end=\"?\")"
   ]
  },
  {
   "cell_type": "code",
   "execution_count": null,
   "id": "c1e99aff-b833-4094-86ab-a905b394cbc1",
   "metadata": {},
   "outputs": [],
   "source": []
  }
 ],
 "metadata": {
  "kernelspec": {
   "display_name": "Python 3 (ipykernel)",
   "language": "python",
   "name": "python3"
  },
  "language_info": {
   "codemirror_mode": {
    "name": "ipython",
    "version": 3
   },
   "file_extension": ".py",
   "mimetype": "text/x-python",
   "name": "python",
   "nbconvert_exporter": "python",
   "pygments_lexer": "ipython3",
   "version": "3.9.13"
  }
 },
 "nbformat": 4,
 "nbformat_minor": 5
}
