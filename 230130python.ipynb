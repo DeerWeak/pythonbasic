{
 "cells": [
  {
   "cell_type": "code",
   "execution_count": 3,
   "id": "49ab1657-e490-4758-b4b7-42b6b6cfde73",
   "metadata": {},
   "outputs": [],
   "source": [
    "import seaborn as sns\n",
    "import pandas as pd\n",
    "import numpy as np\n",
    "import matplotlib as mpl\n",
    "import matplotlib.pyplot as plt\n",
    "%matplotlib inline\n",
    "\n",
    "penguins = sns.load_dataset(\"penguins\")\n",
    "titanic = sns.load_dataset(\"titanic\")"
   ]
  },
  {
   "cell_type": "code",
   "execution_count": 8,
   "id": "e97cf043-af34-46eb-82c6-5a4b085cb64b",
   "metadata": {},
   "outputs": [],
   "source": [
    "survey_raw_df = pd.read_csv('data/survey_results_public.csv', index_col = \"ResponseId\")"
   ]
  },
  {
   "cell_type": "markdown",
   "id": "98f881a4-3fb2-44ea-a7c6-f95ccbac73e6",
   "metadata": {},
   "source": [
    "survey_results_chema.csv에서 우리가 필요한 정보는 column에 해당하는 qname과 그에 상응하는"
   ]
  },
  {
   "cell_type": "code",
   "execution_count": 11,
   "id": "456849df-ecea-449c-a457-7b8fa9090713",
   "metadata": {},
   "outputs": [],
   "source": [
    "schema_raw = pd.read_csv('data/survey_results_schema.csv', index_col=\"qname\")[\"question\"]"
   ]
  },
  {
   "cell_type": "markdown",
   "id": "15715784-6ab1-4c34-aed8-a6a1ffa06baa",
   "metadata": {},
   "source": [
    "데이터의 column명과 schema으 index가 정확히 일치하지는 않아도 어느 정도 파악이 가능할 것으로 보입니다."
   ]
  },
  {
   "cell_type": "code",
   "execution_count": 15,
   "id": "b233dd7e-61ec-40f1-bb99-293cebf6bc6c",
   "metadata": {},
   "outputs": [
    {
     "data": {
      "text/plain": [
       "Index(['MainBranch', 'Employment', 'RemoteWork', 'CodingActivities', 'EdLevel',\n",
       "       'LearnCode', 'LearnCodeOnline', 'LearnCodeCoursesCert', 'YearsCode',\n",
       "       'YearsCodePro', 'DevType', 'OrgSize', 'PurchaseInfluence', 'BuyNewTool',\n",
       "       'Country', 'Currency', 'CompTotal', 'CompFreq',\n",
       "       'LanguageHaveWorkedWith', 'LanguageWantToWorkWith',\n",
       "       'DatabaseHaveWorkedWith', 'DatabaseWantToWorkWith',\n",
       "       'PlatformHaveWorkedWith', 'PlatformWantToWorkWith',\n",
       "       'WebframeHaveWorkedWith', 'WebframeWantToWorkWith',\n",
       "       'MiscTechHaveWorkedWith', 'MiscTechWantToWorkWith',\n",
       "       'ToolsTechHaveWorkedWith', 'ToolsTechWantToWorkWith',\n",
       "       'NEWCollabToolsHaveWorkedWith', 'NEWCollabToolsWantToWorkWith',\n",
       "       'OpSysProfessional use', 'OpSysPersonal use', 'VersionControlSystem',\n",
       "       'VCInteraction', 'VCHostingPersonal use', 'VCHostingProfessional use',\n",
       "       'OfficeStackAsyncHaveWorkedWith', 'OfficeStackAsyncWantToWorkWith',\n",
       "       'OfficeStackSyncHaveWorkedWith', 'OfficeStackSyncWantToWorkWith',\n",
       "       'Blockchain', 'NEWSOSites', 'SOVisitFreq', 'SOAccount', 'SOPartFreq',\n",
       "       'SOComm', 'Age', 'Gender', 'Trans', 'Sexuality', 'Ethnicity',\n",
       "       'Accessibility', 'MentalHealth', 'TBranch', 'ICorPM', 'WorkExp',\n",
       "       'Knowledge_1', 'Knowledge_2', 'Knowledge_3', 'Knowledge_4',\n",
       "       'Knowledge_5', 'Knowledge_6', 'Knowledge_7', 'Frequency_1',\n",
       "       'Frequency_2', 'Frequency_3', 'TimeSearching', 'TimeAnswering',\n",
       "       'Onboarding', 'ProfessionalTech', 'TrueFalse_1', 'TrueFalse_2',\n",
       "       'TrueFalse_3', 'SurveyLength', 'SurveyEase', 'ConvertedCompYearly'],\n",
       "      dtype='object')"
      ]
     },
     "execution_count": 15,
     "metadata": {},
     "output_type": "execute_result"
    }
   ],
   "source": [
    "survey_raw_df.columns"
   ]
  },
  {
   "cell_type": "code",
   "execution_count": 14,
   "id": "bfa5fe57-a676-4761-83f7-9f6cd9c02f7b",
   "metadata": {},
   "outputs": [
    {
     "data": {
      "text/plain": [
       "Index(['S0', 'MetaInfo', 'S1', 'MainBranch', 'Employment', 'RemoteWork',\n",
       "       'CodingActivities', 'S2', 'EdLevel', 'LearnCode', 'LearnCodeOnline',\n",
       "       'LearnCodeCoursesCert', 'YearsCode', 'YearsCodePro', 'DevType',\n",
       "       'OrgSize', 'PurchaseInfluence', 'BuyNewTool', 'Country', 'Currency',\n",
       "       'CompTotal', 'CompFreq', 'S3', 'Language', 'Database', 'Platform',\n",
       "       'Webframe', 'MiscTech', 'ToolsTech', 'NEWCollabTools', 'OpSys',\n",
       "       'VersionControlSystem', 'VCInteraction', 'VCHosting',\n",
       "       'OfficeStackAsync', 'OfficeStackSync', 'Blockchain', 'S4', 'NEWSOSites',\n",
       "       'SOVisitFreq', 'SOAccount', 'SOPartFreq', 'SOComm', 'S5', 'Age',\n",
       "       'Gender', 'Trans', 'Sexuality', 'Ethnicity', 'Accessibility',\n",
       "       'MentalHealth', 'S6', 'TBranch', 'ICorPM', 'WorkExp', 'Knowledge',\n",
       "       'Frequency', 'TimeSearching', 'TimeAnswering', 'Onboarding',\n",
       "       'ProfessionalTech', 'SOTeamsUsage', 'TrueFalse', 'S7', 'SurveyLength',\n",
       "       'SurveyEase', 'Knowledge_1', 'Knowledge_2', 'Knowledge_3',\n",
       "       'Knowledge_4', 'Knowledge_5', 'Knowledge_6', 'Knowledge_7',\n",
       "       'Frequency_1', 'Frequency_2', 'Frequency_3', 'TrueFalse_1',\n",
       "       'TrueFalse_2', 'TrueFalse_3'],\n",
       "      dtype='object', name='qname')"
      ]
     },
     "execution_count": 14,
     "metadata": {},
     "output_type": "execute_result"
    }
   ],
   "source": [
    "schema_raw.index"
   ]
  },
  {
   "cell_type": "markdown",
   "id": "bd1184b4-fb24-4107-b7c9-5484374c074f",
   "metadata": {},
   "source": [
    "데이터의 컬럼 중 CompTotal이란 항목에 대한 질문이 궁금하다면 schema_raw 시리즈 데이터를 통해 아래와 같이 조회해보면 됩니다."
   ]
  },
  {
   "cell_type": "code",
   "execution_count": 17,
   "id": "a3869a27-6c59-420d-883e-092e6ac16fa5",
   "metadata": {},
   "outputs": [
    {
     "data": {
      "text/plain": [
       "'What is your current total compensation (salary, bonuses, and perks, before taxes and deductions)? Please enter a whole number in the box below, without any punctuation.  If you are paid hourly, please estimate an equivalent weekly, monthly, or yearly salary. If you prefer not to answer, please leave the box empty.'"
      ]
     },
     "execution_count": 17,
     "metadata": {},
     "output_type": "execute_result"
    }
   ],
   "source": [
    "schema_raw[\"CompTotal\"]"
   ]
  },
  {
   "cell_type": "code",
   "execution_count": 18,
   "id": "4bf2dd08-31e3-48ea-b13b-ac8688d05400",
   "metadata": {},
   "outputs": [
    {
     "data": {
      "text/plain": [
       "'Is that compensation weekly, monthly, or yearly?'"
      ]
     },
     "execution_count": 18,
     "metadata": {},
     "output_type": "execute_result"
    }
   ],
   "source": [
    "schema_raw[\"CompFreq\"]"
   ]
  },
  {
   "cell_type": "markdown",
   "id": "29bb2246-3c95-4d18-a970-0a70f48d2277",
   "metadata": {},
   "source": [
    "survey_raw_df에 대한 info()를 조회해보면 총 78개의 column이 존재한다.\n",
    "수많은 column이 존재한다면 pandas에서 가시성을 위해 출력시 column 일부를 생략합니다."
   ]
  },
  {
   "cell_type": "code",
   "execution_count": 20,
   "id": "e3124cde-129b-4bff-9ef1-f1f4212183b5",
   "metadata": {},
   "outputs": [
    {
     "name": "stdout",
     "output_type": "stream",
     "text": [
      "<class 'pandas.core.frame.DataFrame'>\n",
      "Int64Index: 73268 entries, 1 to 73268\n",
      "Data columns (total 78 columns):\n",
      " #   Column                          Non-Null Count  Dtype  \n",
      "---  ------                          --------------  -----  \n",
      " 0   MainBranch                      73268 non-null  object \n",
      " 1   Employment                      71709 non-null  object \n",
      " 2   RemoteWork                      58958 non-null  object \n",
      " 3   CodingActivities                58899 non-null  object \n",
      " 4   EdLevel                         71571 non-null  object \n",
      " 5   LearnCode                       71580 non-null  object \n",
      " 6   LearnCodeOnline                 50685 non-null  object \n",
      " 7   LearnCodeCoursesCert            29389 non-null  object \n",
      " 8   YearsCode                       71331 non-null  object \n",
      " 9   YearsCodePro                    51833 non-null  object \n",
      " 10  DevType                         61302 non-null  object \n",
      " 11  OrgSize                         51039 non-null  object \n",
      " 12  PurchaseInfluence               50969 non-null  object \n",
      " 13  BuyNewTool                      67963 non-null  object \n",
      " 14  Country                         71771 non-null  object \n",
      " 15  Currency                        51264 non-null  object \n",
      " 16  CompTotal                       38422 non-null  float64\n",
      " 17  CompFreq                        44425 non-null  object \n",
      " 18  LanguageHaveWorkedWith          70975 non-null  object \n",
      " 19  LanguageWantToWorkWith          67027 non-null  object \n",
      " 20  DatabaseHaveWorkedWith          60121 non-null  object \n",
      " 21  DatabaseWantToWorkWith          51014 non-null  object \n",
      " 22  PlatformHaveWorkedWith          49924 non-null  object \n",
      " 23  PlatformWantToWorkWith          40415 non-null  object \n",
      " 24  WebframeHaveWorkedWith          53544 non-null  object \n",
      " 25  WebframeWantToWorkWith          46122 non-null  object \n",
      " 26  MiscTechHaveWorkedWith          44992 non-null  object \n",
      " 27  MiscTechWantToWorkWith          36810 non-null  object \n",
      " 28  ToolsTechHaveWorkedWith         54171 non-null  object \n",
      " 29  ToolsTechWantToWorkWith         46566 non-null  object \n",
      " 30  NEWCollabToolsHaveWorkedWith    70347 non-null  object \n",
      " 31  NEWCollabToolsWantToWorkWith    64108 non-null  object \n",
      " 32  OpSysProfessional use           65503 non-null  object \n",
      " 33  OpSysPersonal use               70963 non-null  object \n",
      " 34  VersionControlSystem            71379 non-null  object \n",
      " 35  VCInteraction                   68156 non-null  object \n",
      " 36  VCHostingPersonal use           0 non-null      float64\n",
      " 37  VCHostingProfessional use       0 non-null      float64\n",
      " 38  OfficeStackAsyncHaveWorkedWith  46223 non-null  object \n",
      " 39  OfficeStackAsyncWantToWorkWith  32072 non-null  object \n",
      " 40  OfficeStackSyncHaveWorkedWith   62128 non-null  object \n",
      " 41  OfficeStackSyncWantToWorkWith   47688 non-null  object \n",
      " 42  Blockchain                      71071 non-null  object \n",
      " 43  NEWSOSites                      71365 non-null  object \n",
      " 44  SOVisitFreq                     70961 non-null  object \n",
      " 45  SOAccount                       71572 non-null  object \n",
      " 46  SOPartFreq                      58229 non-null  object \n",
      " 47  SOComm                          71408 non-null  object \n",
      " 48  Age                             70946 non-null  object \n",
      " 49  Gender                          70853 non-null  object \n",
      " 50  Trans                           70315 non-null  object \n",
      " 51  Sexuality                       66565 non-null  object \n",
      " 52  Ethnicity                       69474 non-null  object \n",
      " 53  Accessibility                   67244 non-null  object \n",
      " 54  MentalHealth                    66447 non-null  object \n",
      " 55  TBranch                         52670 non-null  object \n",
      " 56  ICorPM                          36283 non-null  object \n",
      " 57  WorkExp                         36769 non-null  float64\n",
      " 58  Knowledge_1                     35804 non-null  object \n",
      " 59  Knowledge_2                     34973 non-null  object \n",
      " 60  Knowledge_3                     35133 non-null  object \n",
      " 61  Knowledge_4                     35097 non-null  object \n",
      " 62  Knowledge_5                     35014 non-null  object \n",
      " 63  Knowledge_6                     34991 non-null  object \n",
      " 64  Knowledge_7                     34977 non-null  object \n",
      " 65  Frequency_1                     35371 non-null  object \n",
      " 66  Frequency_2                     35344 non-null  object \n",
      " 67  Frequency_3                     34515 non-null  object \n",
      " 68  TimeSearching                   36198 non-null  object \n",
      " 69  TimeAnswering                   36022 non-null  object \n",
      " 70  Onboarding                      35679 non-null  object \n",
      " 71  ProfessionalTech                34906 non-null  object \n",
      " 72  TrueFalse_1                     35819 non-null  object \n",
      " 73  TrueFalse_2                     35715 non-null  object \n",
      " 74  TrueFalse_3                     35749 non-null  object \n",
      " 75  SurveyLength                    70444 non-null  object \n",
      " 76  SurveyEase                      70508 non-null  object \n",
      " 77  ConvertedCompYearly             38071 non-null  float64\n",
      "dtypes: float64(5), object(73)\n",
      "memory usage: 44.2+ MB\n"
     ]
    }
   ],
   "source": [
    "survey_raw_df.info()"
   ]
  },
  {
   "cell_type": "markdown",
   "id": "70af6198-51eb-47d9-a1b6-672b46d74061",
   "metadata": {},
   "source": [
    "survey_raw_df에 대해 조회할 때 생략되는 column이 없도록 아래와 같이 설정을 해줍니다.\n",
    "- display.max_columns: 표현되는 column의 최대 개수\n",
    "- display.max_rows: 표현되는 row의 최대 개수"
   ]
  },
  {
   "cell_type": "code",
   "execution_count": null,
   "id": "a300991d-1b8c-4c3d-8f0f-cd9909f62a51",
   "metadata": {},
   "outputs": [],
   "source": [
    "pd.set_option('display.max_columns', 78)\n",
    "pd.set_option('display.max_rows', 78)"
   ]
  },
  {
   "cell_type": "markdown",
   "id": "273c19b2-30c1-433a-be2e-46b62dd425dc",
   "metadata": {},
   "source": [
    "매우 많은 column이 존재하는데, 이 중 우리는 일부를 발췌하여 사용\n",
    "- 인구 통계(성별, 나이, 학력 등)\n",
    "- 프로그래밍 기술, 경험 및 선호도\n",
    "- 고용 관련 정보, 선호도 및 의견"
   ]
  },
  {
   "cell_type": "code",
   "execution_count": 27,
   "id": "55c7a83d-21b3-45b9-96ee-ac1072e91f6c",
   "metadata": {},
   "outputs": [],
   "source": [
    "selected_columns = [\n",
    "    # 인구 통계\n",
    "    'Country',\n",
    "    'Age',\n",
    "    'Gender',\n",
    "    'EdLevel', # 학력\n",
    "    # 프로그래밍 경험\n",
    "    'YearsCode', # 코딩 경험\n",
    "    'YearsCodePro', # 코딩 경력\n",
    "    'LanguageHaveWorkedWith',\n",
    "    'LanguageWantToWorkWith',\n",
    "    'LearnCodeCoursesCert',\n",
    "    'ProfessionalTech',\n",
    "    'SOAccount',\n",
    "    # 고용 관련 정보\n",
    "    'Employment',\n",
    "    'DevType',\n",
    "    'WorkExp',\n",
    "]"
   ]
  },
  {
   "cell_type": "markdown",
   "id": "d6d49ad7-7121-42f9-ab4a-82796e1547fd",
   "metadata": {},
   "source": [
    "위에서 만든 리스트를 활용하여 column에 대해 배열 인덱싱을 하고 있습니다. 이로 인해 얻어진 결과를 survey_raw_df로부터 분리하여 작업하고자 copy() 메서드를 통해 새롭게 복사했습니다."
   ]
  },
  {
   "cell_type": "code",
   "execution_count": 29,
   "id": "f92bc935-c7f3-4308-ba1e-1989895621c1",
   "metadata": {},
   "outputs": [
    {
     "data": {
      "text/html": [
       "<div>\n",
       "<style scoped>\n",
       "    .dataframe tbody tr th:only-of-type {\n",
       "        vertical-align: middle;\n",
       "    }\n",
       "\n",
       "    .dataframe tbody tr th {\n",
       "        vertical-align: top;\n",
       "    }\n",
       "\n",
       "    .dataframe thead th {\n",
       "        text-align: right;\n",
       "    }\n",
       "</style>\n",
       "<table border=\"1\" class=\"dataframe\">\n",
       "  <thead>\n",
       "    <tr style=\"text-align: right;\">\n",
       "      <th></th>\n",
       "      <th>Country</th>\n",
       "      <th>Age</th>\n",
       "      <th>Gender</th>\n",
       "      <th>EdLevel</th>\n",
       "      <th>YearsCode</th>\n",
       "      <th>YearsCodePro</th>\n",
       "      <th>LanguageHaveWorkedWith</th>\n",
       "      <th>LanguageWantToWorkWith</th>\n",
       "      <th>LearnCodeCoursesCert</th>\n",
       "      <th>ProfessionalTech</th>\n",
       "      <th>SOAccount</th>\n",
       "      <th>Employment</th>\n",
       "      <th>DevType</th>\n",
       "      <th>WorkExp</th>\n",
       "    </tr>\n",
       "    <tr>\n",
       "      <th>ResponseId</th>\n",
       "      <th></th>\n",
       "      <th></th>\n",
       "      <th></th>\n",
       "      <th></th>\n",
       "      <th></th>\n",
       "      <th></th>\n",
       "      <th></th>\n",
       "      <th></th>\n",
       "      <th></th>\n",
       "      <th></th>\n",
       "      <th></th>\n",
       "      <th></th>\n",
       "      <th></th>\n",
       "      <th></th>\n",
       "    </tr>\n",
       "  </thead>\n",
       "  <tbody>\n",
       "    <tr>\n",
       "      <th>1</th>\n",
       "      <td>NaN</td>\n",
       "      <td>NaN</td>\n",
       "      <td>NaN</td>\n",
       "      <td>NaN</td>\n",
       "      <td>NaN</td>\n",
       "      <td>NaN</td>\n",
       "      <td>NaN</td>\n",
       "      <td>NaN</td>\n",
       "      <td>NaN</td>\n",
       "      <td>NaN</td>\n",
       "      <td>NaN</td>\n",
       "      <td>NaN</td>\n",
       "      <td>NaN</td>\n",
       "      <td>NaN</td>\n",
       "    </tr>\n",
       "    <tr>\n",
       "      <th>2</th>\n",
       "      <td>Canada</td>\n",
       "      <td>NaN</td>\n",
       "      <td>NaN</td>\n",
       "      <td>NaN</td>\n",
       "      <td>NaN</td>\n",
       "      <td>NaN</td>\n",
       "      <td>JavaScript;TypeScript</td>\n",
       "      <td>Rust;TypeScript</td>\n",
       "      <td>NaN</td>\n",
       "      <td>NaN</td>\n",
       "      <td>Yes</td>\n",
       "      <td>Employed, full-time</td>\n",
       "      <td>NaN</td>\n",
       "      <td>NaN</td>\n",
       "    </tr>\n",
       "    <tr>\n",
       "      <th>3</th>\n",
       "      <td>United Kingdom of Great Britain and Northern I...</td>\n",
       "      <td>25-34 years old</td>\n",
       "      <td>Man</td>\n",
       "      <td>Master’s degree (M.A., M.S., M.Eng., MBA, etc.)</td>\n",
       "      <td>14</td>\n",
       "      <td>5</td>\n",
       "      <td>C#;C++;HTML/CSS;JavaScript;Python</td>\n",
       "      <td>C#;C++;HTML/CSS;JavaScript;TypeScript</td>\n",
       "      <td>NaN</td>\n",
       "      <td>NaN</td>\n",
       "      <td>Yes</td>\n",
       "      <td>Employed, full-time</td>\n",
       "      <td>Data scientist or machine learning specialist;...</td>\n",
       "      <td>NaN</td>\n",
       "    </tr>\n",
       "    <tr>\n",
       "      <th>4</th>\n",
       "      <td>Israel</td>\n",
       "      <td>35-44 years old</td>\n",
       "      <td>Man</td>\n",
       "      <td>Bachelor’s degree (B.A., B.S., B.Eng., etc.)</td>\n",
       "      <td>20</td>\n",
       "      <td>17</td>\n",
       "      <td>C#;JavaScript;SQL;TypeScript</td>\n",
       "      <td>C#;SQL;TypeScript</td>\n",
       "      <td>NaN</td>\n",
       "      <td>NaN</td>\n",
       "      <td>Yes</td>\n",
       "      <td>Employed, full-time</td>\n",
       "      <td>Developer, full-stack</td>\n",
       "      <td>NaN</td>\n",
       "    </tr>\n",
       "    <tr>\n",
       "      <th>5</th>\n",
       "      <td>United States of America</td>\n",
       "      <td>25-34 years old</td>\n",
       "      <td>NaN</td>\n",
       "      <td>Bachelor’s degree (B.A., B.S., B.Eng., etc.)</td>\n",
       "      <td>8</td>\n",
       "      <td>3</td>\n",
       "      <td>C#;HTML/CSS;JavaScript;SQL;Swift;TypeScript</td>\n",
       "      <td>C#;Elixir;F#;Go;JavaScript;Rust;TypeScript</td>\n",
       "      <td>NaN</td>\n",
       "      <td>NaN</td>\n",
       "      <td>Yes</td>\n",
       "      <td>Employed, full-time</td>\n",
       "      <td>Developer, front-end;Developer, full-stack;Dev...</td>\n",
       "      <td>NaN</td>\n",
       "    </tr>\n",
       "    <tr>\n",
       "      <th>...</th>\n",
       "      <td>...</td>\n",
       "      <td>...</td>\n",
       "      <td>...</td>\n",
       "      <td>...</td>\n",
       "      <td>...</td>\n",
       "      <td>...</td>\n",
       "      <td>...</td>\n",
       "      <td>...</td>\n",
       "      <td>...</td>\n",
       "      <td>...</td>\n",
       "      <td>...</td>\n",
       "      <td>...</td>\n",
       "      <td>...</td>\n",
       "      <td>...</td>\n",
       "    </tr>\n",
       "    <tr>\n",
       "      <th>73264</th>\n",
       "      <td>Nigeria</td>\n",
       "      <td>25-34 years old</td>\n",
       "      <td>Man</td>\n",
       "      <td>Bachelor’s degree (B.A., B.S., B.Eng., etc.)</td>\n",
       "      <td>8</td>\n",
       "      <td>5</td>\n",
       "      <td>Bash/Shell;Dart;JavaScript;PHP;Python;SQL;Type...</td>\n",
       "      <td>Bash/Shell;Go;JavaScript;Python;SQL;TypeScript</td>\n",
       "      <td>Udemy</td>\n",
       "      <td>DevOps function;Microservices;Developer portal...</td>\n",
       "      <td>Yes</td>\n",
       "      <td>Employed, full-time</td>\n",
       "      <td>Developer, back-end</td>\n",
       "      <td>5.0</td>\n",
       "    </tr>\n",
       "    <tr>\n",
       "      <th>73265</th>\n",
       "      <td>United States of America</td>\n",
       "      <td>25-34 years old</td>\n",
       "      <td>Man</td>\n",
       "      <td>Master’s degree (M.A., M.S., M.Eng., MBA, etc.)</td>\n",
       "      <td>6</td>\n",
       "      <td>5</td>\n",
       "      <td>Bash/Shell;HTML/CSS;JavaScript;Python;SQL</td>\n",
       "      <td>HTML/CSS;JavaScript;Python</td>\n",
       "      <td>Coursera;Udemy;Udacity</td>\n",
       "      <td>None of these</td>\n",
       "      <td>Not sure/can't remember</td>\n",
       "      <td>Employed, full-time</td>\n",
       "      <td>Data scientist or machine learning specialist</td>\n",
       "      <td>6.0</td>\n",
       "    </tr>\n",
       "    <tr>\n",
       "      <th>73266</th>\n",
       "      <td>United States of America</td>\n",
       "      <td>55-64 years old</td>\n",
       "      <td>Man</td>\n",
       "      <td>Bachelor’s degree (B.A., B.S., B.Eng., etc.)</td>\n",
       "      <td>42</td>\n",
       "      <td>33</td>\n",
       "      <td>HTML/CSS;JavaScript;PHP;Python;SQL</td>\n",
       "      <td>C#;HTML/CSS;JavaScript;PHP;Python;SQL</td>\n",
       "      <td>Udemy;Codecademy;Pluralsight;edX</td>\n",
       "      <td>None of these</td>\n",
       "      <td>Yes</td>\n",
       "      <td>Employed, full-time</td>\n",
       "      <td>Developer, full-stack;Developer, desktop or en...</td>\n",
       "      <td>42.0</td>\n",
       "    </tr>\n",
       "    <tr>\n",
       "      <th>73267</th>\n",
       "      <td>United Kingdom of Great Britain and Northern I...</td>\n",
       "      <td>55-64 years old</td>\n",
       "      <td>Man</td>\n",
       "      <td>Bachelor’s degree (B.A., B.S., B.Eng., etc.)</td>\n",
       "      <td>50</td>\n",
       "      <td>31</td>\n",
       "      <td>C#;Delphi;VBA</td>\n",
       "      <td>Delphi</td>\n",
       "      <td>NaN</td>\n",
       "      <td>NaN</td>\n",
       "      <td>Yes</td>\n",
       "      <td>Employed, full-time</td>\n",
       "      <td>Developer, front-end;Developer, desktop or ent...</td>\n",
       "      <td>NaN</td>\n",
       "    </tr>\n",
       "    <tr>\n",
       "      <th>73268</th>\n",
       "      <td>Canada</td>\n",
       "      <td>25-34 years old</td>\n",
       "      <td>Man</td>\n",
       "      <td>Bachelor’s degree (B.A., B.S., B.Eng., etc.)</td>\n",
       "      <td>16</td>\n",
       "      <td>5</td>\n",
       "      <td>C#;JavaScript;Lua;PowerShell;SQL;TypeScript</td>\n",
       "      <td>PowerShell;Rust;TypeScript</td>\n",
       "      <td>Udemy;Pluralsight</td>\n",
       "      <td>NaN</td>\n",
       "      <td>Yes</td>\n",
       "      <td>Independent contractor, freelancer, or self-em...</td>\n",
       "      <td>Developer, front-end;Engineer, data;Engineer, ...</td>\n",
       "      <td>NaN</td>\n",
       "    </tr>\n",
       "  </tbody>\n",
       "</table>\n",
       "<p>73268 rows × 14 columns</p>\n",
       "</div>"
      ],
      "text/plain": [
       "                                                      Country  \\\n",
       "ResponseId                                                      \n",
       "1                                                         NaN   \n",
       "2                                                      Canada   \n",
       "3           United Kingdom of Great Britain and Northern I...   \n",
       "4                                                      Israel   \n",
       "5                                    United States of America   \n",
       "...                                                       ...   \n",
       "73264                                                 Nigeria   \n",
       "73265                                United States of America   \n",
       "73266                                United States of America   \n",
       "73267       United Kingdom of Great Britain and Northern I...   \n",
       "73268                                                  Canada   \n",
       "\n",
       "                        Age Gender  \\\n",
       "ResponseId                           \n",
       "1                       NaN    NaN   \n",
       "2                       NaN    NaN   \n",
       "3           25-34 years old    Man   \n",
       "4           35-44 years old    Man   \n",
       "5           25-34 years old    NaN   \n",
       "...                     ...    ...   \n",
       "73264       25-34 years old    Man   \n",
       "73265       25-34 years old    Man   \n",
       "73266       55-64 years old    Man   \n",
       "73267       55-64 years old    Man   \n",
       "73268       25-34 years old    Man   \n",
       "\n",
       "                                                    EdLevel YearsCode  \\\n",
       "ResponseId                                                              \n",
       "1                                                       NaN       NaN   \n",
       "2                                                       NaN       NaN   \n",
       "3           Master’s degree (M.A., M.S., M.Eng., MBA, etc.)        14   \n",
       "4              Bachelor’s degree (B.A., B.S., B.Eng., etc.)        20   \n",
       "5              Bachelor’s degree (B.A., B.S., B.Eng., etc.)         8   \n",
       "...                                                     ...       ...   \n",
       "73264          Bachelor’s degree (B.A., B.S., B.Eng., etc.)         8   \n",
       "73265       Master’s degree (M.A., M.S., M.Eng., MBA, etc.)         6   \n",
       "73266          Bachelor’s degree (B.A., B.S., B.Eng., etc.)        42   \n",
       "73267          Bachelor’s degree (B.A., B.S., B.Eng., etc.)        50   \n",
       "73268          Bachelor’s degree (B.A., B.S., B.Eng., etc.)        16   \n",
       "\n",
       "           YearsCodePro                             LanguageHaveWorkedWith  \\\n",
       "ResponseId                                                                   \n",
       "1                   NaN                                                NaN   \n",
       "2                   NaN                              JavaScript;TypeScript   \n",
       "3                     5                  C#;C++;HTML/CSS;JavaScript;Python   \n",
       "4                    17                       C#;JavaScript;SQL;TypeScript   \n",
       "5                     3        C#;HTML/CSS;JavaScript;SQL;Swift;TypeScript   \n",
       "...                 ...                                                ...   \n",
       "73264                 5  Bash/Shell;Dart;JavaScript;PHP;Python;SQL;Type...   \n",
       "73265                 5          Bash/Shell;HTML/CSS;JavaScript;Python;SQL   \n",
       "73266                33                 HTML/CSS;JavaScript;PHP;Python;SQL   \n",
       "73267                31                                      C#;Delphi;VBA   \n",
       "73268                 5        C#;JavaScript;Lua;PowerShell;SQL;TypeScript   \n",
       "\n",
       "                                    LanguageWantToWorkWith  \\\n",
       "ResponseId                                                   \n",
       "1                                                      NaN   \n",
       "2                                          Rust;TypeScript   \n",
       "3                    C#;C++;HTML/CSS;JavaScript;TypeScript   \n",
       "4                                        C#;SQL;TypeScript   \n",
       "5               C#;Elixir;F#;Go;JavaScript;Rust;TypeScript   \n",
       "...                                                    ...   \n",
       "73264       Bash/Shell;Go;JavaScript;Python;SQL;TypeScript   \n",
       "73265                           HTML/CSS;JavaScript;Python   \n",
       "73266                C#;HTML/CSS;JavaScript;PHP;Python;SQL   \n",
       "73267                                               Delphi   \n",
       "73268                           PowerShell;Rust;TypeScript   \n",
       "\n",
       "                        LearnCodeCoursesCert  \\\n",
       "ResponseId                                     \n",
       "1                                        NaN   \n",
       "2                                        NaN   \n",
       "3                                        NaN   \n",
       "4                                        NaN   \n",
       "5                                        NaN   \n",
       "...                                      ...   \n",
       "73264                                  Udemy   \n",
       "73265                 Coursera;Udemy;Udacity   \n",
       "73266       Udemy;Codecademy;Pluralsight;edX   \n",
       "73267                                    NaN   \n",
       "73268                      Udemy;Pluralsight   \n",
       "\n",
       "                                             ProfessionalTech  \\\n",
       "ResponseId                                                      \n",
       "1                                                         NaN   \n",
       "2                                                         NaN   \n",
       "3                                                         NaN   \n",
       "4                                                         NaN   \n",
       "5                                                         NaN   \n",
       "...                                                       ...   \n",
       "73264       DevOps function;Microservices;Developer portal...   \n",
       "73265                                           None of these   \n",
       "73266                                           None of these   \n",
       "73267                                                     NaN   \n",
       "73268                                                     NaN   \n",
       "\n",
       "                          SOAccount  \\\n",
       "ResponseId                            \n",
       "1                               NaN   \n",
       "2                               Yes   \n",
       "3                               Yes   \n",
       "4                               Yes   \n",
       "5                               Yes   \n",
       "...                             ...   \n",
       "73264                           Yes   \n",
       "73265       Not sure/can't remember   \n",
       "73266                           Yes   \n",
       "73267                           Yes   \n",
       "73268                           Yes   \n",
       "\n",
       "                                                   Employment  \\\n",
       "ResponseId                                                      \n",
       "1                                                         NaN   \n",
       "2                                         Employed, full-time   \n",
       "3                                         Employed, full-time   \n",
       "4                                         Employed, full-time   \n",
       "5                                         Employed, full-time   \n",
       "...                                                       ...   \n",
       "73264                                     Employed, full-time   \n",
       "73265                                     Employed, full-time   \n",
       "73266                                     Employed, full-time   \n",
       "73267                                     Employed, full-time   \n",
       "73268       Independent contractor, freelancer, or self-em...   \n",
       "\n",
       "                                                      DevType  WorkExp  \n",
       "ResponseId                                                              \n",
       "1                                                         NaN      NaN  \n",
       "2                                                         NaN      NaN  \n",
       "3           Data scientist or machine learning specialist;...      NaN  \n",
       "4                                       Developer, full-stack      NaN  \n",
       "5           Developer, front-end;Developer, full-stack;Dev...      NaN  \n",
       "...                                                       ...      ...  \n",
       "73264                                     Developer, back-end      5.0  \n",
       "73265           Data scientist or machine learning specialist      6.0  \n",
       "73266       Developer, full-stack;Developer, desktop or en...     42.0  \n",
       "73267       Developer, front-end;Developer, desktop or ent...      NaN  \n",
       "73268       Developer, front-end;Engineer, data;Engineer, ...      NaN  \n",
       "\n",
       "[73268 rows x 14 columns]"
      ]
     },
     "execution_count": 29,
     "metadata": {},
     "output_type": "execute_result"
    }
   ],
   "source": [
    "survey_df = survey_raw_df[selected_columns].copy()\n",
    "survey_df"
   ]
  },
  {
   "cell_type": "code",
   "execution_count": 30,
   "id": "5e53fbc4-768b-497c-b1a9-7e8f2e974fd0",
   "metadata": {},
   "outputs": [
    {
     "name": "stdout",
     "output_type": "stream",
     "text": [
      "<class 'pandas.core.frame.DataFrame'>\n",
      "Int64Index: 73268 entries, 1 to 73268\n",
      "Data columns (total 14 columns):\n",
      " #   Column                  Non-Null Count  Dtype  \n",
      "---  ------                  --------------  -----  \n",
      " 0   Country                 71771 non-null  object \n",
      " 1   Age                     70946 non-null  object \n",
      " 2   Gender                  70853 non-null  object \n",
      " 3   EdLevel                 71571 non-null  object \n",
      " 4   YearsCode               71331 non-null  object \n",
      " 5   YearsCodePro            51833 non-null  object \n",
      " 6   LanguageHaveWorkedWith  70975 non-null  object \n",
      " 7   LanguageWantToWorkWith  67027 non-null  object \n",
      " 8   LearnCodeCoursesCert    29389 non-null  object \n",
      " 9   ProfessionalTech        34906 non-null  object \n",
      " 10  SOAccount               71572 non-null  object \n",
      " 11  Employment              71709 non-null  object \n",
      " 12  DevType                 61302 non-null  object \n",
      " 13  WorkExp                 36769 non-null  float64\n",
      "dtypes: float64(1), object(13)\n",
      "memory usage: 8.4+ MB\n"
     ]
    }
   ],
   "source": [
    "survey_df.info()"
   ]
  },
  {
   "cell_type": "code",
   "execution_count": 32,
   "id": "e48221b1-58cf-428e-b619-578a284c2f1d",
   "metadata": {},
   "outputs": [
    {
     "name": "stdout",
     "output_type": "stream",
     "text": [
      "Including any education, how many years have you been coding in total?\n"
     ]
    }
   ],
   "source": [
    "print(schema_raw[\"YearsCode\"])"
   ]
  },
  {
   "cell_type": "markdown",
   "id": "b17264a4-d479-4dd1-9015-30cdf07e2302",
   "metadata": {},
   "source": [
    "value_counts()를 활용해서 어떤 값의 유형을 갖는지 직접 확인해봅시다.\n",
    "조회해보니 연을 포함하는 수치값과 'less tan 1 year'라는 문자열과 'more than 50 years'라는 문자열이 보입니다.\n",
    "\n",
    "저 두 문자열이 포함되어 있어 csv 파일을 읽어들일 떄 수치형 데이터로 표현이 어려웠던 것 같네요."
   ]
  },
  {
   "cell_type": "code",
   "execution_count": 33,
   "id": "7b171932-d898-4d1a-8a51-668c16aa3e27",
   "metadata": {},
   "outputs": [
    {
     "data": {
      "text/plain": [
       "10                    5217\n",
       "5                     5193\n",
       "6                     4651\n",
       "4                     4480\n",
       "7                     4237\n",
       "8                     4227\n",
       "3                     4122\n",
       "2                     3351\n",
       "12                    2995\n",
       "15                    2962\n",
       "20                    2659\n",
       "9                     2581\n",
       "11                    1819\n",
       "14                    1811\n",
       "13                    1624\n",
       "25                    1582\n",
       "1                     1566\n",
       "Less than 1 year      1413\n",
       "16                    1406\n",
       "30                    1330\n",
       "22                    1176\n",
       "18                    1150\n",
       "17                    1080\n",
       "40                     777\n",
       "24                     752\n",
       "35                     742\n",
       "23                     644\n",
       "19                     563\n",
       "26                     489\n",
       "27                     485\n",
       "21                     483\n",
       "28                     425\n",
       "32                     371\n",
       "38                     288\n",
       "37                     277\n",
       "34                     241\n",
       "36                     236\n",
       "33                     229\n",
       "42                     216\n",
       "29                     208\n",
       "More than 50 years     172\n",
       "31                     170\n",
       "45                     167\n",
       "39                     159\n",
       "41                     143\n",
       "43                     115\n",
       "44                     104\n",
       "50                      68\n",
       "46                      57\n",
       "47                      42\n",
       "48                      41\n",
       "49                      35\n",
       "Name: YearsCode, dtype: int64"
      ]
     },
     "execution_count": 33,
     "metadata": {},
     "output_type": "execute_result"
    }
   ],
   "source": [
    "survey_df[\"YearsCode\"].value_counts()"
   ]
  },
  {
   "cell_type": "markdown",
   "id": "0a5a0849-ef58-4eb3-9c54-1a85cdbd690a",
   "metadata": {},
   "source": [
    "연습 문제: 작업에 들어가기 이전에 해당 column(series)이 NaN 값을 얼마나 갖는지 확인하기 위한 함수를 만들어 봅시다.\n",
    "- series를 인자로 갖는 count_nan 함수를 만듭니다.\n",
    "- 이 함수는 인자로 전달된 series의 NaN 개수를 반환해줍니다."
   ]
  },
  {
   "cell_type": "code",
   "execution_count": 45,
   "id": "9c5ce20f-afdf-4825-8e2a-fedfe6b64dd8",
   "metadata": {},
   "outputs": [],
   "source": [
    "def count_nan_1(series):\n",
    "    return series.isnull().sum()"
   ]
  },
  {
   "cell_type": "code",
   "execution_count": 46,
   "id": "ee08137f-3b95-4c7e-8301-246b0e83291f",
   "metadata": {},
   "outputs": [],
   "source": [
    "def count_nan(series):\n",
    "    return len(series) - series.count()"
   ]
  },
  {
   "cell_type": "code",
   "execution_count": 48,
   "id": "373c561b-b156-4e00-99f1-f04e850c614d",
   "metadata": {},
   "outputs": [
    {
     "data": {
      "text/plain": [
       "1937"
      ]
     },
     "execution_count": 48,
     "metadata": {},
     "output_type": "execute_result"
    }
   ],
   "source": [
    "count_nan(survey_df[\"YearsCode\"])"
   ]
  },
  {
   "cell_type": "code",
   "execution_count": 37,
   "id": "6fdee5f9-e102-4770-bd87-e511ad75639a",
   "metadata": {},
   "outputs": [
    {
     "data": {
      "text/plain": [
       "Bachelor’s degree (B.A., B.S., B.Eng., etc.)                                          30276\n",
       "Master’s degree (M.A., M.S., M.Eng., MBA, etc.)                                       15486\n",
       "Some college/university study without earning a degree                                 9326\n",
       "Secondary school (e.g. American high school, German Realschule or Gymnasium, etc.)     7904\n",
       "Associate degree (A.A., A.S., etc.)                                                    2236\n",
       "Other doctoral degree (Ph.D., Ed.D., etc.)                                             2169\n",
       "Primary/elementary school                                                              1806\n",
       "Something else                                                                         1247\n",
       "Professional degree (JD, MD, etc.)                                                     1121\n",
       "Name: EdLevel, dtype: int64"
      ]
     },
     "execution_count": 37,
     "metadata": {},
     "output_type": "execute_result"
    }
   ],
   "source": [
    "survey_df[\"EdLevel\"].value_counts()"
   ]
  },
  {
   "cell_type": "markdown",
   "id": "5b4af0a7-dac6-430d-9a01-ca26326cc85e",
   "metadata": {},
   "source": [
    "연습문제: YearsCode의 'less than 1 year'의 값은 0으로 변경하고 'More than 50 years'의 값은 51로 일괄적으로 변경하려 합니다.\n",
    "또 dtype을 float로 변경하고 이를 survey_df[\"YearsCode\"]에 적용해보세요.\n",
    "- 아래의 Series의 메서드를 활용해보세요.\n",
    "- 힌트: replace(변경 전 값, 변경 후 값, inplace=True)"
   ]
  },
  {
   "cell_type": "code",
   "execution_count": 69,
   "id": "dca87bda-e146-4061-9146-af42a10ded17",
   "metadata": {},
   "outputs": [],
   "source": [
    "survey_df.YearsCode.replace('Less than 1 year', 0, inplace=True)\n",
    "# survey_df[\"yearsCode\"].replace('Less than 1 year', 0, inplace=True)"
   ]
  },
  {
   "cell_type": "code",
   "execution_count": 70,
   "id": "e0514073-6c8e-4aaa-a085-50e885792db4",
   "metadata": {},
   "outputs": [],
   "source": [
    "survey_df.YearsCode.replace('More than 50 years', 51, inplace=True)"
   ]
  },
  {
   "cell_type": "code",
   "execution_count": 71,
   "id": "89bf6d97-75a2-40c3-9bf6-952fb6035c1f",
   "metadata": {},
   "outputs": [],
   "source": [
    "survey_df = survey_df.astype({'YearsCode':'float64'})\n",
    "# survey_df[\"YearsCode\"] = survey_df[\"yearsCode\"].astype(float)"
   ]
  },
  {
   "cell_type": "code",
   "execution_count": 72,
   "id": "9ee102e3-ae2a-44dc-a5ac-1e8286b710c8",
   "metadata": {},
   "outputs": [
    {
     "data": {
      "text/plain": [
       "ResponseId\n",
       "1         NaN\n",
       "2         NaN\n",
       "3        14.0\n",
       "4        20.0\n",
       "5         8.0\n",
       "         ... \n",
       "73264     8.0\n",
       "73265     6.0\n",
       "73266    42.0\n",
       "73267    50.0\n",
       "73268    16.0\n",
       "Name: YearsCode, Length: 73268, dtype: float64"
      ]
     },
     "execution_count": 72,
     "metadata": {},
     "output_type": "execute_result"
    }
   ],
   "source": [
    "survey_df[\"YearsCode\"]"
   ]
  },
  {
   "cell_type": "code",
   "execution_count": 73,
   "id": "c45a47ed-0819-48b3-9a82-81fcb55007d4",
   "metadata": {},
   "outputs": [
    {
     "name": "stdout",
     "output_type": "stream",
     "text": [
      "float64\n"
     ]
    }
   ],
   "source": [
    "print(survey_df[\"YearsCode\"].dtype)"
   ]
  },
  {
   "cell_type": "markdown",
   "id": "af458669-3ff9-4048-813d-ae49eef6ac2a",
   "metadata": {},
   "source": [
    "교육기관을 포함하지 않는 column YearsCodePro\n",
    "YearsCode보다 결측치가 많아 보인다."
   ]
  },
  {
   "cell_type": "code",
   "execution_count": 77,
   "id": "9fdf6234-641b-4364-9f68-4a95482d63ac",
   "metadata": {},
   "outputs": [
    {
     "name": "stdout",
     "output_type": "stream",
     "text": [
      "NOT including education, how many years have you coded professionally (as a part of your work)?\n"
     ]
    }
   ],
   "source": [
    "print(schema_raw[\"YearsCodePro\"])"
   ]
  },
  {
   "cell_type": "code",
   "execution_count": 78,
   "id": "cb1b6961-8015-4109-90d1-1f679f2583c3",
   "metadata": {},
   "outputs": [
    {
     "data": {
      "text/plain": [
       "21435"
      ]
     },
     "execution_count": 78,
     "metadata": {},
     "output_type": "execute_result"
    }
   ],
   "source": [
    "count_nan(survey_df[\"YearsCodePro\"])"
   ]
  },
  {
   "cell_type": "code",
   "execution_count": 79,
   "id": "824391db-cd45-4d43-951b-0fe73ee2b5d1",
   "metadata": {},
   "outputs": [
    {
     "data": {
      "text/plain": [
       "3                     4261\n",
       "5                     4057\n",
       "2                     3945\n",
       "4                     3884\n",
       "10                    3333\n",
       "6                     3184\n",
       "7                     2760\n",
       "8                     2646\n",
       "1                     2644\n",
       "Less than 1 year      1972\n",
       "15                    1822\n",
       "12                    1711\n",
       "9                     1583\n",
       "20                    1472\n",
       "11                    1369\n",
       "14                    1048\n",
       "22                     933\n",
       "16                     921\n",
       "13                     914\n",
       "25                     877\n",
       "18                     787\n",
       "17                     723\n",
       "30                     568\n",
       "23                     463\n",
       "24                     454\n",
       "21                     429\n",
       "19                     380\n",
       "26                     320\n",
       "27                     286\n",
       "35                     266\n",
       "28                     254\n",
       "32                     223\n",
       "40                     175\n",
       "29                     126\n",
       "33                     122\n",
       "31                     121\n",
       "34                     113\n",
       "36                     111\n",
       "37                     100\n",
       "38                      96\n",
       "42                      67\n",
       "45                      52\n",
       "39                      51\n",
       "41                      42\n",
       "More than 50 years      41\n",
       "43                      31\n",
       "44                      26\n",
       "46                      19\n",
       "48                      18\n",
       "50                      14\n",
       "47                      10\n",
       "49                       9\n",
       "Name: YearsCodePro, dtype: int64"
      ]
     },
     "execution_count": 79,
     "metadata": {},
     "output_type": "execute_result"
    }
   ],
   "source": [
    "survey_df[\"YearsCodePro\"].value_counts()"
   ]
  },
  {
   "cell_type": "code",
   "execution_count": 81,
   "id": "dc9dfbd1-3665-4f80-991f-03a7fd25ec34",
   "metadata": {},
   "outputs": [],
   "source": [
    "survey_df[\"YearsCodePro\"].replace(\"Less than 1 year\", 0, inplace=True)\n",
    "survey_df[\"YearsCodePro\"].replace(\"More than 50 years\", 51, inplace=True)\n",
    "survey_df[\"YearsCodePro\"] = survey_df[\"YearsCodePro\"].astype(float)"
   ]
  },
  {
   "cell_type": "code",
   "execution_count": 82,
   "id": "de1f8b1a-5a56-4df5-b290-082ad2f721cd",
   "metadata": {},
   "outputs": [
    {
     "data": {
      "text/plain": [
       "ResponseId\n",
       "1         NaN\n",
       "2         NaN\n",
       "3         5.0\n",
       "4        17.0\n",
       "5         3.0\n",
       "         ... \n",
       "73264     5.0\n",
       "73265     5.0\n",
       "73266    33.0\n",
       "73267    31.0\n",
       "73268     5.0\n",
       "Name: YearsCodePro, Length: 73268, dtype: float64"
      ]
     },
     "execution_count": 82,
     "metadata": {},
     "output_type": "execute_result"
    }
   ],
   "source": [
    "survey_df[\"YearsCodePro\"]"
   ]
  },
  {
   "cell_type": "markdown",
   "id": "faddbcf9-ec14-46c3-8ab1-27624c998c2e",
   "metadata": {},
   "source": [
    "column 들에 대한 통계 요약을 확인할 수 있다. describe()를 통해 값의 분포를 확인. 범위마다 표현되는 값이 정수이다 보니 데이터 값이 정수 값을 갖는 것을 짐작해볼 수 있다."
   ]
  },
  {
   "cell_type": "code",
   "execution_count": 85,
   "id": "98c30774-a389-4165-b39d-d080acfa14fc",
   "metadata": {},
   "outputs": [
    {
     "data": {
      "text/html": [
       "<div>\n",
       "<style scoped>\n",
       "    .dataframe tbody tr th:only-of-type {\n",
       "        vertical-align: middle;\n",
       "    }\n",
       "\n",
       "    .dataframe tbody tr th {\n",
       "        vertical-align: top;\n",
       "    }\n",
       "\n",
       "    .dataframe thead th {\n",
       "        text-align: right;\n",
       "    }\n",
       "</style>\n",
       "<table border=\"1\" class=\"dataframe\">\n",
       "  <thead>\n",
       "    <tr style=\"text-align: right;\">\n",
       "      <th></th>\n",
       "      <th>YearsCode</th>\n",
       "      <th>YearsCodePro</th>\n",
       "      <th>WorkExp</th>\n",
       "    </tr>\n",
       "  </thead>\n",
       "  <tbody>\n",
       "    <tr>\n",
       "      <th>count</th>\n",
       "      <td>71331.000000</td>\n",
       "      <td>51833.000000</td>\n",
       "      <td>36769.000000</td>\n",
       "    </tr>\n",
       "    <tr>\n",
       "      <th>mean</th>\n",
       "      <td>12.251307</td>\n",
       "      <td>9.910270</td>\n",
       "      <td>10.242378</td>\n",
       "    </tr>\n",
       "    <tr>\n",
       "      <th>std</th>\n",
       "      <td>9.952419</td>\n",
       "      <td>8.712048</td>\n",
       "      <td>8.706850</td>\n",
       "    </tr>\n",
       "    <tr>\n",
       "      <th>min</th>\n",
       "      <td>0.000000</td>\n",
       "      <td>0.000000</td>\n",
       "      <td>0.000000</td>\n",
       "    </tr>\n",
       "    <tr>\n",
       "      <th>25%</th>\n",
       "      <td>5.000000</td>\n",
       "      <td>4.000000</td>\n",
       "      <td>4.000000</td>\n",
       "    </tr>\n",
       "    <tr>\n",
       "      <th>50%</th>\n",
       "      <td>9.000000</td>\n",
       "      <td>7.000000</td>\n",
       "      <td>8.000000</td>\n",
       "    </tr>\n",
       "    <tr>\n",
       "      <th>75%</th>\n",
       "      <td>16.000000</td>\n",
       "      <td>14.000000</td>\n",
       "      <td>15.000000</td>\n",
       "    </tr>\n",
       "    <tr>\n",
       "      <th>max</th>\n",
       "      <td>51.000000</td>\n",
       "      <td>51.000000</td>\n",
       "      <td>50.000000</td>\n",
       "    </tr>\n",
       "  </tbody>\n",
       "</table>\n",
       "</div>"
      ],
      "text/plain": [
       "          YearsCode  YearsCodePro       WorkExp\n",
       "count  71331.000000  51833.000000  36769.000000\n",
       "mean      12.251307      9.910270     10.242378\n",
       "std        9.952419      8.712048      8.706850\n",
       "min        0.000000      0.000000      0.000000\n",
       "25%        5.000000      4.000000      4.000000\n",
       "50%        9.000000      7.000000      8.000000\n",
       "75%       16.000000     14.000000     15.000000\n",
       "max       51.000000     51.000000     50.000000"
      ]
     },
     "execution_count": 85,
     "metadata": {},
     "output_type": "execute_result"
    }
   ],
   "source": [
    "survey_df.describe()"
   ]
  },
  {
   "cell_type": "markdown",
   "id": "b03516f0-a7ac-4b1f-aa9b-332d72e97bce",
   "metadata": {},
   "source": [
    "만약 YearsCode, YearscDoePro에 대한 값 중 \"less than 1 year\", \"More than 50 years\"의 값을 NaN으로 처리하면서 수치 자료형으로 바꾼다면 아래 보이는 것처럼 to_numeric() 메서드를 사용할 수도 있습니다."
   ]
  },
  {
   "cell_type": "code",
   "execution_count": 87,
   "id": "7ff2b082-418d-418c-aff1-5ebe3cd968c7",
   "metadata": {},
   "outputs": [],
   "source": [
    "survey_df[\"YearsCode\"] = pd.to_numeric(survey_df.YearsCode, errors=\"coerce\")\n",
    "survey_df[\"YearsCodePro\"] = pd.to_numeric(survey_df.YearsCodePro, errors=\"coerce\")"
   ]
  },
  {
   "cell_type": "markdown",
   "id": "eb3f3f80-448b-4dd4-8538-3d9f890e7e02",
   "metadata": {},
   "source": [
    "Gender, 성별에 대한 column입니다. 여러가지 옵션을 선택할 수 있또록 되어있는 항목입니다. 그 값들의 유니크한 목록을 뽑아보면 예상 외로 다양한 값이 존재할 수 있습니다. 여기서는 둘 이상의 옵션이 포함된 값을 배제하고 데이터를 다루겠습니다."
   ]
  },
  {
   "cell_type": "code",
   "execution_count": 88,
   "id": "16c8b5cf-1558-4427-ae17-abc2ce11e250",
   "metadata": {},
   "outputs": [
    {
     "data": {
      "text/plain": [
       "'Which of the following describe you, if any? Please check all that apply.'"
      ]
     },
     "execution_count": 88,
     "metadata": {},
     "output_type": "execute_result"
    }
   ],
   "source": [
    "schema_raw[\"Gender\"]"
   ]
  },
  {
   "cell_type": "code",
   "execution_count": 89,
   "id": "f2baa841-cb4e-4c2e-84f7-9e28f6443488",
   "metadata": {},
   "outputs": [
    {
     "data": {
      "text/plain": [
       "Man                                                                                   64607\n",
       "Woman                                                                                  3399\n",
       "Prefer not to say                                                                      1172\n",
       "Non-binary, genderqueer, or gender non-conforming                                       704\n",
       "Or, in your own words:                                                                  279\n",
       "Man;Non-binary, genderqueer, or gender non-conforming                                   235\n",
       "Man;Or, in your own words:                                                              171\n",
       "Woman;Non-binary, genderqueer, or gender non-conforming                                 160\n",
       "Man;Woman;Non-binary, genderqueer, or gender non-conforming                              31\n",
       "Man;Woman                                                                                24\n",
       "Man;Or, in your own words:;Woman;Non-binary, genderqueer, or gender non-conforming       18\n",
       "Or, in your own words:;Woman;Non-binary, genderqueer, or gender non-conforming           15\n",
       "Or, in your own words:;Non-binary, genderqueer, or gender non-conforming                 14\n",
       "Or, in your own words:;Woman                                                             13\n",
       "Man;Or, in your own words:;Non-binary, genderqueer, or gender non-conforming              9\n",
       "Man;Or, in your own words:;Woman                                                          2\n",
       "Name: Gender, dtype: int64"
      ]
     },
     "execution_count": 89,
     "metadata": {},
     "output_type": "execute_result"
    }
   ],
   "source": [
    "survey_df[\"Gender\"].value_counts()"
   ]
  },
  {
   "cell_type": "markdown",
   "id": "0b0ba6b4-8b4f-4b7a-b95e-c781f0223b29",
   "metadata": {},
   "source": [
    "np.nan 값이 섞인 Series 자료형에 대해 특정 문자 값이 포함 되었는지 사용할 수 있는 메서드로 contains()가 있습니다 첫 인자로 포함된 것을 찾을 문자열을 넣어줍니다. na 키워드 인수를 활용하면 NaN 값을 대신할 값을 넣을 수 있습니다.\n",
    "\n",
    "Series.str.contains(pat, case=True, flags=0, na=None, regex=True)"
   ]
  },
  {
   "cell_type": "markdown",
   "id": "0235f376-51bf-42f6-89c6-0cb885f20c20",
   "metadata": {},
   "source": [
    "앞의 두 메서드를 활용하면 ';'를 포함하는 row를 NaN값으로 변경할 수 있습니다. 그 활용은 아래의 예제와 같습니다.\n",
    "'~'은 비트 연산자로 Series자료형의 벡터화 연산을 위해 Ture를 False로 False는 True로 반전해주는 역할을 합니다."
   ]
  },
  {
   "cell_type": "code",
   "execution_count": 93,
   "id": "b80f28e8-d445-479d-84a0-6fd8f33b48fb",
   "metadata": {},
   "outputs": [],
   "source": [
    "survey_df.where(~(survey_df[\"Gender\"].str.contains(\";\", na=False)), np.nan, inplace=True)"
   ]
  },
  {
   "cell_type": "code",
   "execution_count": 94,
   "id": "f0f78ee9-dacb-482a-8550-8c15b672114c",
   "metadata": {},
   "outputs": [
    {
     "data": {
      "text/plain": [
       "Man                                                  64607\n",
       "Woman                                                 3399\n",
       "Prefer not to say                                     1172\n",
       "Non-binary, genderqueer, or gender non-conforming      704\n",
       "Or, in your own words:                                 279\n",
       "Name: Gender, dtype: int64"
      ]
     },
     "execution_count": 94,
     "metadata": {},
     "output_type": "execute_result"
    }
   ],
   "source": [
    "survey_df[\"Gender\"].value_counts()"
   ]
  },
  {
   "cell_type": "code",
   "execution_count": 98,
   "id": "5e54c916-0a5f-40da-9a8c-3f7cd940312c",
   "metadata": {},
   "outputs": [],
   "source": [
    "%matplotlib inline\n",
    "\n",
    "sns.set_style('darkgrid')\n",
    "mpl.rcParams['font.size'] = 14\n",
    "mpl.rcParams['figure.figsize'] = (9, 5)\n",
    "mpl.rcParams['figure.facecolor'] = '#00000000'"
   ]
  },
  {
   "cell_type": "code",
   "execution_count": 102,
   "id": "d54e7a33-08bf-4e42-8084-21bcbf762438",
   "metadata": {},
   "outputs": [
    {
     "name": "stdout",
     "output_type": "stream",
     "text": [
      "Noto Sans KR\n",
      "Noto Sans KR\n",
      "Noto Sans KR\n",
      "Noto Sans KR\n",
      "Noto Sans KR\n",
      "Noto Sans KR\n",
      "['Noto Sans KR']\n"
     ]
    }
   ],
   "source": [
    "import matplotlib.font_manager as font_manager\n",
    "import matplotlib as mpl\n",
    "# Add every font at the specified location\n",
    "font_dir = ['C:/python/fonts']\n",
    "for font in font_manager.findSystemFonts(fontpaths=font_dir):\n",
    "    print(mpl.font_manager.FontProperties(fname=font).get_name())\n",
    "    font_manager.fontManager.addfont(font)\n",
    "# Set font family globally\n",
    "mpl.rcParams['font.family'] = 'Noto Sans KR'\n",
    "print(mpl.rcParams['font.family'])\n",
    "mpl.rcParams[\"axes.unicode_minus\"] = False"
   ]
  },
  {
   "cell_type": "code",
   "execution_count": 103,
   "id": "6d01bc05-4bca-4bf9-bf95-f34b0fa1a232",
   "metadata": {},
   "outputs": [
    {
     "data": {
      "text/plain": [
       "'Where do you live? <span style=\"font-weight: bolder;\">*</span>'"
      ]
     },
     "execution_count": 103,
     "metadata": {},
     "output_type": "execute_result"
    }
   ],
   "source": [
    "schema_raw[\"Country\"]"
   ]
  },
  {
   "cell_type": "code",
   "execution_count": 104,
   "id": "a1494766-9104-4b66-ae40-15e2dbcecfde",
   "metadata": {},
   "outputs": [
    {
     "data": {
      "text/plain": [
       "array([nan, 'Canada',\n",
       "       'United Kingdom of Great Britain and Northern Ireland', 'Israel',\n",
       "       'United States of America', 'Germany', 'India', 'Netherlands',\n",
       "       'Croatia', 'Australia', 'Russian Federation', 'Czech Republic',\n",
       "       'Austria', 'Serbia', 'Italy', 'Ireland', 'Poland', 'Slovenia',\n",
       "       'Iraq', 'Sweden', 'Madagascar', 'Norway', 'Taiwan',\n",
       "       'Hong Kong (S.A.R.)', 'Mexico', 'France', 'Brazil', 'Lithuania',\n",
       "       'Uruguay', 'Denmark', 'Spain', 'Egypt', 'Turkey', 'South Africa',\n",
       "       'Ukraine', 'Finland', 'Romania', 'Portugal', 'Singapore', 'Oman',\n",
       "       'Belgium', 'Chile', 'Bulgaria', 'Latvia', 'Philippines', 'Greece',\n",
       "       'Belarus', 'Saudi Arabia', 'Kenya', 'Switzerland', 'Iceland',\n",
       "       'Viet Nam', 'Thailand', 'China', 'Montenegro', 'Slovakia', 'Japan',\n",
       "       'Luxembourg', 'Turkmenistan', 'Argentina', 'Hungary', 'Tunisia',\n",
       "       'Bangladesh', 'Maldives', 'Dominican Republic', 'Jordan',\n",
       "       'Pakistan', 'Nepal', 'Iran, Islamic Republic of...', 'Indonesia',\n",
       "       'Ecuador', 'Bosnia and Herzegovina', 'Armenia', 'Colombia',\n",
       "       'Kazakhstan', 'South Korea', 'Costa Rica', 'Honduras', 'Mauritius',\n",
       "       'Estonia', 'Algeria', 'Trinidad and Tobago', 'Mali', 'Morocco',\n",
       "       'Swaziland', 'New Zealand',\n",
       "       'The former Yugoslav Republic of Macedonia', 'Afghanistan',\n",
       "       'Cyprus', 'United Arab Emirates', 'Peru', 'Uzbekistan', 'Ethiopia',\n",
       "       'Bahrain', 'Malta', 'Nicaragua', 'Andorra', 'Republic of Korea',\n",
       "       'Lebanon', 'Belize', 'Zambia', 'Bolivia', 'Malaysia', 'Sri Lanka',\n",
       "       \"Lao People's Democratic Republic\", 'Guatemala', 'Azerbaijan',\n",
       "       'Suriname', 'El Salvador', 'Syrian Arab Republic', 'Qatar',\n",
       "       'Nigeria', 'Kyrgyzstan', 'Zimbabwe', 'Rwanda', 'Georgia',\n",
       "       'Cambodia', 'Malawi', 'Yemen', 'Fiji', 'Nomadic', 'Uganda',\n",
       "       'Albania', 'Timor-Leste', 'Mongolia', 'Republic of Moldova',\n",
       "       'Tajikistan', 'Ghana', 'United Republic of Tanzania', 'Myanmar',\n",
       "       'Kuwait', 'Cameroon', 'Kosovo', 'Jamaica', 'Benin', 'Botswana',\n",
       "       'Niger', 'Palestine', 'Cape Verde', 'Libyan Arab Jamahiriya',\n",
       "       'Venezuela, Bolivarian Republic of...', 'Senegal', 'Cuba', 'Togo',\n",
       "       'Angola', 'Isle of Man', 'Panama', 'Bahamas', 'Paraguay', 'Sudan',\n",
       "       'Liberia', 'Bhutan', 'Democratic Republic of the Congo',\n",
       "       \"Côte d'Ivoire\", 'Barbados', 'Congo, Republic of the...',\n",
       "       'Namibia', 'Sierra Leone', 'Mozambique', 'Lesotho', 'Chad',\n",
       "       'North Korea', 'Antigua and Barbuda', 'Papua New Guinea', 'Palau',\n",
       "       'Somalia', 'Guinea', 'Haiti', 'Gabon', 'Mauritania', 'San Marino',\n",
       "       'Guyana', 'Saint Lucia', 'Burkina Faso', 'Brunei Darussalam',\n",
       "       'Gambia', 'Monaco', 'Djibouti', 'Seychelles', 'Solomon Islands',\n",
       "       'Saint Kitts and Nevis'], dtype=object)"
      ]
     },
     "execution_count": 104,
     "metadata": {},
     "output_type": "execute_result"
    }
   ],
   "source": [
    "survey_df[\"Country\"].unique()"
   ]
  },
  {
   "cell_type": "code",
   "execution_count": 106,
   "id": "0ed87a15-232b-47bb-a375-8d83ce26d4e1",
   "metadata": {},
   "outputs": [
    {
     "data": {
      "text/plain": [
       "180"
      ]
     },
     "execution_count": 106,
     "metadata": {},
     "output_type": "execute_result"
    }
   ],
   "source": [
    "survey_df[\"Country\"].nunique()\n",
    "# nan값을 포함하지 않은 count() 반환"
   ]
  },
  {
   "cell_type": "code",
   "execution_count": 109,
   "id": "44f51ea8-1a28-4052-8c25-1b994f453261",
   "metadata": {},
   "outputs": [
    {
     "data": {
      "text/plain": [
       "United States of America                                13321\n",
       "India                                                    6618\n",
       "Germany                                                  5342\n",
       "United Kingdom of Great Britain and Northern Ireland     4132\n",
       "Canada                                                   2459\n",
       "France                                                   2306\n",
       "Brazil                                                   2088\n",
       "Poland                                                   1719\n",
       "Netherlands                                              1539\n",
       "Spain                                                    1511\n",
       "Italy                                                    1504\n",
       "Australia                                                1449\n",
       "Russian Federation                                       1215\n",
       "Turkey                                                   1014\n",
       "Sweden                                                   1008\n",
       "Name: Country, dtype: int64"
      ]
     },
     "execution_count": 109,
     "metadata": {},
     "output_type": "execute_result"
    }
   ],
   "source": [
    "survey_df[\"Country\"].value_counts().head(15)"
   ]
  },
  {
   "cell_type": "markdown",
   "id": "c8e498e0-7b9f-44de-b428-0dbd3334c178",
   "metadata": {},
   "source": [
    "연습문제: 앞의 연습문제에서 구한 값을 가지고 다음의 차트를 작성해보세요.\n",
    "- xticks의 글자를 회전시키려면 rotation 키워드 인수에 각도를 의미하는 정수값을 입력하면 됩니다."
   ]
  },
  {
   "cell_type": "code",
   "execution_count": 146,
   "id": "682e4884-7586-48c6-87bd-7a00f85e6da6",
   "metadata": {},
   "outputs": [
    {
     "data": {
      "image/png": "[encoded data removed]",
      "text/plain": [
       "<Figure size 1200x600 with 1 Axes>"
      ]
     },
     "metadata": {
      "needs_background": "light"
     },
     "output_type": "display_data"
    }
   ],
   "source": [
    "country_name = survey_df[\"Country\"].value_counts().head(15).index\n",
    "survey_country = survey_df[\"Country\"].value_counts().head(15)\n",
    "\n",
    "plt.figure(figsize=(12, 6)) # figure 사이즈를 12 x 6으로 설정합니다.\n",
    "sns.barplot(x=country_name, y=survey_country)\n",
    "plt.xticks(rotation = 90)\n",
    "plt.title(\"응답자의 지역\")\n",
    "plt.ylabel(\"응답자의 수\")\n",
    "plt.show()"
   ]
  },
  {
   "cell_type": "markdown",
   "id": "728cb3c6-e00b-4c0f-90df-e53a416dc2b4",
   "metadata": {},
   "source": [
    "이 설문 조사는 영어권 국가의 응답자 비율이 높다. 즉 비영어권 국가의 글로벌 프로그래밍 커뮤니티를 대표하지 않을 수 있다."
   ]
  },
  {
   "cell_type": "markdown",
   "id": "24339fb2-d648-4c60-9a1b-6b61bc3d9a9b",
   "metadata": {},
   "source": [
    "이 설문에서 조사하는 연령에 대한 데이터의 특징이 어떤지 살펴보자"
   ]
  },
  {
   "cell_type": "code",
   "execution_count": 147,
   "id": "f86ebf0a-1451-4b21-ba19-a6fed6acf10d",
   "metadata": {},
   "outputs": [
    {
     "data": {
      "text/plain": [
       "'What is your age?'"
      ]
     },
     "execution_count": 147,
     "metadata": {},
     "output_type": "execute_result"
    }
   ],
   "source": [
    "schema_raw[\"Age\"]"
   ]
  },
  {
   "cell_type": "code",
   "execution_count": 148,
   "id": "573ec713-df62-4a76-8e91-dcd930076aef",
   "metadata": {},
   "outputs": [
    {
     "data": {
      "text/plain": [
       "3011"
      ]
     },
     "execution_count": 148,
     "metadata": {},
     "output_type": "execute_result"
    }
   ],
   "source": [
    "count_nan(survey_df['Age'])"
   ]
  },
  {
   "cell_type": "code",
   "execution_count": 149,
   "id": "1625cde7-4b32-4578-aa97-e835b55c7854",
   "metadata": {},
   "outputs": [
    {
     "data": {
      "text/plain": [
       "25-34 years old       27878\n",
       "18-24 years old       16455\n",
       "35-44 years old       13866\n",
       "45-54 years old        5250\n",
       "Under 18 years old     3775\n",
       "55-64 years old        1974\n",
       "65 years or older       547\n",
       "Prefer not to say       512\n",
       "Name: Age, dtype: int64"
      ]
     },
     "execution_count": 149,
     "metadata": {},
     "output_type": "execute_result"
    }
   ],
   "source": [
    "age_counts = survey_df[\"Age\"].value_counts()\n",
    "age_counts"
   ]
  },
  {
   "cell_type": "code",
   "execution_count": 150,
   "id": "1e2fe349-3164-4485-8abd-7e58b776ea6f",
   "metadata": {},
   "outputs": [
    {
     "data": {
      "text/plain": [
       "array([nan, '25-34 years old', '35-44 years old', 'Under 18 years old',\n",
       "       '18-24 years old', '45-54 years old', '55-64 years old',\n",
       "       '65 years or older', 'Prefer not to say'], dtype=object)"
      ]
     },
     "execution_count": 150,
     "metadata": {},
     "output_type": "execute_result"
    }
   ],
   "source": [
    "survey_df[\"Age\"].unique()"
   ]
  },
  {
   "cell_type": "code",
   "execution_count": 151,
   "id": "81585d9d-bf9a-4d21-9930-7f004696525a",
   "metadata": {},
   "outputs": [
    {
     "data": {
      "text/plain": [
       "8"
      ]
     },
     "execution_count": 151,
     "metadata": {},
     "output_type": "execute_result"
    }
   ],
   "source": [
    "survey_df[\"Age\"].nunique()"
   ]
  },
  {
   "cell_type": "markdown",
   "id": "eb39d677-6d8b-4d3d-a761-9e9efdc0fb02",
   "metadata": {},
   "source": [
    "연습 문제: 연령의 분포가 한눈에 들어오도록 아래와 같이 그래프를 출력해보세요.\n",
    "\n",
    "x축에 출력하는 데이터의 순서도 고려하여 작성해야 합니다."
   ]
  },
  {
   "cell_type": "code",
   "execution_count": 163,
   "id": "47bb6aee-5ca0-484f-966f-7d751f07719c",
   "metadata": {},
   "outputs": [
    {
     "data": {
      "image/png": "[encoded data removed]",
      "text/plain": [
       "<Figure size 900x500 with 1 Axes>"
      ]
     },
     "metadata": {
      "needs_background": "light"
     },
     "output_type": "display_data"
    }
   ],
   "source": [
    "sns.barplot(x=survey_df[\"Age\"], y=survey_df[\"Age\"].value_counts(), order=[\"age\"])\n",
    "\n",
    "plt.title(schema_raw[\"Age\"])\n",
    "plt.show()"
   ]
  },
  {
   "cell_type": "code",
   "execution_count": 186,
   "id": "4a36cf87-901f-43db-8d82-78457aea8bd7",
   "metadata": {},
   "outputs": [
    {
     "data": {
      "image/png": "[encoded data removed]",
      "text/plain": [
       "<Figure size 1200x600 with 1 Axes>"
      ]
     },
     "metadata": {
      "needs_background": "light"
     },
     "output_type": "display_data"
    }
   ],
   "source": [
    "country_name = survey_df[\"Age\"].value_counts().index\n",
    "survey_country = survey_df[\"Age\"].value_counts()\n",
    "age_order = [\"Under 18 years old\",\n",
    "             \"18-24 years old\",\n",
    "             \"25-34 years old\",\n",
    "             \"35-44 years old\",\n",
    "             \"45-54 years old\",\n",
    "             \"55-64 years old\",\n",
    "             \"65 years or older\",\n",
    "             \"Prefer not to say\"]\n",
    "\n",
    "plt.figure(figsize=(12, 6)) # figure 사이즈를 12 x 6으로 설정합니다.\n",
    "sns.countplot(data=survey_df, x=\"Age\", order=age_order)\n",
    "plt.xticks(rotation = 90)\n",
    "plt.title(schema_raw[\"Age\"])\n",
    "plt.xlabel(\"나이\")\n",
    "plt.ylabel(\"응답자의 수\")\n",
    "plt.show()"
   ]
  },
  {
   "cell_type": "markdown",
   "id": "ad29a574-290e-4e13-bad4-a68e1db237f2",
   "metadata": {},
   "source": [
    "연습 문제: 앞의 데이터를 활용하여 아래와 같이 파이 플롯을 작성해보세요."
   ]
  },
  {
   "cell_type": "code",
   "execution_count": 192,
   "id": "e8fbcd1b-8331-4157-b86b-5ba31fe09518",
   "metadata": {},
   "outputs": [
    {
     "data": {
      "text/plain": [
       "Man                                                  64607\n",
       "Woman                                                 3399\n",
       "Prefer not to say                                     1172\n",
       "Non-binary, genderqueer, or gender non-conforming      704\n",
       "Or, in your own words:                                 279\n",
       "Name: Gender, dtype: int64"
      ]
     },
     "execution_count": 192,
     "metadata": {},
     "output_type": "execute_result"
    }
   ],
   "source": [
    "survey_df[\"Gender\"].value_counts().head()"
   ]
  },
  {
   "cell_type": "code",
   "execution_count": 204,
   "id": "53f39aa2-f178-4cae-980b-5430efe265dc",
   "metadata": {},
   "outputs": [
    {
     "name": "stdout",
     "output_type": "stream",
     "text": [
      "['Solarize_Light2', '_classic_test_patch', '_mpl-gallery', '_mpl-gallery-nogrid', 'bmh', 'classic', 'dark_background', 'fast', 'fivethirtyeight', 'ggplot', 'grayscale', 'seaborn', 'seaborn-bright', 'seaborn-colorblind', 'seaborn-dark', 'seaborn-dark-palette', 'seaborn-darkgrid', 'seaborn-deep', 'seaborn-muted', 'seaborn-notebook', 'seaborn-paper', 'seaborn-pastel', 'seaborn-poster', 'seaborn-talk', 'seaborn-ticks', 'seaborn-white', 'seaborn-whitegrid', 'tableau-colorblind10']\n"
     ]
    }
   ],
   "source": [
    "print(plt.style.available)"
   ]
  },
  {
   "cell_type": "code",
   "execution_count": 213,
   "id": "e0a4d922-308f-49c6-9885-692bc6f591bf",
   "metadata": {},
   "outputs": [
    {
     "data": {
      "image/png": "[encoded data removed]",
      "text/plain": [
       "<Figure size 900x500 with 1 Axes>"
      ]
     },
     "metadata": {},
     "output_type": "display_data"
    }
   ],
   "source": [
    "labels = ['Man', 'Woman', 'Prefer not to say',\n",
    "          'Non-binary, genderqueer, or gender non-conforming', 'Or, in your own words']\n",
    "\n",
    "plt.pie(survey_df.Gender.value_counts().head(5), labels = labels,\n",
    "        autopct = '%1.1f%%', startangle=180)\n",
    "plt.style.use('seaborn-bright')\n",
    "# plt.style.use(\"default\") 로 변경해줘야 함\n",
    "# mpl.rcParams[\"axes.facecolor\"] = \"white\"\n",
    "plt.show()"
   ]
  },
  {
   "cell_type": "code",
   "execution_count": 219,
   "id": "f95c253a-6c3d-4048-ad5d-4cb4bf2c846d",
   "metadata": {},
   "outputs": [
    {
     "data": {
      "image/png": "[encoded data removed]",
      "text/plain": [
       "<Figure size 900x500 with 1 Axes>"
      ]
     },
     "metadata": {},
     "output_type": "display_data"
    }
   ],
   "source": [
    "gender_counts = survey_df.Gender.value_counts()\n",
    "\n",
    "plt.pie(gender_counts, labels=gender_counts.index, autopct='%1.1f%%', startangle=180)\n",
    "plt.show()"
   ]
  },
  {
   "cell_type": "code",
   "execution_count": 220,
   "id": "58de65ab-2b7e-4d28-8b58-e5d348a1b997",
   "metadata": {},
   "outputs": [
    {
     "data": {
      "text/plain": [
       "'Which of the following best describes the highest level of formal education that you’ve completed? *'"
      ]
     },
     "execution_count": 220,
     "metadata": {},
     "output_type": "execute_result"
    }
   ],
   "source": [
    "schema_raw[\"EdLevel\"]"
   ]
  },
  {
   "cell_type": "code",
   "execution_count": 221,
   "id": "013dec60-3102-4731-ae32-50be499d48cf",
   "metadata": {},
   "outputs": [
    {
     "data": {
      "text/plain": [
       "Bachelor’s degree (B.A., B.S., B.Eng., etc.)                                          30050\n",
       "Master’s degree (M.A., M.S., M.Eng., MBA, etc.)                                       15394\n",
       "Some college/university study without earning a degree                                 9194\n",
       "Secondary school (e.g. American high school, German Realschule or Gymnasium, etc.)     7769\n",
       "Associate degree (A.A., A.S., etc.)                                                    2221\n",
       "Other doctoral degree (Ph.D., Ed.D., etc.)                                             2152\n",
       "Primary/elementary school                                                              1767\n",
       "Something else                                                                         1222\n",
       "Professional degree (JD, MD, etc.)                                                     1110\n",
       "Name: EdLevel, dtype: int64"
      ]
     },
     "execution_count": 221,
     "metadata": {},
     "output_type": "execute_result"
    }
   ],
   "source": [
    "survey_df[\"EdLevel\"].value_counts()"
   ]
  },
  {
   "cell_type": "markdown",
   "id": "2d4c87b2-1554-4631-a2d5-56a4e6946207",
   "metadata": {},
   "source": [
    "연습 문제: 아래 보이는 그래프를 출력하라"
   ]
  },
  {
   "cell_type": "code",
   "execution_count": 228,
   "id": "44065e06-17ee-40e4-ac1b-60366775cde4",
   "metadata": {},
   "outputs": [
    {
     "data": {
      "image/png": "[encoded data removed]",
      "text/plain": [
       "<Figure size 900x500 with 1 Axes>"
      ]
     },
     "metadata": {},
     "output_type": "display_data"
    }
   ],
   "source": [
    "sns.countplot(data=survey_df, y=\"EdLevel\")\n",
    "plt.title(schema_raw[\"EdLevel\"])\n",
    "plt.show()"
   ]
  },
  {
   "cell_type": "code",
   "execution_count": null,
   "id": "bca19458-4b08-4472-924d-5620b9733af6",
   "metadata": {},
   "outputs": [],
   "source": []
  }
 ],
 "metadata": {
  "kernelspec": {
   "display_name": "Python 3 (ipykernel)",
   "language": "python",
   "name": "python3"
  },
  "language_info": {
   "codemirror_mode": {
    "name": "ipython",
    "version": 3
   },
   "file_extension": ".py",
   "mimetype": "text/x-python",
   "name": "python",
   "nbconvert_exporter": "python",
   "pygments_lexer": "ipython3",
   "version": "3.9.13"
  }
 },
 "nbformat": 4,
 "nbformat_minor": 5
}
